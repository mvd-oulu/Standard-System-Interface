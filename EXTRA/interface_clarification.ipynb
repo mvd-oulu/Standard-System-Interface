{
 "cells": [
  {
   "cell_type": "code",
   "execution_count": 21,
   "id": "d9029ffa-28bf-4ebe-96ef-914aca8c353b",
   "metadata": {
    "tags": []
   },
   "outputs": [
    {
     "data": {
      "text/plain": [
       "Package interface_check (18d3b1e4-c088-41ce-b861-d25e1dc7db91)\n"
      ]
     },
     "execution_count": 21,
     "metadata": {},
     "output_type": "execute_result"
    }
   ],
   "source": [
    "package interface_check{\n",
    "    \n",
    "    part a{\n",
    "        in port x:X; \n",
    "    }\n",
    "    part b{\n",
    "        out port y:Y;\n",
    "    }    \n",
    "    \n",
    "    \n",
    "    interface def int {\n",
    "        end i_n;\n",
    "        end o_u;\n",
    "        flow of c from o_u.c to i_n.c;\n",
    "    }\n",
    "    \n",
    "    interface int01 : int connect a.x to b.y;\n",
    "    \n",
    "    part def A;\n",
    "    part def B;\n",
    "    \n",
    "    item c{\n",
    "        item c1;\n",
    "        item c2;\n",
    "    }\n",
    "    \n",
    "    port def X{\n",
    "        out item c2;\n",
    "    }\n",
    "    port def Y{\n",
    "        out item c2;\n",
    "    }\n",
    "    \n",
    "}"
   ]
  },
  {
   "cell_type": "code",
   "execution_count": 22,
   "id": "2ee73c00-214d-473a-92b5-b9f31a0d8e13",
   "metadata": {
    "tags": []
   },
   "outputs": [
    {
     "data": {
      "image/svg+xml": [
       "<?xml version=\"1.0\" encoding=\"UTF-8\" standalone=\"no\"?><svg xmlns=\"http://www.w3.org/2000/svg\" xmlns:xlink=\"http://www.w3.org/1999/xlink\" contentStyleType=\"text/css\" height=\"1098px\" preserveAspectRatio=\"none\" style=\"width:633px;height:1098px;background:#FFFFFF;\" version=\"1.1\" viewBox=\"0 0 633 1098\" width=\"633px\" zoomAndPan=\"magnify\"><defs/><g><!--MD5=[fbc87193dbaf4d95561dea2c320d4a47]\n",
       "cluster E1--><g id=\"cluster_E1\"><a href=\"psysml:18d3b1e4-c088-41ce-b861-d25e1dc7db91\" target=\"_top\" title=\"psysml:18d3b1e4-c088-41ce-b861-d25e1dc7db91\" xlink:actuate=\"onRequest\" xlink:href=\"psysml:18d3b1e4-c088-41ce-b861-d25e1dc7db91\" xlink:show=\"new\" xlink:title=\"psysml:18d3b1e4-c088-41ce-b861-d25e1dc7db91\" xlink:type=\"simple\"><polygon fill=\"none\" points=\"16,6,135,6,142,29.6094,616,29.6094,616,1091,16,1091,16,6\" style=\"stroke:#000000;stroke-width:1.5;\"/><line style=\"stroke:#000000;stroke-width:1.5;\" x1=\"16\" x2=\"142\" y1=\"29.6094\" y2=\"29.6094\"/><text fill=\"#000000\" font-family=\"sans-serif\" font-size=\"14\" font-weight=\"bold\" lengthAdjust=\"spacing\" textLength=\"113\" x=\"20\" y=\"22.5332\">interface_check</text></a></g><!--MD5=[e4f7fae6ed58524ba242bb0b0d3be6b7]\n",
       "cluster E2--><g id=\"cluster_E2\"><a href=\"psysml:f8a413e8-013e-443d-aa17-fd2fe660da61\" target=\"_top\" title=\"psysml:f8a413e8-013e-443d-aa17-fd2fe660da61\" xlink:actuate=\"onRequest\" xlink:href=\"psysml:f8a413e8-013e-443d-aa17-fd2fe660da61\" xlink:show=\"new\" xlink:title=\"psysml:f8a413e8-013e-443d-aa17-fd2fe660da61\" xlink:type=\"simple\"><rect fill=\"#FFFFFF\" height=\"31\" id=\"E2\" rx=\"10\" ry=\"10\" style=\"stroke:#383838;stroke-width:1.5;\" width=\"384\" x=\"117\" y=\"42\"/><text fill=\"#000000\" font-family=\"sans-serif\" font-size=\"14\" lengthAdjust=\"spacing\" textLength=\"8\" x=\"305\" y=\"61.5332\">a</text><line style=\"stroke:#383838;stroke-width:1.0;\" x1=\"117\" x2=\"501\" y1=\"69.6094\" y2=\"69.6094\"/></a></g><!--MD5=[f6df4d0ebaf0b5dfb2ced0ae5af7c670]\n",
       "cluster E4--><g id=\"cluster_E4\"><a href=\"psysml:ba2b790c-4f80-41b7-8102-804e664ddf1e\" target=\"_top\" title=\"psysml:ba2b790c-4f80-41b7-8102-804e664ddf1e\" xlink:actuate=\"onRequest\" xlink:href=\"psysml:ba2b790c-4f80-41b7-8102-804e664ddf1e\" xlink:show=\"new\" xlink:title=\"psysml:ba2b790c-4f80-41b7-8102-804e664ddf1e\" xlink:type=\"simple\"><rect fill=\"#FFFFFF\" height=\"52\" id=\"E4\" rx=\"10\" ry=\"10\" style=\"stroke:#383838;stroke-width:1.5;\" width=\"72\" x=\"528\" y=\"47\"/><text fill=\"#000000\" font-family=\"sans-serif\" font-size=\"14\" lengthAdjust=\"spacing\" textLength=\"8\" x=\"560\" y=\"66.5332\">b</text><line style=\"stroke:#383838;stroke-width:1.0;\" x1=\"528\" x2=\"600\" y1=\"74.6094\" y2=\"74.6094\"/></a></g><!--MD5=[14e3b0961a2654348d326746436168a1]\n",
       "cluster E6--><g id=\"cluster_E6\"><a href=\"psysml:f8e219ac-5d5d-4049-91f4-bd2b1dc827a0\" target=\"_top\" title=\"psysml:f8e219ac-5d5d-4049-91f4-bd2b1dc827a0\" xlink:actuate=\"onRequest\" xlink:href=\"psysml:f8e219ac-5d5d-4049-91f4-bd2b1dc827a0\" xlink:show=\"new\" xlink:title=\"psysml:f8e219ac-5d5d-4049-91f4-bd2b1dc827a0\" xlink:type=\"simple\"><rect fill=\"#FFFFFF\" height=\"424\" id=\"E6\" style=\"stroke:#383838;stroke-width:1.5;\" width=\"421\" x=\"40\" y=\"110\"/><text fill=\"#000000\" font-family=\"sans-serif\" font-size=\"12\" font-style=\"italic\" lengthAdjust=\"spacing\" textLength=\"84\" x=\"208.5\" y=\"127.457\">«interface  def»</text><text fill=\"#000000\" font-family=\"sans-serif\" font-size=\"14\" lengthAdjust=\"spacing\" textLength=\"15\" x=\"243\" y=\"144.627\">int</text><line style=\"stroke:#383838;stroke-width:1.0;\" x1=\"40\" x2=\"461\" y1=\"152.7031\" y2=\"152.7031\"/></a></g><!--MD5=[a84b4591f868c1fa4a211716a82f2f0d]\n",
       "cluster E10--><g id=\"cluster_E10\"><a href=\"psysml:0bc0cd53-3ae9-4e62-8b91-0a1a6cf2e222\" target=\"_top\" title=\"psysml:0bc0cd53-3ae9-4e62-8b91-0a1a6cf2e222\" xlink:actuate=\"onRequest\" xlink:href=\"psysml:0bc0cd53-3ae9-4e62-8b91-0a1a6cf2e222\" xlink:show=\"new\" xlink:title=\"psysml:0bc0cd53-3ae9-4e62-8b91-0a1a6cf2e222\" xlink:type=\"simple\"><rect fill=\"#FFFFFF\" height=\"338\" id=\"E10\" rx=\"10\" ry=\"10\" style=\"stroke:#383838;stroke-width:1.5;\" width=\"162\" x=\"275\" y=\"172\"/><text fill=\"#000000\" font-family=\"sans-serif\" font-size=\"12\" font-style=\"italic\" lengthAdjust=\"spacing\" textLength=\"35\" x=\"338.5\" y=\"189.457\">«port»</text><text fill=\"#000000\" font-family=\"sans-serif\" font-size=\"14\" lengthAdjust=\"spacing\" textLength=\"19\" x=\"342.5\" y=\"206.627\">i_n</text><line style=\"stroke:#383838;stroke-width:1.0;\" x1=\"275\" x2=\"437\" y1=\"214.7031\" y2=\"214.7031\"/></a></g><!--MD5=[168fadf3d0c3fd93dd5d6da1b1d7ab76]\n",
       "cluster E7--><g id=\"cluster_E7\"><a href=\"psysml:248e3e7e-ce1e-4d5a-a765-8a7d89c06c8c\" target=\"_top\" title=\"psysml:248e3e7e-ce1e-4d5a-a765-8a7d89c06c8c\" xlink:actuate=\"onRequest\" xlink:href=\"psysml:248e3e7e-ce1e-4d5a-a765-8a7d89c06c8c\" xlink:show=\"new\" xlink:title=\"psysml:248e3e7e-ce1e-4d5a-a765-8a7d89c06c8c\" xlink:type=\"simple\"><rect fill=\"#FFFFFF\" height=\"236\" id=\"E7\" rx=\"10\" ry=\"10\" style=\"stroke:#383838;stroke-width:1.5;\" width=\"98\" x=\"307\" y=\"242\"/><text fill=\"#000000\" font-family=\"sans-serif\" font-size=\"12\" font-style=\"italic\" lengthAdjust=\"spacing\" textLength=\"38\" x=\"337\" y=\"259.457\">«item»</text><text fill=\"#000000\" font-family=\"sans-serif\" font-size=\"14\" lengthAdjust=\"spacing\" textLength=\"12\" x=\"350\" y=\"276.627\">^c</text><line style=\"stroke:#383838;stroke-width:1.0;\" x1=\"307\" x2=\"405\" y1=\"284.7031\" y2=\"284.7031\"/></a></g><!--MD5=[bcf29f0808fc96f19b1afbee8cfc1f11]\n",
       "cluster E14--><g id=\"cluster_E14\"><a href=\"psysml:1836e6e9-2098-480d-86d0-9d8f3262e2e9\" target=\"_top\" title=\"psysml:1836e6e9-2098-480d-86d0-9d8f3262e2e9\" xlink:actuate=\"onRequest\" xlink:href=\"psysml:1836e6e9-2098-480d-86d0-9d8f3262e2e9\" xlink:show=\"new\" xlink:title=\"psysml:1836e6e9-2098-480d-86d0-9d8f3262e2e9\" xlink:type=\"simple\"><rect fill=\"#FFFFFF\" height=\"338\" id=\"E14\" rx=\"10\" ry=\"10\" style=\"stroke:#383838;stroke-width:1.5;\" width=\"162\" x=\"64\" y=\"172\"/><text fill=\"#000000\" font-family=\"sans-serif\" font-size=\"12\" font-style=\"italic\" lengthAdjust=\"spacing\" textLength=\"35\" x=\"127.5\" y=\"189.457\">«port»</text><text fill=\"#000000\" font-family=\"sans-serif\" font-size=\"14\" lengthAdjust=\"spacing\" textLength=\"24\" x=\"129\" y=\"206.627\">o_u</text><line style=\"stroke:#383838;stroke-width:1.0;\" x1=\"64\" x2=\"226\" y1=\"214.7031\" y2=\"214.7031\"/></a></g><!--MD5=[917b9dd0c7eca3ee5f47219d1a84c0ad]\n",
       "cluster E11--><g id=\"cluster_E11\"><a href=\"psysml:248e3e7e-ce1e-4d5a-a765-8a7d89c06c8c\" target=\"_top\" title=\"psysml:248e3e7e-ce1e-4d5a-a765-8a7d89c06c8c\" xlink:actuate=\"onRequest\" xlink:href=\"psysml:248e3e7e-ce1e-4d5a-a765-8a7d89c06c8c\" xlink:show=\"new\" xlink:title=\"psysml:248e3e7e-ce1e-4d5a-a765-8a7d89c06c8c\" xlink:type=\"simple\"><rect fill=\"#FFFFFF\" height=\"236\" id=\"E11\" rx=\"10\" ry=\"10\" style=\"stroke:#383838;stroke-width:1.5;\" width=\"98\" x=\"96\" y=\"242\"/><text fill=\"#000000\" font-family=\"sans-serif\" font-size=\"12\" font-style=\"italic\" lengthAdjust=\"spacing\" textLength=\"38\" x=\"126\" y=\"259.457\">«item»</text><text fill=\"#000000\" font-family=\"sans-serif\" font-size=\"14\" lengthAdjust=\"spacing\" textLength=\"12\" x=\"139\" y=\"276.627\">^c</text><line style=\"stroke:#383838;stroke-width:1.0;\" x1=\"96\" x2=\"194\" y1=\"284.7031\" y2=\"284.7031\"/></a></g><!--MD5=[3e4be939245ddbd2da6080b60acb37a8]\n",
       "cluster E17--><g id=\"cluster_E17\"><a href=\"psysml:248e3e7e-ce1e-4d5a-a765-8a7d89c06c8c\" target=\"_top\" title=\"psysml:248e3e7e-ce1e-4d5a-a765-8a7d89c06c8c\" xlink:actuate=\"onRequest\" xlink:href=\"psysml:248e3e7e-ce1e-4d5a-a765-8a7d89c06c8c\" xlink:show=\"new\" xlink:title=\"psysml:248e3e7e-ce1e-4d5a-a765-8a7d89c06c8c\" xlink:type=\"simple\"><rect fill=\"#FFFFFF\" height=\"201\" id=\"E17\" rx=\"10\" ry=\"10\" style=\"stroke:#383838;stroke-width:1.5;\" width=\"82\" x=\"104\" y=\"558\"/><text fill=\"#000000\" font-family=\"sans-serif\" font-size=\"12\" font-style=\"italic\" lengthAdjust=\"spacing\" textLength=\"38\" x=\"126\" y=\"575.457\">«item»</text><text fill=\"#000000\" font-family=\"sans-serif\" font-size=\"14\" lengthAdjust=\"spacing\" textLength=\"7\" x=\"141.5\" y=\"592.627\">c</text><line style=\"stroke:#383838;stroke-width:1.0;\" x1=\"104\" x2=\"186\" y1=\"600.7031\" y2=\"600.7031\"/></a></g><g><a href=\"psysml:2f070261-984b-4fa6-9e5b-e496602d8712\" target=\"_top\" title=\"psysml:2f070261-984b-4fa6-9e5b-e496602d8712\" xlink:actuate=\"onRequest\" xlink:href=\"psysml:2f070261-984b-4fa6-9e5b-e496602d8712\" xlink:show=\"new\" xlink:title=\"psysml:2f070261-984b-4fa6-9e5b-e496602d8712\" xlink:type=\"simple\"><rect fill=\"#FFFFFF\" height=\"47.7031\" id=\"E20\" style=\"stroke:#383838;stroke-width:1.5;\" width=\"65\" x=\"112.5\" y=\"778\"/><text fill=\"#000000\" font-family=\"sans-serif\" font-size=\"12\" font-style=\"italic\" lengthAdjust=\"spacing\" textLength=\"58\" x=\"116\" y=\"795.457\">«port  def»</text><text fill=\"#000000\" font-family=\"sans-serif\" font-size=\"14\" lengthAdjust=\"spacing\" textLength=\"8\" x=\"141\" y=\"812.627\">X</text></a></g><g><a href=\"psysml:4cd9c54d-a2e8-41af-b85d-ec5a202fe1cd\" target=\"_top\" title=\"psysml:4cd9c54d-a2e8-41af-b85d-ec5a202fe1cd\" xlink:actuate=\"onRequest\" xlink:href=\"psysml:4cd9c54d-a2e8-41af-b85d-ec5a202fe1cd\" xlink:show=\"new\" xlink:title=\"psysml:4cd9c54d-a2e8-41af-b85d-ec5a202fe1cd\" xlink:type=\"simple\"><rect fill=\"#FFFFFF\" height=\"47.7031\" id=\"E21\" style=\"stroke:#383838;stroke-width:1.5;\" width=\"65\" x=\"112.5\" y=\"861\"/><text fill=\"#000000\" font-family=\"sans-serif\" font-size=\"12\" font-style=\"italic\" lengthAdjust=\"spacing\" textLength=\"58\" x=\"116\" y=\"878.457\">«port  def»</text><text fill=\"#000000\" font-family=\"sans-serif\" font-size=\"14\" lengthAdjust=\"spacing\" textLength=\"9\" x=\"140.5\" y=\"895.627\">Y</text></a></g><text fill=\"#000000\" font-family=\"sans-serif\" font-size=\"14\" lengthAdjust=\"spacing\" textLength=\"22\" x=\"468\" y=\"93.5332\">x: X</text><rect fill=\"#FFFFFF\" height=\"12\" style=\"stroke:#181818;stroke-width:1.5;\" width=\"12\" x=\"477\" y=\"67\"/><text fill=\"#000000\" font-family=\"sans-serif\" font-size=\"14\" lengthAdjust=\"spacing\" textLength=\"24\" x=\"512\" y=\"51.9238\">y: Y</text><rect fill=\"#FFFFFF\" height=\"12\" style=\"stroke:#181818;stroke-width:1.5;\" width=\"12\" x=\"522\" y=\"67\"/><g><a href=\"psysml:0397d5e9-5408-49eb-ab90-2014569466c7\" target=\"_top\" title=\"psysml:0397d5e9-5408-49eb-ab90-2014569466c7\" xlink:actuate=\"onRequest\" xlink:href=\"psysml:0397d5e9-5408-49eb-ab90-2014569466c7\" xlink:show=\"new\" xlink:title=\"psysml:0397d5e9-5408-49eb-ab90-2014569466c7\" xlink:type=\"simple\"><rect fill=\"#FFFFFF\" height=\"47.7031\" id=\"E8\" rx=\"10\" ry=\"10\" style=\"stroke:#383838;stroke-width:1.5;\" width=\"50\" x=\"331\" y=\"304\"/><text fill=\"#000000\" font-family=\"sans-serif\" font-size=\"12\" font-style=\"italic\" lengthAdjust=\"spacing\" textLength=\"38\" x=\"337\" y=\"321.457\">«item»</text><text fill=\"#000000\" font-family=\"sans-serif\" font-size=\"14\" lengthAdjust=\"spacing\" textLength=\"15\" x=\"348.5\" y=\"338.627\">c1</text></a></g><g><a href=\"psysml:33255e4f-19c3-46c6-8190-18fce8c298c4\" target=\"_top\" title=\"psysml:33255e4f-19c3-46c6-8190-18fce8c298c4\" xlink:actuate=\"onRequest\" xlink:href=\"psysml:33255e4f-19c3-46c6-8190-18fce8c298c4\" xlink:show=\"new\" xlink:title=\"psysml:33255e4f-19c3-46c6-8190-18fce8c298c4\" xlink:type=\"simple\"><rect fill=\"#FFFFFF\" height=\"47.7031\" id=\"E9\" rx=\"10\" ry=\"10\" style=\"stroke:#383838;stroke-width:1.5;\" width=\"50\" x=\"331\" y=\"387\"/><text fill=\"#000000\" font-family=\"sans-serif\" font-size=\"12\" font-style=\"italic\" lengthAdjust=\"spacing\" textLength=\"38\" x=\"337\" y=\"404.457\">«item»</text><text fill=\"#000000\" font-family=\"sans-serif\" font-size=\"14\" lengthAdjust=\"spacing\" textLength=\"15\" x=\"348.5\" y=\"421.627\">c2</text></a></g><g><a href=\"psysml:0397d5e9-5408-49eb-ab90-2014569466c7\" target=\"_top\" title=\"psysml:0397d5e9-5408-49eb-ab90-2014569466c7\" xlink:actuate=\"onRequest\" xlink:href=\"psysml:0397d5e9-5408-49eb-ab90-2014569466c7\" xlink:show=\"new\" xlink:title=\"psysml:0397d5e9-5408-49eb-ab90-2014569466c7\" xlink:type=\"simple\"><rect fill=\"#FFFFFF\" height=\"47.7031\" id=\"E12\" rx=\"10\" ry=\"10\" style=\"stroke:#383838;stroke-width:1.5;\" width=\"50\" x=\"120\" y=\"304\"/><text fill=\"#000000\" font-family=\"sans-serif\" font-size=\"12\" font-style=\"italic\" lengthAdjust=\"spacing\" textLength=\"38\" x=\"126\" y=\"321.457\">«item»</text><text fill=\"#000000\" font-family=\"sans-serif\" font-size=\"14\" lengthAdjust=\"spacing\" textLength=\"15\" x=\"137.5\" y=\"338.627\">c1</text></a></g><g><a href=\"psysml:33255e4f-19c3-46c6-8190-18fce8c298c4\" target=\"_top\" title=\"psysml:33255e4f-19c3-46c6-8190-18fce8c298c4\" xlink:actuate=\"onRequest\" xlink:href=\"psysml:33255e4f-19c3-46c6-8190-18fce8c298c4\" xlink:show=\"new\" xlink:title=\"psysml:33255e4f-19c3-46c6-8190-18fce8c298c4\" xlink:type=\"simple\"><rect fill=\"#FFFFFF\" height=\"47.7031\" id=\"E13\" rx=\"10\" ry=\"10\" style=\"stroke:#383838;stroke-width:1.5;\" width=\"50\" x=\"120\" y=\"387\"/><text fill=\"#000000\" font-family=\"sans-serif\" font-size=\"12\" font-style=\"italic\" lengthAdjust=\"spacing\" textLength=\"38\" x=\"126\" y=\"404.457\">«item»</text><text fill=\"#000000\" font-family=\"sans-serif\" font-size=\"14\" lengthAdjust=\"spacing\" textLength=\"15\" x=\"137.5\" y=\"421.627\">c2</text></a></g><g><a href=\"psysml:54d2a498-6736-42a1-af83-f62c0245e5fe\" target=\"_top\" title=\"psysml:54d2a498-6736-42a1-af83-f62c0245e5fe\" xlink:actuate=\"onRequest\" xlink:href=\"psysml:54d2a498-6736-42a1-af83-f62c0245e5fe\" xlink:show=\"new\" xlink:title=\"psysml:54d2a498-6736-42a1-af83-f62c0245e5fe\" xlink:type=\"simple\"><rect fill=\"#FFFFFF\" height=\"47.7031\" id=\"E15\" style=\"stroke:#383838;stroke-width:1.5;\" width=\"65\" x=\"112.5\" y=\"944\"/><text fill=\"#000000\" font-family=\"sans-serif\" font-size=\"12\" font-style=\"italic\" lengthAdjust=\"spacing\" textLength=\"58\" x=\"116\" y=\"961.457\">«part  def»</text><text fill=\"#000000\" font-family=\"sans-serif\" font-size=\"14\" lengthAdjust=\"spacing\" textLength=\"9\" x=\"140.5\" y=\"978.627\">A</text></a></g><g><a href=\"psysml:d96db72b-b14d-4f31-aaad-f1b0033c7424\" target=\"_top\" title=\"psysml:d96db72b-b14d-4f31-aaad-f1b0033c7424\" xlink:actuate=\"onRequest\" xlink:href=\"psysml:d96db72b-b14d-4f31-aaad-f1b0033c7424\" xlink:show=\"new\" xlink:title=\"psysml:d96db72b-b14d-4f31-aaad-f1b0033c7424\" xlink:type=\"simple\"><rect fill=\"#FFFFFF\" height=\"47.7031\" id=\"E16\" style=\"stroke:#383838;stroke-width:1.5;\" width=\"65\" x=\"112.5\" y=\"1027\"/><text fill=\"#000000\" font-family=\"sans-serif\" font-size=\"12\" font-style=\"italic\" lengthAdjust=\"spacing\" textLength=\"58\" x=\"116\" y=\"1044.457\">«part  def»</text><text fill=\"#000000\" font-family=\"sans-serif\" font-size=\"14\" lengthAdjust=\"spacing\" textLength=\"9\" x=\"140.5\" y=\"1061.627\">B</text></a></g><g><a href=\"psysml:0397d5e9-5408-49eb-ab90-2014569466c7\" target=\"_top\" title=\"psysml:0397d5e9-5408-49eb-ab90-2014569466c7\" xlink:actuate=\"onRequest\" xlink:href=\"psysml:0397d5e9-5408-49eb-ab90-2014569466c7\" xlink:show=\"new\" xlink:title=\"psysml:0397d5e9-5408-49eb-ab90-2014569466c7\" xlink:type=\"simple\"><rect fill=\"#FFFFFF\" height=\"47.7031\" id=\"E18\" rx=\"10\" ry=\"10\" style=\"stroke:#383838;stroke-width:1.5;\" width=\"50\" x=\"120\" y=\"612\"/><text fill=\"#000000\" font-family=\"sans-serif\" font-size=\"12\" font-style=\"italic\" lengthAdjust=\"spacing\" textLength=\"38\" x=\"126\" y=\"629.457\">«item»</text><text fill=\"#000000\" font-family=\"sans-serif\" font-size=\"14\" lengthAdjust=\"spacing\" textLength=\"15\" x=\"137.5\" y=\"646.627\">c1</text></a></g><g><a href=\"psysml:33255e4f-19c3-46c6-8190-18fce8c298c4\" target=\"_top\" title=\"psysml:33255e4f-19c3-46c6-8190-18fce8c298c4\" xlink:actuate=\"onRequest\" xlink:href=\"psysml:33255e4f-19c3-46c6-8190-18fce8c298c4\" xlink:show=\"new\" xlink:title=\"psysml:33255e4f-19c3-46c6-8190-18fce8c298c4\" xlink:type=\"simple\"><rect fill=\"#FFFFFF\" height=\"47.7031\" id=\"E19\" rx=\"10\" ry=\"10\" style=\"stroke:#383838;stroke-width:1.5;\" width=\"50\" x=\"120\" y=\"695\"/><text fill=\"#000000\" font-family=\"sans-serif\" font-size=\"12\" font-style=\"italic\" lengthAdjust=\"spacing\" textLength=\"38\" x=\"126\" y=\"712.457\">«item»</text><text fill=\"#000000\" font-family=\"sans-serif\" font-size=\"14\" lengthAdjust=\"spacing\" textLength=\"15\" x=\"137.5\" y=\"729.627\">c2</text></a></g><!--MD5=[41ed9f8af792e4462e62a86c9f6b57b4]\n",
       "link E11 to E7--><g id=\"link_E11_E7\"><a href=\"psysml:b2550f46-7285-4117-9048-3c7a7a1a617e\" target=\"_top\" title=\"psysml:b2550f46-7285-4117-9048-3c7a7a1a617e\" xlink:actuate=\"onRequest\" xlink:href=\"psysml:b2550f46-7285-4117-9048-3c7a7a1a617e\" xlink:show=\"new\" xlink:title=\"psysml:b2550f46-7285-4117-9048-3c7a7a1a617e\" xlink:type=\"simple\"><path d=\"M194.0334,470 C194.7113,470 195.3937,470 196.0805,470 C201.5747,470 207.3473,470 213.3055,470 C225.2217,470 237.88,470 250.5375,470 C263.195,470 275.8517,470 287.7648,470 C293.7214,470 299.4921,470 304.984,470 C305.3272,470 305.6694,470 306.0104,470 C306.181,470 306.3512,470 306.5212,470 \" fill=\"none\" id=\"E11-to-E7\" style=\"stroke:#181818;stroke-width:1.0;\"/><polygon fill=\"#181818\" points=\"306.5212,470,297.5212,466,301.5212,470,297.5212,474,306.5212,470\" style=\"stroke:#181818;stroke-width:1.0;\"/><text fill=\"#000000\" font-family=\"sans-serif\" font-size=\"13\" lengthAdjust=\"spacing\" textLength=\"15\" x=\"243\" y=\"466.4951\">: c</text></a></g><!--MD5=[0188b64bb0ae78505a997a81836e11e9]\n",
       "link E3 to E5--><g id=\"link_E3_E5\"><a href=\"psysml:afd240c9-3f45-4413-afa0-cf33310556c8\" target=\"_top\" title=\"psysml:afd240c9-3f45-4413-afa0-cf33310556c8\" xlink:actuate=\"onRequest\" xlink:href=\"psysml:afd240c9-3f45-4413-afa0-cf33310556c8\" xlink:show=\"new\" xlink:title=\"psysml:afd240c9-3f45-4413-afa0-cf33310556c8\" xlink:type=\"simple\"><path d=\"M489.27,73 C497.62,73 513.75,73 521.95,73 \" fill=\"none\" id=\"E3-E5\" style=\"stroke:#181818;stroke-width:3.0;\"/></a></g><!--MD5=[e903a97f3e2e3fea7223f7f51018637b]\n",
       "@startuml\r\n",
       "skin sysmlbw\r\n",
       "skinparam monochrome true\r\n",
       "skinparam wrapWidth 300\r\n",
       "hide circle\r\n",
       "left to right direction\r\n",
       "skinparam ranksep 10\r\n",
       "skinparam rectangle {\r\n",
       " backgroundColor<<block>> LightGreen\r\n",
       "}\r\n",
       "\r\n",
       "package \"interface_check\" as E1  [[psysml:18d3b1e4-c088-41ce-b861-d25e1dc7db91 ]]  {\r\n",
       "rec usage \"a\" as E2 [[psysml:f8a413e8-013e-443d-aa17-fd2fe660da61 ]] {\r\n",
       "portout \"x: X  \" as E3  <<(T,blue) port>> [[psysml:02d194d9-5e6a-485f-81fd-f3d5f37d70da ]] \r\n",
       "}\r\n",
       "rec usage \"b\" as E4 [[psysml:ba2b790c-4f80-41b7-8102-804e664ddf1e ]] {\r\n",
       "portin \"y: Y  \" as E5  <<(T,blue) port>> [[psysml:1b17514a-6806-4447-82f7-dc935daa0433 ]] \r\n",
       "}\r\n",
       "rec def \"int\" as E6  <<(T,blue) interface  def>> [[psysml:f8e219ac-5d5d-4049-91f4-bd2b1dc827a0 ]] {\r\n",
       "rec usage \"i_n  \" as E10  <<(T,blue) port>> [[psysml:0bc0cd53-3ae9-4e62-8b91-0a1a6cf2e222 ]] {\r\n",
       "rec usage \"^c\" as E7  <<(T,blue) item>> [[psysml:248e3e7e-ce1e-4d5a-a765-8a7d89c06c8c ]] {\r\n",
       "rec usage \"c1\" as E8  <<(T,blue) item>> [[psysml:0397d5e9-5408-49eb-ab90-2014569466c7 ]] {\r\n",
       "}\r\n",
       "rec usage \"c2\" as E9  <<(T,blue) item>> [[psysml:33255e4f-19c3-46c6-8190-18fce8c298c4 ]] {\r\n",
       "}\r\n",
       "}\r\n",
       "}\r\n",
       "rec usage \"o_u  \" as E14  <<(T,blue) port>> [[psysml:1836e6e9-2098-480d-86d0-9d8f3262e2e9 ]] {\r\n",
       "rec usage \"^c\" as E11  <<(T,blue) item>> [[psysml:248e3e7e-ce1e-4d5a-a765-8a7d89c06c8c ]] {\r\n",
       "rec usage \"c1\" as E12  <<(T,blue) item>> [[psysml:0397d5e9-5408-49eb-ab90-2014569466c7 ]] {\r\n",
       "}\r\n",
       "rec usage \"c2\" as E13  <<(T,blue) item>> [[psysml:33255e4f-19c3-46c6-8190-18fce8c298c4 ]] {\r\n",
       "}\r\n",
       "}\r\n",
       "}\r\n",
       "}\r\n",
       "rec def \"A\" as E15  <<(T,blue) part  def>> [[psysml:54d2a498-6736-42a1-af83-f62c0245e5fe ]] {\r\n",
       "}\r\n",
       "rec def \"B\" as E16  <<(T,blue) part  def>> [[psysml:d96db72b-b14d-4f31-aaad-f1b0033c7424 ]] {\r\n",
       "}\r\n",
       "rec usage \"c\" as E17  <<(T,blue) item>> [[psysml:248e3e7e-ce1e-4d5a-a765-8a7d89c06c8c ]] {\r\n",
       "rec usage \"c1\" as E18  <<(T,blue) item>> [[psysml:0397d5e9-5408-49eb-ab90-2014569466c7 ]] {\r\n",
       "}\r\n",
       "rec usage \"c2\" as E19  <<(T,blue) item>> [[psysml:33255e4f-19c3-46c6-8190-18fce8c298c4 ]] {\r\n",
       "}\r\n",
       "}\r\n",
       "def \"X\" as E20  <<(T,blue) port  def>> [[psysml:2f070261-984b-4fa6-9e5b-e496602d8712 ]] \r\n",
       "def \"Y\" as E21  <<(T,blue) port  def>> [[psysml:4cd9c54d-a2e8-41af-b85d-ec5a202fe1cd ]] \r\n",
       "}\r\n",
       "E11 - -> E7 [[psysml:b2550f46-7285-4117-9048-3c7a7a1a617e ]] : : c\r\n",
       "E3 -[thickness=3]- E5 [[psysml:afd240c9-3f45-4413-afa0-cf33310556c8 ]] \r\n",
       "@enduml\r\n",
       "\n",
       "PlantUML version 1.2022.7(Mon Aug 22 20:01:30 EEST 2022)\n",
       "(EPL source distribution)\n",
       "Java Runtime: OpenJDK Runtime Environment\n",
       "JVM: OpenJDK 64-Bit Server VM\n",
       "Default Encoding: UTF-8\n",
       "Language: en\n",
       "Country: US\n",
       "--></g></svg>"
      ]
     },
     "execution_count": 22,
     "metadata": {},
     "output_type": "execute_result"
    }
   ],
   "source": [
    "%viz --view=INTERCONNECTION --style=LR interface_check"
   ]
  },
  {
   "cell_type": "code",
   "execution_count": 25,
   "id": "1268fb73-165f-4464-850c-1c292ea127f9",
   "metadata": {
    "tags": []
   },
   "outputs": [
    {
     "data": {
      "text/plain": [
       "Package interface_check1 (49b63821-7d4d-4be3-87a6-48056fe99391)\n"
      ]
     },
     "execution_count": 25,
     "metadata": {},
     "output_type": "execute_result"
    }
   ],
   "source": [
    "package interface_check1{\n",
    "    \n",
    "    part a{\n",
    "        in port x:X; \n",
    "    }\n",
    "    part b{\n",
    "        out port y:Y;\n",
    "    }    \n",
    "    \n",
    "    \n",
    "    interface def int {\n",
    "        end i_n:X; // the difference is that the ends of interface typed with the port type\n",
    "        end o_u:Y;\n",
    "        flow of c from o_u.c to i_n.c;\n",
    "    }\n",
    "    \n",
    "    interface int01 : int connect a.x to b.y;\n",
    "    \n",
    "    part def A;\n",
    "    part def B;\n",
    "    \n",
    "    item c{\n",
    "        item c1;\n",
    "        item c2;\n",
    "    }\n",
    "    \n",
    "    port def X{\n",
    "        out item c2;\n",
    "    }\n",
    "    port def Y{\n",
    "        out item c2;\n",
    "    }\n",
    "    \n",
    "}"
   ]
  },
  {
   "cell_type": "code",
   "execution_count": 26,
   "id": "77981567-cf27-470e-a131-58caa5fcdb88",
   "metadata": {
    "tags": []
   },
   "outputs": [
    {
     "data": {
      "image/svg+xml": [
       "<?xml version=\"1.0\" encoding=\"UTF-8\" standalone=\"no\"?><svg xmlns=\"http://www.w3.org/2000/svg\" xmlns:xlink=\"http://www.w3.org/1999/xlink\" contentStyleType=\"text/css\" height=\"1098px\" preserveAspectRatio=\"none\" style=\"width:633px;height:1098px;background:#FFFFFF;\" version=\"1.1\" viewBox=\"0 0 633 1098\" width=\"633px\" zoomAndPan=\"magnify\"><defs/><g><!--MD5=[fbc87193dbaf4d95561dea2c320d4a47]\n",
       "cluster E1--><g id=\"cluster_E1\"><a href=\"psysml:b443c2fa-596f-4355-9978-3d1432d7932b\" target=\"_top\" title=\"psysml:b443c2fa-596f-4355-9978-3d1432d7932b\" xlink:actuate=\"onRequest\" xlink:href=\"psysml:b443c2fa-596f-4355-9978-3d1432d7932b\" xlink:show=\"new\" xlink:title=\"psysml:b443c2fa-596f-4355-9978-3d1432d7932b\" xlink:type=\"simple\"><polygon fill=\"none\" points=\"16,6,135,6,142,29.6094,616,29.6094,616,1091,16,1091,16,6\" style=\"stroke:#000000;stroke-width:1.5;\"/><line style=\"stroke:#000000;stroke-width:1.5;\" x1=\"16\" x2=\"142\" y1=\"29.6094\" y2=\"29.6094\"/><text fill=\"#000000\" font-family=\"sans-serif\" font-size=\"14\" font-weight=\"bold\" lengthAdjust=\"spacing\" textLength=\"113\" x=\"20\" y=\"22.5332\">interface_check</text></a></g><!--MD5=[e4f7fae6ed58524ba242bb0b0d3be6b7]\n",
       "cluster E2--><g id=\"cluster_E2\"><a href=\"psysml:583eaef2-0005-4dbb-89be-51ce62626e85\" target=\"_top\" title=\"psysml:583eaef2-0005-4dbb-89be-51ce62626e85\" xlink:actuate=\"onRequest\" xlink:href=\"psysml:583eaef2-0005-4dbb-89be-51ce62626e85\" xlink:show=\"new\" xlink:title=\"psysml:583eaef2-0005-4dbb-89be-51ce62626e85\" xlink:type=\"simple\"><rect fill=\"#FFFFFF\" height=\"31\" id=\"E2\" rx=\"10\" ry=\"10\" style=\"stroke:#383838;stroke-width:1.5;\" width=\"384\" x=\"117\" y=\"42\"/><text fill=\"#000000\" font-family=\"sans-serif\" font-size=\"14\" lengthAdjust=\"spacing\" textLength=\"8\" x=\"305\" y=\"61.5332\">a</text><line style=\"stroke:#383838;stroke-width:1.0;\" x1=\"117\" x2=\"501\" y1=\"69.6094\" y2=\"69.6094\"/></a></g><!--MD5=[f6df4d0ebaf0b5dfb2ced0ae5af7c670]\n",
       "cluster E4--><g id=\"cluster_E4\"><a href=\"psysml:aa80bcfb-6b07-472d-9ed6-605cbf945254\" target=\"_top\" title=\"psysml:aa80bcfb-6b07-472d-9ed6-605cbf945254\" xlink:actuate=\"onRequest\" xlink:href=\"psysml:aa80bcfb-6b07-472d-9ed6-605cbf945254\" xlink:show=\"new\" xlink:title=\"psysml:aa80bcfb-6b07-472d-9ed6-605cbf945254\" xlink:type=\"simple\"><rect fill=\"#FFFFFF\" height=\"52\" id=\"E4\" rx=\"10\" ry=\"10\" style=\"stroke:#383838;stroke-width:1.5;\" width=\"72\" x=\"528\" y=\"47\"/><text fill=\"#000000\" font-family=\"sans-serif\" font-size=\"14\" lengthAdjust=\"spacing\" textLength=\"8\" x=\"560\" y=\"66.5332\">b</text><line style=\"stroke:#383838;stroke-width:1.0;\" x1=\"528\" x2=\"600\" y1=\"74.6094\" y2=\"74.6094\"/></a></g><!--MD5=[14e3b0961a2654348d326746436168a1]\n",
       "cluster E6--><g id=\"cluster_E6\"><a href=\"psysml:13506c3d-a311-4728-aa01-8ae71e956c48\" target=\"_top\" title=\"psysml:13506c3d-a311-4728-aa01-8ae71e956c48\" xlink:actuate=\"onRequest\" xlink:href=\"psysml:13506c3d-a311-4728-aa01-8ae71e956c48\" xlink:show=\"new\" xlink:title=\"psysml:13506c3d-a311-4728-aa01-8ae71e956c48\" xlink:type=\"simple\"><rect fill=\"#FFFFFF\" height=\"424\" id=\"E6\" style=\"stroke:#383838;stroke-width:1.5;\" width=\"421\" x=\"40\" y=\"110\"/><text fill=\"#000000\" font-family=\"sans-serif\" font-size=\"12\" font-style=\"italic\" lengthAdjust=\"spacing\" textLength=\"84\" x=\"208.5\" y=\"127.457\">«interface  def»</text><text fill=\"#000000\" font-family=\"sans-serif\" font-size=\"14\" lengthAdjust=\"spacing\" textLength=\"15\" x=\"243\" y=\"144.627\">int</text><line style=\"stroke:#383838;stroke-width:1.0;\" x1=\"40\" x2=\"461\" y1=\"152.7031\" y2=\"152.7031\"/></a></g><!--MD5=[a84b4591f868c1fa4a211716a82f2f0d]\n",
       "cluster E10--><g id=\"cluster_E10\"><a href=\"psysml:6fbff5d8-0abd-4a00-aee8-a973fe73cbc4\" target=\"_top\" title=\"psysml:6fbff5d8-0abd-4a00-aee8-a973fe73cbc4\" xlink:actuate=\"onRequest\" xlink:href=\"psysml:6fbff5d8-0abd-4a00-aee8-a973fe73cbc4\" xlink:show=\"new\" xlink:title=\"psysml:6fbff5d8-0abd-4a00-aee8-a973fe73cbc4\" xlink:type=\"simple\"><rect fill=\"#FFFFFF\" height=\"338\" id=\"E10\" rx=\"10\" ry=\"10\" style=\"stroke:#383838;stroke-width:1.5;\" width=\"162\" x=\"275\" y=\"172\"/><text fill=\"#000000\" font-family=\"sans-serif\" font-size=\"12\" font-style=\"italic\" lengthAdjust=\"spacing\" textLength=\"35\" x=\"338.5\" y=\"189.457\">«port»</text><text fill=\"#000000\" font-family=\"sans-serif\" font-size=\"14\" lengthAdjust=\"spacing\" textLength=\"35\" x=\"334.5\" y=\"206.627\">i_n: X</text><line style=\"stroke:#383838;stroke-width:1.0;\" x1=\"275\" x2=\"437\" y1=\"214.7031\" y2=\"214.7031\"/></a></g><!--MD5=[168fadf3d0c3fd93dd5d6da1b1d7ab76]\n",
       "cluster E7--><g id=\"cluster_E7\"><a href=\"psysml:99a745e1-cf63-457a-ac66-f2d7adbe3096\" target=\"_top\" title=\"psysml:99a745e1-cf63-457a-ac66-f2d7adbe3096\" xlink:actuate=\"onRequest\" xlink:href=\"psysml:99a745e1-cf63-457a-ac66-f2d7adbe3096\" xlink:show=\"new\" xlink:title=\"psysml:99a745e1-cf63-457a-ac66-f2d7adbe3096\" xlink:type=\"simple\"><rect fill=\"#FFFFFF\" height=\"236\" id=\"E7\" rx=\"10\" ry=\"10\" style=\"stroke:#383838;stroke-width:1.5;\" width=\"98\" x=\"307\" y=\"242\"/><text fill=\"#000000\" font-family=\"sans-serif\" font-size=\"12\" font-style=\"italic\" lengthAdjust=\"spacing\" textLength=\"38\" x=\"337\" y=\"259.457\">«item»</text><text fill=\"#000000\" font-family=\"sans-serif\" font-size=\"14\" lengthAdjust=\"spacing\" textLength=\"12\" x=\"350\" y=\"276.627\">^c</text><line style=\"stroke:#383838;stroke-width:1.0;\" x1=\"307\" x2=\"405\" y1=\"284.7031\" y2=\"284.7031\"/></a></g><!--MD5=[bcf29f0808fc96f19b1afbee8cfc1f11]\n",
       "cluster E14--><g id=\"cluster_E14\"><a href=\"psysml:55ce9264-f8ec-4253-8633-c1c282e036a1\" target=\"_top\" title=\"psysml:55ce9264-f8ec-4253-8633-c1c282e036a1\" xlink:actuate=\"onRequest\" xlink:href=\"psysml:55ce9264-f8ec-4253-8633-c1c282e036a1\" xlink:show=\"new\" xlink:title=\"psysml:55ce9264-f8ec-4253-8633-c1c282e036a1\" xlink:type=\"simple\"><rect fill=\"#FFFFFF\" height=\"338\" id=\"E14\" rx=\"10\" ry=\"10\" style=\"stroke:#383838;stroke-width:1.5;\" width=\"162\" x=\"64\" y=\"172\"/><text fill=\"#000000\" font-family=\"sans-serif\" font-size=\"12\" font-style=\"italic\" lengthAdjust=\"spacing\" textLength=\"35\" x=\"127.5\" y=\"189.457\">«port»</text><text fill=\"#000000\" font-family=\"sans-serif\" font-size=\"14\" lengthAdjust=\"spacing\" textLength=\"41\" x=\"120.5\" y=\"206.627\">o_u: Y</text><line style=\"stroke:#383838;stroke-width:1.0;\" x1=\"64\" x2=\"226\" y1=\"214.7031\" y2=\"214.7031\"/></a></g><!--MD5=[917b9dd0c7eca3ee5f47219d1a84c0ad]\n",
       "cluster E11--><g id=\"cluster_E11\"><a href=\"psysml:99a745e1-cf63-457a-ac66-f2d7adbe3096\" target=\"_top\" title=\"psysml:99a745e1-cf63-457a-ac66-f2d7adbe3096\" xlink:actuate=\"onRequest\" xlink:href=\"psysml:99a745e1-cf63-457a-ac66-f2d7adbe3096\" xlink:show=\"new\" xlink:title=\"psysml:99a745e1-cf63-457a-ac66-f2d7adbe3096\" xlink:type=\"simple\"><rect fill=\"#FFFFFF\" height=\"236\" id=\"E11\" rx=\"10\" ry=\"10\" style=\"stroke:#383838;stroke-width:1.5;\" width=\"98\" x=\"96\" y=\"242\"/><text fill=\"#000000\" font-family=\"sans-serif\" font-size=\"12\" font-style=\"italic\" lengthAdjust=\"spacing\" textLength=\"38\" x=\"126\" y=\"259.457\">«item»</text><text fill=\"#000000\" font-family=\"sans-serif\" font-size=\"14\" lengthAdjust=\"spacing\" textLength=\"12\" x=\"139\" y=\"276.627\">^c</text><line style=\"stroke:#383838;stroke-width:1.0;\" x1=\"96\" x2=\"194\" y1=\"284.7031\" y2=\"284.7031\"/></a></g><!--MD5=[3e4be939245ddbd2da6080b60acb37a8]\n",
       "cluster E17--><g id=\"cluster_E17\"><a href=\"psysml:99a745e1-cf63-457a-ac66-f2d7adbe3096\" target=\"_top\" title=\"psysml:99a745e1-cf63-457a-ac66-f2d7adbe3096\" xlink:actuate=\"onRequest\" xlink:href=\"psysml:99a745e1-cf63-457a-ac66-f2d7adbe3096\" xlink:show=\"new\" xlink:title=\"psysml:99a745e1-cf63-457a-ac66-f2d7adbe3096\" xlink:type=\"simple\"><rect fill=\"#FFFFFF\" height=\"201\" id=\"E17\" rx=\"10\" ry=\"10\" style=\"stroke:#383838;stroke-width:1.5;\" width=\"82\" x=\"104\" y=\"558\"/><text fill=\"#000000\" font-family=\"sans-serif\" font-size=\"12\" font-style=\"italic\" lengthAdjust=\"spacing\" textLength=\"38\" x=\"126\" y=\"575.457\">«item»</text><text fill=\"#000000\" font-family=\"sans-serif\" font-size=\"14\" lengthAdjust=\"spacing\" textLength=\"7\" x=\"141.5\" y=\"592.627\">c</text><line style=\"stroke:#383838;stroke-width:1.0;\" x1=\"104\" x2=\"186\" y1=\"600.7031\" y2=\"600.7031\"/></a></g><g><a href=\"psysml:ed678944-6536-4c5c-a3e2-657317ac2575\" target=\"_top\" title=\"psysml:ed678944-6536-4c5c-a3e2-657317ac2575\" xlink:actuate=\"onRequest\" xlink:href=\"psysml:ed678944-6536-4c5c-a3e2-657317ac2575\" xlink:show=\"new\" xlink:title=\"psysml:ed678944-6536-4c5c-a3e2-657317ac2575\" xlink:type=\"simple\"><rect fill=\"#FFFFFF\" height=\"47.7031\" id=\"E20\" style=\"stroke:#383838;stroke-width:1.5;\" width=\"65\" x=\"112.5\" y=\"778\"/><text fill=\"#000000\" font-family=\"sans-serif\" font-size=\"12\" font-style=\"italic\" lengthAdjust=\"spacing\" textLength=\"58\" x=\"116\" y=\"795.457\">«port  def»</text><text fill=\"#000000\" font-family=\"sans-serif\" font-size=\"14\" lengthAdjust=\"spacing\" textLength=\"8\" x=\"141\" y=\"812.627\">X</text></a></g><g><a href=\"psysml:ab78a751-97a0-4ab0-9a16-47054cd98b9a\" target=\"_top\" title=\"psysml:ab78a751-97a0-4ab0-9a16-47054cd98b9a\" xlink:actuate=\"onRequest\" xlink:href=\"psysml:ab78a751-97a0-4ab0-9a16-47054cd98b9a\" xlink:show=\"new\" xlink:title=\"psysml:ab78a751-97a0-4ab0-9a16-47054cd98b9a\" xlink:type=\"simple\"><rect fill=\"#FFFFFF\" height=\"47.7031\" id=\"E21\" style=\"stroke:#383838;stroke-width:1.5;\" width=\"65\" x=\"112.5\" y=\"861\"/><text fill=\"#000000\" font-family=\"sans-serif\" font-size=\"12\" font-style=\"italic\" lengthAdjust=\"spacing\" textLength=\"58\" x=\"116\" y=\"878.457\">«port  def»</text><text fill=\"#000000\" font-family=\"sans-serif\" font-size=\"14\" lengthAdjust=\"spacing\" textLength=\"9\" x=\"140.5\" y=\"895.627\">Y</text></a></g><text fill=\"#000000\" font-family=\"sans-serif\" font-size=\"14\" lengthAdjust=\"spacing\" textLength=\"22\" x=\"468\" y=\"93.5332\">x: X</text><rect fill=\"#FFFFFF\" height=\"12\" style=\"stroke:#181818;stroke-width:1.5;\" width=\"12\" x=\"477\" y=\"67\"/><text fill=\"#000000\" font-family=\"sans-serif\" font-size=\"14\" lengthAdjust=\"spacing\" textLength=\"24\" x=\"512\" y=\"51.9238\">y: Y</text><rect fill=\"#FFFFFF\" height=\"12\" style=\"stroke:#181818;stroke-width:1.5;\" width=\"12\" x=\"522\" y=\"67\"/><g><a href=\"psysml:99eff25b-35a1-41ab-8518-9b7850677dd6\" target=\"_top\" title=\"psysml:99eff25b-35a1-41ab-8518-9b7850677dd6\" xlink:actuate=\"onRequest\" xlink:href=\"psysml:99eff25b-35a1-41ab-8518-9b7850677dd6\" xlink:show=\"new\" xlink:title=\"psysml:99eff25b-35a1-41ab-8518-9b7850677dd6\" xlink:type=\"simple\"><rect fill=\"#FFFFFF\" height=\"47.7031\" id=\"E8\" rx=\"10\" ry=\"10\" style=\"stroke:#383838;stroke-width:1.5;\" width=\"50\" x=\"331\" y=\"304\"/><text fill=\"#000000\" font-family=\"sans-serif\" font-size=\"12\" font-style=\"italic\" lengthAdjust=\"spacing\" textLength=\"38\" x=\"337\" y=\"321.457\">«item»</text><text fill=\"#000000\" font-family=\"sans-serif\" font-size=\"14\" lengthAdjust=\"spacing\" textLength=\"15\" x=\"348.5\" y=\"338.627\">c1</text></a></g><g><a href=\"psysml:4a6ffa57-8fb6-4ba8-bd45-bc11d48ce6d0\" target=\"_top\" title=\"psysml:4a6ffa57-8fb6-4ba8-bd45-bc11d48ce6d0\" xlink:actuate=\"onRequest\" xlink:href=\"psysml:4a6ffa57-8fb6-4ba8-bd45-bc11d48ce6d0\" xlink:show=\"new\" xlink:title=\"psysml:4a6ffa57-8fb6-4ba8-bd45-bc11d48ce6d0\" xlink:type=\"simple\"><rect fill=\"#FFFFFF\" height=\"47.7031\" id=\"E9\" rx=\"10\" ry=\"10\" style=\"stroke:#383838;stroke-width:1.5;\" width=\"50\" x=\"331\" y=\"387\"/><text fill=\"#000000\" font-family=\"sans-serif\" font-size=\"12\" font-style=\"italic\" lengthAdjust=\"spacing\" textLength=\"38\" x=\"337\" y=\"404.457\">«item»</text><text fill=\"#000000\" font-family=\"sans-serif\" font-size=\"14\" lengthAdjust=\"spacing\" textLength=\"15\" x=\"348.5\" y=\"421.627\">c2</text></a></g><g><a href=\"psysml:99eff25b-35a1-41ab-8518-9b7850677dd6\" target=\"_top\" title=\"psysml:99eff25b-35a1-41ab-8518-9b7850677dd6\" xlink:actuate=\"onRequest\" xlink:href=\"psysml:99eff25b-35a1-41ab-8518-9b7850677dd6\" xlink:show=\"new\" xlink:title=\"psysml:99eff25b-35a1-41ab-8518-9b7850677dd6\" xlink:type=\"simple\"><rect fill=\"#FFFFFF\" height=\"47.7031\" id=\"E12\" rx=\"10\" ry=\"10\" style=\"stroke:#383838;stroke-width:1.5;\" width=\"50\" x=\"120\" y=\"304\"/><text fill=\"#000000\" font-family=\"sans-serif\" font-size=\"12\" font-style=\"italic\" lengthAdjust=\"spacing\" textLength=\"38\" x=\"126\" y=\"321.457\">«item»</text><text fill=\"#000000\" font-family=\"sans-serif\" font-size=\"14\" lengthAdjust=\"spacing\" textLength=\"15\" x=\"137.5\" y=\"338.627\">c1</text></a></g><g><a href=\"psysml:4a6ffa57-8fb6-4ba8-bd45-bc11d48ce6d0\" target=\"_top\" title=\"psysml:4a6ffa57-8fb6-4ba8-bd45-bc11d48ce6d0\" xlink:actuate=\"onRequest\" xlink:href=\"psysml:4a6ffa57-8fb6-4ba8-bd45-bc11d48ce6d0\" xlink:show=\"new\" xlink:title=\"psysml:4a6ffa57-8fb6-4ba8-bd45-bc11d48ce6d0\" xlink:type=\"simple\"><rect fill=\"#FFFFFF\" height=\"47.7031\" id=\"E13\" rx=\"10\" ry=\"10\" style=\"stroke:#383838;stroke-width:1.5;\" width=\"50\" x=\"120\" y=\"387\"/><text fill=\"#000000\" font-family=\"sans-serif\" font-size=\"12\" font-style=\"italic\" lengthAdjust=\"spacing\" textLength=\"38\" x=\"126\" y=\"404.457\">«item»</text><text fill=\"#000000\" font-family=\"sans-serif\" font-size=\"14\" lengthAdjust=\"spacing\" textLength=\"15\" x=\"137.5\" y=\"421.627\">c2</text></a></g><g><a href=\"psysml:575dfddd-dd60-4d10-99f7-01cd7a82b707\" target=\"_top\" title=\"psysml:575dfddd-dd60-4d10-99f7-01cd7a82b707\" xlink:actuate=\"onRequest\" xlink:href=\"psysml:575dfddd-dd60-4d10-99f7-01cd7a82b707\" xlink:show=\"new\" xlink:title=\"psysml:575dfddd-dd60-4d10-99f7-01cd7a82b707\" xlink:type=\"simple\"><rect fill=\"#FFFFFF\" height=\"47.7031\" id=\"E15\" style=\"stroke:#383838;stroke-width:1.5;\" width=\"65\" x=\"112.5\" y=\"944\"/><text fill=\"#000000\" font-family=\"sans-serif\" font-size=\"12\" font-style=\"italic\" lengthAdjust=\"spacing\" textLength=\"58\" x=\"116\" y=\"961.457\">«part  def»</text><text fill=\"#000000\" font-family=\"sans-serif\" font-size=\"14\" lengthAdjust=\"spacing\" textLength=\"9\" x=\"140.5\" y=\"978.627\">A</text></a></g><g><a href=\"psysml:374e0750-8441-4950-a350-f1abcd4ef78a\" target=\"_top\" title=\"psysml:374e0750-8441-4950-a350-f1abcd4ef78a\" xlink:actuate=\"onRequest\" xlink:href=\"psysml:374e0750-8441-4950-a350-f1abcd4ef78a\" xlink:show=\"new\" xlink:title=\"psysml:374e0750-8441-4950-a350-f1abcd4ef78a\" xlink:type=\"simple\"><rect fill=\"#FFFFFF\" height=\"47.7031\" id=\"E16\" style=\"stroke:#383838;stroke-width:1.5;\" width=\"65\" x=\"112.5\" y=\"1027\"/><text fill=\"#000000\" font-family=\"sans-serif\" font-size=\"12\" font-style=\"italic\" lengthAdjust=\"spacing\" textLength=\"58\" x=\"116\" y=\"1044.457\">«part  def»</text><text fill=\"#000000\" font-family=\"sans-serif\" font-size=\"14\" lengthAdjust=\"spacing\" textLength=\"9\" x=\"140.5\" y=\"1061.627\">B</text></a></g><g><a href=\"psysml:99eff25b-35a1-41ab-8518-9b7850677dd6\" target=\"_top\" title=\"psysml:99eff25b-35a1-41ab-8518-9b7850677dd6\" xlink:actuate=\"onRequest\" xlink:href=\"psysml:99eff25b-35a1-41ab-8518-9b7850677dd6\" xlink:show=\"new\" xlink:title=\"psysml:99eff25b-35a1-41ab-8518-9b7850677dd6\" xlink:type=\"simple\"><rect fill=\"#FFFFFF\" height=\"47.7031\" id=\"E18\" rx=\"10\" ry=\"10\" style=\"stroke:#383838;stroke-width:1.5;\" width=\"50\" x=\"120\" y=\"612\"/><text fill=\"#000000\" font-family=\"sans-serif\" font-size=\"12\" font-style=\"italic\" lengthAdjust=\"spacing\" textLength=\"38\" x=\"126\" y=\"629.457\">«item»</text><text fill=\"#000000\" font-family=\"sans-serif\" font-size=\"14\" lengthAdjust=\"spacing\" textLength=\"15\" x=\"137.5\" y=\"646.627\">c1</text></a></g><g><a href=\"psysml:4a6ffa57-8fb6-4ba8-bd45-bc11d48ce6d0\" target=\"_top\" title=\"psysml:4a6ffa57-8fb6-4ba8-bd45-bc11d48ce6d0\" xlink:actuate=\"onRequest\" xlink:href=\"psysml:4a6ffa57-8fb6-4ba8-bd45-bc11d48ce6d0\" xlink:show=\"new\" xlink:title=\"psysml:4a6ffa57-8fb6-4ba8-bd45-bc11d48ce6d0\" xlink:type=\"simple\"><rect fill=\"#FFFFFF\" height=\"47.7031\" id=\"E19\" rx=\"10\" ry=\"10\" style=\"stroke:#383838;stroke-width:1.5;\" width=\"50\" x=\"120\" y=\"695\"/><text fill=\"#000000\" font-family=\"sans-serif\" font-size=\"12\" font-style=\"italic\" lengthAdjust=\"spacing\" textLength=\"38\" x=\"126\" y=\"712.457\">«item»</text><text fill=\"#000000\" font-family=\"sans-serif\" font-size=\"14\" lengthAdjust=\"spacing\" textLength=\"15\" x=\"137.5\" y=\"729.627\">c2</text></a></g><!--MD5=[41ed9f8af792e4462e62a86c9f6b57b4]\n",
       "link E11 to E7--><g id=\"link_E11_E7\"><a href=\"psysml:198ab5c6-15a8-42a9-9700-ca0f3a09293c\" target=\"_top\" title=\"psysml:198ab5c6-15a8-42a9-9700-ca0f3a09293c\" xlink:actuate=\"onRequest\" xlink:href=\"psysml:198ab5c6-15a8-42a9-9700-ca0f3a09293c\" xlink:show=\"new\" xlink:title=\"psysml:198ab5c6-15a8-42a9-9700-ca0f3a09293c\" xlink:type=\"simple\"><path d=\"M194.0334,470 C194.7113,470 195.3937,470 196.0805,470 C201.5747,470 207.3473,470 213.3055,470 C225.2217,470 237.88,470 250.5375,470 C263.195,470 275.8517,470 287.7648,470 C293.7214,470 299.4921,470 304.984,470 C305.3272,470 305.6694,470 306.0104,470 C306.181,470 306.3512,470 306.5212,470 \" fill=\"none\" id=\"E11-to-E7\" style=\"stroke:#181818;stroke-width:1.0;\"/><polygon fill=\"#181818\" points=\"306.5212,470,297.5212,466,301.5212,470,297.5212,474,306.5212,470\" style=\"stroke:#181818;stroke-width:1.0;\"/><text fill=\"#000000\" font-family=\"sans-serif\" font-size=\"13\" lengthAdjust=\"spacing\" textLength=\"15\" x=\"243\" y=\"466.4951\">: c</text></a></g><!--MD5=[0188b64bb0ae78505a997a81836e11e9]\n",
       "link E3 to E5--><g id=\"link_E3_E5\"><a href=\"psysml:127262ed-746f-4e44-9a87-73d47885e0fd\" target=\"_top\" title=\"psysml:127262ed-746f-4e44-9a87-73d47885e0fd\" xlink:actuate=\"onRequest\" xlink:href=\"psysml:127262ed-746f-4e44-9a87-73d47885e0fd\" xlink:show=\"new\" xlink:title=\"psysml:127262ed-746f-4e44-9a87-73d47885e0fd\" xlink:type=\"simple\"><path d=\"M489.27,73 C497.62,73 513.75,73 521.95,73 \" fill=\"none\" id=\"E3-E5\" style=\"stroke:#181818;stroke-width:3.0;\"/></a></g><!--MD5=[75ab9ec74f863102fd991ec0fdbf8750]\n",
       "@startuml\r\n",
       "skin sysmlbw\r\n",
       "skinparam monochrome true\r\n",
       "skinparam wrapWidth 300\r\n",
       "hide circle\r\n",
       "left to right direction\r\n",
       "skinparam ranksep 10\r\n",
       "skinparam rectangle {\r\n",
       " backgroundColor<<block>> LightGreen\r\n",
       "}\r\n",
       "\r\n",
       "package \"interface_check\" as E1  [[psysml:b443c2fa-596f-4355-9978-3d1432d7932b ]]  {\r\n",
       "rec usage \"a\" as E2 [[psysml:583eaef2-0005-4dbb-89be-51ce62626e85 ]] {\r\n",
       "portout \"x: X  \" as E3  <<(T,blue) port>> [[psysml:0c549d57-48db-4b47-80d2-65b3d50c0707 ]] \r\n",
       "}\r\n",
       "rec usage \"b\" as E4 [[psysml:aa80bcfb-6b07-472d-9ed6-605cbf945254 ]] {\r\n",
       "portin \"y: Y  \" as E5  <<(T,blue) port>> [[psysml:674d84f7-3dd6-4400-ad95-7dfad20e9aba ]] \r\n",
       "}\r\n",
       "rec def \"int\" as E6  <<(T,blue) interface  def>> [[psysml:13506c3d-a311-4728-aa01-8ae71e956c48 ]] {\r\n",
       "rec usage \"i_n: X  \" as E10  <<(T,blue) port>> [[psysml:6fbff5d8-0abd-4a00-aee8-a973fe73cbc4 ]] {\r\n",
       "rec usage \"^c\" as E7  <<(T,blue) item>> [[psysml:99a745e1-cf63-457a-ac66-f2d7adbe3096 ]] {\r\n",
       "rec usage \"c1\" as E8  <<(T,blue) item>> [[psysml:99eff25b-35a1-41ab-8518-9b7850677dd6 ]] {\r\n",
       "}\r\n",
       "rec usage \"c2\" as E9  <<(T,blue) item>> [[psysml:4a6ffa57-8fb6-4ba8-bd45-bc11d48ce6d0 ]] {\r\n",
       "}\r\n",
       "}\r\n",
       "}\r\n",
       "rec usage \"o_u: Y  \" as E14  <<(T,blue) port>> [[psysml:55ce9264-f8ec-4253-8633-c1c282e036a1 ]] {\r\n",
       "rec usage \"^c\" as E11  <<(T,blue) item>> [[psysml:99a745e1-cf63-457a-ac66-f2d7adbe3096 ]] {\r\n",
       "rec usage \"c1\" as E12  <<(T,blue) item>> [[psysml:99eff25b-35a1-41ab-8518-9b7850677dd6 ]] {\r\n",
       "}\r\n",
       "rec usage \"c2\" as E13  <<(T,blue) item>> [[psysml:4a6ffa57-8fb6-4ba8-bd45-bc11d48ce6d0 ]] {\r\n",
       "}\r\n",
       "}\r\n",
       "}\r\n",
       "}\r\n",
       "rec def \"A\" as E15  <<(T,blue) part  def>> [[psysml:575dfddd-dd60-4d10-99f7-01cd7a82b707 ]] {\r\n",
       "}\r\n",
       "rec def \"B\" as E16  <<(T,blue) part  def>> [[psysml:374e0750-8441-4950-a350-f1abcd4ef78a ]] {\r\n",
       "}\r\n",
       "rec usage \"c\" as E17  <<(T,blue) item>> [[psysml:99a745e1-cf63-457a-ac66-f2d7adbe3096 ]] {\r\n",
       "rec usage \"c1\" as E18  <<(T,blue) item>> [[psysml:99eff25b-35a1-41ab-8518-9b7850677dd6 ]] {\r\n",
       "}\r\n",
       "rec usage \"c2\" as E19  <<(T,blue) item>> [[psysml:4a6ffa57-8fb6-4ba8-bd45-bc11d48ce6d0 ]] {\r\n",
       "}\r\n",
       "}\r\n",
       "def \"X\" as E20  <<(T,blue) port  def>> [[psysml:ed678944-6536-4c5c-a3e2-657317ac2575 ]] \r\n",
       "def \"Y\" as E21  <<(T,blue) port  def>> [[psysml:ab78a751-97a0-4ab0-9a16-47054cd98b9a ]] \r\n",
       "}\r\n",
       "E11 - -> E7 [[psysml:198ab5c6-15a8-42a9-9700-ca0f3a09293c ]] : : c\r\n",
       "E3 -[thickness=3]- E5 [[psysml:127262ed-746f-4e44-9a87-73d47885e0fd ]] \r\n",
       "@enduml\r\n",
       "\n",
       "PlantUML version 1.2022.7(Mon Aug 22 20:01:30 EEST 2022)\n",
       "(EPL source distribution)\n",
       "Java Runtime: OpenJDK Runtime Environment\n",
       "JVM: OpenJDK 64-Bit Server VM\n",
       "Default Encoding: UTF-8\n",
       "Language: en\n",
       "Country: US\n",
       "--></g></svg>"
      ]
     },
     "execution_count": 26,
     "metadata": {},
     "output_type": "execute_result"
    }
   ],
   "source": [
    "%viz --view=INTERCONNECTION --style=LR interface_check"
   ]
  },
  {
   "cell_type": "markdown",
   "id": "35daac0c-4da6-46ba-b011-2f44a5263f34",
   "metadata": {},
   "source": [
    "after typping the interface with the ports it is still working but the item is a general type of item not the specefic one. "
   ]
  },
  {
   "cell_type": "code",
   "execution_count": 30,
   "id": "86d5aa51-83e4-4ee3-8eaa-d1eebc4f7aab",
   "metadata": {
    "tags": []
   },
   "outputs": [
    {
     "name": "stderr",
     "output_type": "stream",
     "text": [
      "ERROR:Couldn't resolve reference to Feature 'c1'. (30.sysml line : 14 column : 28)\n",
      "ERROR:Couldn't resolve reference to Feature 'c1'. (30.sysml line : 14 column : 38)\n"
     ]
    },
    {
     "data": {
      "text/plain": []
     },
     "execution_count": 30,
     "metadata": {},
     "output_type": "execute_result"
    }
   ],
   "source": [
    "package interface_check2{\n",
    "    \n",
    "    part a{\n",
    "        in port x:X; \n",
    "    }\n",
    "    part b{\n",
    "        out port y:Y;\n",
    "    }    \n",
    "    \n",
    "    \n",
    "    interface def int {\n",
    "        end i_n:X; // the difference is that the ends of interface typed with the port type\n",
    "        end o_u:Y;\n",
    "        flow of c from i_n.c1 to o_u.c1; //wrong item \n",
    "    }\n",
    "    \n",
    "    interface int01 : int connect a.x to b.y;\n",
    "    \n",
    "    part def A;\n",
    "    part def B;\n",
    "    \n",
    "    item c{\n",
    "        item c1;\n",
    "        item c2;\n",
    "    }\n",
    "    \n",
    "    port def X{\n",
    "        out item c2;\n",
    "    }\n",
    "    port def Y{\n",
    "        out item c2;\n",
    "    }\n",
    "    \n",
    "}"
   ]
  },
  {
   "cell_type": "markdown",
   "id": "cb8ec7d2-cd39-43e8-a776-5145a9c5c644",
   "metadata": {},
   "source": [
    "if the type of the item (flow) defined to be transfered between to end of interface is not compatible with the type defined in the port definition and allocated through the port utilization, it will give error. "
   ]
  },
  {
   "cell_type": "code",
   "execution_count": 31,
   "id": "5aee7a39-83d0-4f25-8faa-689fb6bd97ad",
   "metadata": {
    "tags": []
   },
   "outputs": [
    {
     "data": {
      "text/plain": [
       "Package interface_check3 (98626706-deae-43b2-a2d8-6afcc4d6277b)\n"
      ]
     },
     "execution_count": 31,
     "metadata": {},
     "output_type": "execute_result"
    }
   ],
   "source": [
    "package interface_check3{\n",
    "    \n",
    "    part a{\n",
    "        in port x:X; \n",
    "    }\n",
    "    part b{\n",
    "        out port y:Y;\n",
    "    }    \n",
    "    \n",
    "    \n",
    "    interface def int {\n",
    "        end i_n:X; // the difference is that the ends of interface typed with the port type\n",
    "        end o_u:Y;\n",
    "        flow of c from i_n.c2 to o_u.c2; //correct item \n",
    "    }\n",
    "    \n",
    "    interface int01 : int connect a.x to b.y;\n",
    "    \n",
    "    part def A;\n",
    "    part def B;\n",
    "    \n",
    "    item c{\n",
    "        item c1;\n",
    "        item c2;\n",
    "    }\n",
    "    \n",
    "    port def X{\n",
    "        out item c2;\n",
    "    }\n",
    "    port def Y{\n",
    "        out item c2;\n",
    "    }\n",
    "    \n",
    "}"
   ]
  },
  {
   "cell_type": "code",
   "execution_count": 32,
   "id": "861aa2b6-5931-43e7-aaf7-23c125ddb244",
   "metadata": {
    "tags": []
   },
   "outputs": [
    {
     "data": {
      "image/svg+xml": [
       "<?xml version=\"1.0\" encoding=\"UTF-8\" standalone=\"no\"?><svg xmlns=\"http://www.w3.org/2000/svg\" xmlns:xlink=\"http://www.w3.org/1999/xlink\" contentStyleType=\"text/css\" height=\"579px\" preserveAspectRatio=\"none\" style=\"width:843px;height:579px;background:#FFFFFF;\" version=\"1.1\" viewBox=\"0 0 843 579\" width=\"843px\" zoomAndPan=\"magnify\"><defs/><g><!--MD5=[fbc87193dbaf4d95561dea2c320d4a47]\n",
       "cluster E1--><g id=\"cluster_E1\"><a href=\"psysml:98626706-deae-43b2-a2d8-6afcc4d6277b\" target=\"_top\" title=\"psysml:98626706-deae-43b2-a2d8-6afcc4d6277b\" xlink:actuate=\"onRequest\" xlink:href=\"psysml:98626706-deae-43b2-a2d8-6afcc4d6277b\" xlink:show=\"new\" xlink:title=\"psysml:98626706-deae-43b2-a2d8-6afcc4d6277b\" xlink:type=\"simple\"><polygon fill=\"none\" points=\"16,6,143,6,150,29.6094,826,29.6094,826,572,16,572,16,6\" style=\"stroke:#000000;stroke-width:1.5;\"/><line style=\"stroke:#000000;stroke-width:1.5;\" x1=\"16\" x2=\"150\" y1=\"29.6094\" y2=\"29.6094\"/><text fill=\"#000000\" font-family=\"sans-serif\" font-size=\"14\" font-weight=\"bold\" lengthAdjust=\"spacing\" textLength=\"121\" x=\"20\" y=\"22.5332\">interface_check3</text></a></g><!--MD5=[e4f7fae6ed58524ba242bb0b0d3be6b7]\n",
       "cluster E2--><g id=\"cluster_E2\"><a href=\"psysml:083b72f9-39b4-4bc6-ba26-3e9c80cac0e0\" target=\"_top\" title=\"psysml:083b72f9-39b4-4bc6-ba26-3e9c80cac0e0\" xlink:actuate=\"onRequest\" xlink:href=\"psysml:083b72f9-39b4-4bc6-ba26-3e9c80cac0e0\" xlink:show=\"new\" xlink:title=\"psysml:083b72f9-39b4-4bc6-ba26-3e9c80cac0e0\" xlink:type=\"simple\"><rect fill=\"#FFFFFF\" height=\"280\" id=\"E2\" rx=\"10\" ry=\"10\" style=\"stroke:#383838;stroke-width:1.5;\" width=\"53\" x=\"757\" y=\"164\"/><text fill=\"#000000\" font-family=\"sans-serif\" font-size=\"14\" lengthAdjust=\"spacing\" textLength=\"8\" x=\"779.5\" y=\"183.5332\">a</text><line style=\"stroke:#383838;stroke-width:1.0;\" x1=\"757\" x2=\"810\" y1=\"191.6094\" y2=\"191.6094\"/></a></g><!--MD5=[f6df4d0ebaf0b5dfb2ced0ae5af7c670]\n",
       "cluster E4--><g id=\"cluster_E4\"><a href=\"psysml:5a883010-e670-4555-a155-5acd8e134648\" target=\"_top\" title=\"psysml:5a883010-e670-4555-a155-5acd8e134648\" xlink:actuate=\"onRequest\" xlink:href=\"psysml:5a883010-e670-4555-a155-5acd8e134648\" xlink:show=\"new\" xlink:title=\"psysml:5a883010-e670-4555-a155-5acd8e134648\" xlink:type=\"simple\"><rect fill=\"#FFFFFF\" height=\"67\" id=\"E4\" rx=\"10\" ry=\"10\" style=\"stroke:#383838;stroke-width:1.5;\" width=\"58\" x=\"746\" y=\"489\"/><text fill=\"#000000\" font-family=\"sans-serif\" font-size=\"14\" lengthAdjust=\"spacing\" textLength=\"8\" x=\"771\" y=\"508.5332\">b</text><line style=\"stroke:#383838;stroke-width:1.0;\" x1=\"746\" x2=\"804\" y1=\"516.6094\" y2=\"516.6094\"/></a></g><!--MD5=[14e3b0961a2654348d326746436168a1]\n",
       "cluster E6--><g id=\"cluster_E6\"><a href=\"psysml:19d951d9-6f96-4590-8bfd-64755bfced12\" target=\"_top\" title=\"psysml:19d951d9-6f96-4590-8bfd-64755bfced12\" xlink:actuate=\"onRequest\" xlink:href=\"psysml:19d951d9-6f96-4590-8bfd-64755bfced12\" xlink:show=\"new\" xlink:title=\"psysml:19d951d9-6f96-4590-8bfd-64755bfced12\" xlink:type=\"simple\"><rect fill=\"#FFFFFF\" height=\"372\" id=\"E6\" style=\"stroke:#383838;stroke-width:1.5;\" width=\"130\" x=\"608\" y=\"50\"/><text fill=\"#000000\" font-family=\"sans-serif\" font-size=\"12\" font-style=\"italic\" lengthAdjust=\"spacing\" textLength=\"84\" x=\"631\" y=\"67.457\">«interface  def»</text><text fill=\"#000000\" font-family=\"sans-serif\" font-size=\"14\" lengthAdjust=\"spacing\" textLength=\"15\" x=\"665.5\" y=\"84.627\">int</text><line style=\"stroke:#383838;stroke-width:1.0;\" x1=\"608\" x2=\"738\" y1=\"92.7031\" y2=\"92.7031\"/></a></g><!--MD5=[55dfccfc6c49c2d10cd1bd2211a6c90c]\n",
       "cluster E8--><g id=\"cluster_E8\"><a href=\"psysml:c86c47ec-b8fd-4f8d-a77b-89fa76e7cbc3\" target=\"_top\" title=\"psysml:c86c47ec-b8fd-4f8d-a77b-89fa76e7cbc3\" xlink:actuate=\"onRequest\" xlink:href=\"psysml:c86c47ec-b8fd-4f8d-a77b-89fa76e7cbc3\" xlink:show=\"new\" xlink:title=\"psysml:c86c47ec-b8fd-4f8d-a77b-89fa76e7cbc3\" xlink:type=\"simple\"><rect fill=\"#FFFFFF\" height=\"118\" id=\"E8\" rx=\"10\" ry=\"10\" style=\"stroke:#383838;stroke-width:1.5;\" width=\"82\" x=\"632\" y=\"112\"/><text fill=\"#000000\" font-family=\"sans-serif\" font-size=\"12\" font-style=\"italic\" lengthAdjust=\"spacing\" textLength=\"35\" x=\"655.5\" y=\"129.457\">«port»</text><text fill=\"#000000\" font-family=\"sans-serif\" font-size=\"14\" lengthAdjust=\"spacing\" textLength=\"35\" x=\"651.5\" y=\"146.627\">i_n: X</text><line style=\"stroke:#383838;stroke-width:1.0;\" x1=\"632\" x2=\"714\" y1=\"154.7031\" y2=\"154.7031\"/></a></g><!--MD5=[a84b4591f868c1fa4a211716a82f2f0d]\n",
       "cluster E10--><g id=\"cluster_E10\"><a href=\"psysml:43490733-f6a7-47e1-8c53-6bbb870287ba\" target=\"_top\" title=\"psysml:43490733-f6a7-47e1-8c53-6bbb870287ba\" xlink:actuate=\"onRequest\" xlink:href=\"psysml:43490733-f6a7-47e1-8c53-6bbb870287ba\" xlink:show=\"new\" xlink:title=\"psysml:43490733-f6a7-47e1-8c53-6bbb870287ba\" xlink:type=\"simple\"><rect fill=\"#FFFFFF\" height=\"118\" id=\"E10\" rx=\"10\" ry=\"10\" style=\"stroke:#383838;stroke-width:1.5;\" width=\"82\" x=\"632\" y=\"280\"/><text fill=\"#000000\" font-family=\"sans-serif\" font-size=\"12\" font-style=\"italic\" lengthAdjust=\"spacing\" textLength=\"35\" x=\"655.5\" y=\"297.457\">«port»</text><text fill=\"#000000\" font-family=\"sans-serif\" font-size=\"14\" lengthAdjust=\"spacing\" textLength=\"41\" x=\"648.5\" y=\"314.627\">o_u: Y</text><line style=\"stroke:#383838;stroke-width:1.0;\" x1=\"632\" x2=\"714\" y1=\"322.7031\" y2=\"322.7031\"/></a></g><!--MD5=[03104f77b71e2d8d3500c651e6e31181]\n",
       "cluster E13--><g id=\"cluster_E13\"><a href=\"psysml:df6288e1-d724-465d-badb-154112ef2235\" target=\"_top\" title=\"psysml:df6288e1-d724-465d-badb-154112ef2235\" xlink:actuate=\"onRequest\" xlink:href=\"psysml:df6288e1-d724-465d-badb-154112ef2235\" xlink:show=\"new\" xlink:title=\"psysml:df6288e1-d724-465d-badb-154112ef2235\" xlink:type=\"simple\"><rect fill=\"#FFFFFF\" height=\"118\" id=\"E13\" rx=\"10\" ry=\"10\" style=\"stroke:#383838;stroke-width:1.5;\" width=\"167\" x=\"417\" y=\"112\"/><text fill=\"#000000\" font-family=\"sans-serif\" font-size=\"12\" font-style=\"italic\" lengthAdjust=\"spacing\" textLength=\"38\" x=\"481.5\" y=\"129.457\">«item»</text><text fill=\"#000000\" font-family=\"sans-serif\" font-size=\"14\" lengthAdjust=\"spacing\" textLength=\"7\" x=\"497\" y=\"146.627\">c</text><line style=\"stroke:#383838;stroke-width:1.0;\" x1=\"417\" x2=\"584\" y1=\"154.7031\" y2=\"154.7031\"/></a></g><g><a href=\"psysml:490cd686-e804-4e2e-a7e8-128dbd594e9b\" target=\"_top\" title=\"psysml:490cd686-e804-4e2e-a7e8-128dbd594e9b\" xlink:actuate=\"onRequest\" xlink:href=\"psysml:490cd686-e804-4e2e-a7e8-128dbd594e9b\" xlink:show=\"new\" xlink:title=\"psysml:490cd686-e804-4e2e-a7e8-128dbd594e9b\" xlink:type=\"simple\"><rect fill=\"#FFFFFF\" height=\"47.7031\" id=\"E16\" style=\"stroke:#383838;stroke-width:1.5;\" width=\"65\" x=\"332.5\" y=\"166\"/><text fill=\"#000000\" font-family=\"sans-serif\" font-size=\"12\" font-style=\"italic\" lengthAdjust=\"spacing\" textLength=\"58\" x=\"336\" y=\"183.457\">«port  def»</text><text fill=\"#000000\" font-family=\"sans-serif\" font-size=\"14\" lengthAdjust=\"spacing\" textLength=\"8\" x=\"361\" y=\"200.627\">X</text></a></g><g><a href=\"psysml:f98545ed-f474-4220-b864-788eff494cb9\" target=\"_top\" title=\"psysml:f98545ed-f474-4220-b864-788eff494cb9\" xlink:actuate=\"onRequest\" xlink:href=\"psysml:f98545ed-f474-4220-b864-788eff494cb9\" xlink:show=\"new\" xlink:title=\"psysml:f98545ed-f474-4220-b864-788eff494cb9\" xlink:type=\"simple\"><rect fill=\"#FFFFFF\" height=\"47.7031\" id=\"E17\" style=\"stroke:#383838;stroke-width:1.5;\" width=\"65\" x=\"232.5\" y=\"166\"/><text fill=\"#000000\" font-family=\"sans-serif\" font-size=\"12\" font-style=\"italic\" lengthAdjust=\"spacing\" textLength=\"58\" x=\"236\" y=\"183.457\">«port  def»</text><text fill=\"#000000\" font-family=\"sans-serif\" font-size=\"14\" lengthAdjust=\"spacing\" textLength=\"9\" x=\"260.5\" y=\"200.627\">Y</text></a></g><text fill=\"#000000\" font-family=\"sans-serif\" font-size=\"14\" lengthAdjust=\"spacing\" textLength=\"22\" x=\"760\" y=\"464.5332\">x: X</text><rect fill=\"#FFFFFF\" height=\"12\" style=\"stroke:#181818;stroke-width:1.5;\" width=\"12\" x=\"769\" y=\"438\"/><text fill=\"#000000\" font-family=\"sans-serif\" font-size=\"14\" lengthAdjust=\"spacing\" textLength=\"24\" x=\"759\" y=\"467.9238\">y: Y</text><rect fill=\"#FFFFFF\" height=\"12\" style=\"stroke:#181818;stroke-width:1.5;\" width=\"12\" x=\"769\" y=\"483\"/><g><a href=\"psysml:8d18249c-aef8-49ed-8c71-4898a7647458\" target=\"_top\" title=\"psysml:8d18249c-aef8-49ed-8c71-4898a7647458\" xlink:actuate=\"onRequest\" xlink:href=\"psysml:8d18249c-aef8-49ed-8c71-4898a7647458\" xlink:show=\"new\" xlink:title=\"psysml:8d18249c-aef8-49ed-8c71-4898a7647458\" xlink:type=\"simple\"><rect fill=\"#FFFFFF\" height=\"47.7031\" id=\"E7\" rx=\"10\" ry=\"10\" style=\"stroke:#383838;stroke-width:1.5;\" width=\"50\" x=\"648\" y=\"166\"/><text fill=\"#000000\" font-family=\"sans-serif\" font-size=\"12\" font-style=\"italic\" lengthAdjust=\"spacing\" textLength=\"38\" x=\"654\" y=\"183.457\">«item»</text><text fill=\"#000000\" font-family=\"sans-serif\" font-size=\"14\" lengthAdjust=\"spacing\" textLength=\"20\" x=\"663\" y=\"200.627\">^c2</text></a></g><g><a href=\"psysml:a5643543-b6b7-4f9e-bb9e-a3ec05bba47f\" target=\"_top\" title=\"psysml:a5643543-b6b7-4f9e-bb9e-a3ec05bba47f\" xlink:actuate=\"onRequest\" xlink:href=\"psysml:a5643543-b6b7-4f9e-bb9e-a3ec05bba47f\" xlink:show=\"new\" xlink:title=\"psysml:a5643543-b6b7-4f9e-bb9e-a3ec05bba47f\" xlink:type=\"simple\"><rect fill=\"#FFFFFF\" height=\"47.7031\" id=\"E9\" rx=\"10\" ry=\"10\" style=\"stroke:#383838;stroke-width:1.5;\" width=\"50\" x=\"648\" y=\"334\"/><text fill=\"#000000\" font-family=\"sans-serif\" font-size=\"12\" font-style=\"italic\" lengthAdjust=\"spacing\" textLength=\"38\" x=\"654\" y=\"351.457\">«item»</text><text fill=\"#000000\" font-family=\"sans-serif\" font-size=\"14\" lengthAdjust=\"spacing\" textLength=\"20\" x=\"663\" y=\"368.627\">^c2</text></a></g><g><a href=\"psysml:5ee57104-dcd0-4593-9bb8-c39248f1e165\" target=\"_top\" title=\"psysml:5ee57104-dcd0-4593-9bb8-c39248f1e165\" xlink:actuate=\"onRequest\" xlink:href=\"psysml:5ee57104-dcd0-4593-9bb8-c39248f1e165\" xlink:show=\"new\" xlink:title=\"psysml:5ee57104-dcd0-4593-9bb8-c39248f1e165\" xlink:type=\"simple\"><rect fill=\"#FFFFFF\" height=\"47.7031\" id=\"E11\" style=\"stroke:#383838;stroke-width:1.5;\" width=\"65\" x=\"132.5\" y=\"166\"/><text fill=\"#000000\" font-family=\"sans-serif\" font-size=\"12\" font-style=\"italic\" lengthAdjust=\"spacing\" textLength=\"58\" x=\"136\" y=\"183.457\">«part  def»</text><text fill=\"#000000\" font-family=\"sans-serif\" font-size=\"14\" lengthAdjust=\"spacing\" textLength=\"9\" x=\"160.5\" y=\"200.627\">A</text></a></g><g><a href=\"psysml:837e96da-42e5-4f9e-92c3-2cc563fd0be4\" target=\"_top\" title=\"psysml:837e96da-42e5-4f9e-92c3-2cc563fd0be4\" xlink:actuate=\"onRequest\" xlink:href=\"psysml:837e96da-42e5-4f9e-92c3-2cc563fd0be4\" xlink:show=\"new\" xlink:title=\"psysml:837e96da-42e5-4f9e-92c3-2cc563fd0be4\" xlink:type=\"simple\"><rect fill=\"#FFFFFF\" height=\"47.7031\" id=\"E12\" style=\"stroke:#383838;stroke-width:1.5;\" width=\"65\" x=\"32.5\" y=\"166\"/><text fill=\"#000000\" font-family=\"sans-serif\" font-size=\"12\" font-style=\"italic\" lengthAdjust=\"spacing\" textLength=\"58\" x=\"36\" y=\"183.457\">«part  def»</text><text fill=\"#000000\" font-family=\"sans-serif\" font-size=\"14\" lengthAdjust=\"spacing\" textLength=\"9\" x=\"60.5\" y=\"200.627\">B</text></a></g><g><a href=\"psysml:82017692-047a-4297-9e9e-34f7a99e13bd\" target=\"_top\" title=\"psysml:82017692-047a-4297-9e9e-34f7a99e13bd\" xlink:actuate=\"onRequest\" xlink:href=\"psysml:82017692-047a-4297-9e9e-34f7a99e13bd\" xlink:show=\"new\" xlink:title=\"psysml:82017692-047a-4297-9e9e-34f7a99e13bd\" xlink:type=\"simple\"><rect fill=\"#FFFFFF\" height=\"47.7031\" id=\"E14\" rx=\"10\" ry=\"10\" style=\"stroke:#383838;stroke-width:1.5;\" width=\"50\" x=\"518\" y=\"166\"/><text fill=\"#000000\" font-family=\"sans-serif\" font-size=\"12\" font-style=\"italic\" lengthAdjust=\"spacing\" textLength=\"38\" x=\"524\" y=\"183.457\">«item»</text><text fill=\"#000000\" font-family=\"sans-serif\" font-size=\"14\" lengthAdjust=\"spacing\" textLength=\"15\" x=\"535.5\" y=\"200.627\">c1</text></a></g><g><a href=\"psysml:821b66d6-f9c8-4757-be89-da52f93f1adc\" target=\"_top\" title=\"psysml:821b66d6-f9c8-4757-be89-da52f93f1adc\" xlink:actuate=\"onRequest\" xlink:href=\"psysml:821b66d6-f9c8-4757-be89-da52f93f1adc\" xlink:show=\"new\" xlink:title=\"psysml:821b66d6-f9c8-4757-be89-da52f93f1adc\" xlink:type=\"simple\"><rect fill=\"#FFFFFF\" height=\"47.7031\" id=\"E15\" rx=\"10\" ry=\"10\" style=\"stroke:#383838;stroke-width:1.5;\" width=\"50\" x=\"433\" y=\"166\"/><text fill=\"#000000\" font-family=\"sans-serif\" font-size=\"12\" font-style=\"italic\" lengthAdjust=\"spacing\" textLength=\"38\" x=\"439\" y=\"183.457\">«item»</text><text fill=\"#000000\" font-family=\"sans-serif\" font-size=\"14\" lengthAdjust=\"spacing\" textLength=\"15\" x=\"450.5\" y=\"200.627\">c2</text></a></g><!--MD5=[1c0b9414cc86e0744215edee6abd8926]\n",
       "link E7 to E9--><g id=\"link_E7_E9\"><a href=\"psysml:cfdbc546-0fe7-4764-bce2-d41337dd91d7\" target=\"_top\" title=\"psysml:cfdbc546-0fe7-4764-bce2-d41337dd91d7\" xlink:actuate=\"onRequest\" xlink:href=\"psysml:cfdbc546-0fe7-4764-bce2-d41337dd91d7\" xlink:show=\"new\" xlink:title=\"psysml:cfdbc546-0fe7-4764-bce2-d41337dd91d7\" xlink:type=\"simple\"><path d=\"M673,214.08 C673,244.1 673,296.51 673,328.84 \" fill=\"none\" id=\"E7-to-E9\" style=\"stroke:#181818;stroke-width:1.0;\"/><polygon fill=\"#181818\" points=\"673,333.85,677,324.85,673,328.85,669,324.85,673,333.85\" style=\"stroke:#181818;stroke-width:1.0;\"/><text fill=\"#000000\" font-family=\"sans-serif\" font-size=\"13\" lengthAdjust=\"spacing\" textLength=\"15\" x=\"674\" y=\"260.4951\">: c</text></a></g><!--MD5=[0188b64bb0ae78505a997a81836e11e9]\n",
       "link E3 to E5--><g id=\"link_E3_E5\"><a href=\"psysml:8b2353ae-ac45-4aa1-a808-708047da4baf\" target=\"_top\" title=\"psysml:8b2353ae-ac45-4aa1-a808-708047da4baf\" xlink:actuate=\"onRequest\" xlink:href=\"psysml:8b2353ae-ac45-4aa1-a808-708047da4baf\" xlink:show=\"new\" xlink:title=\"psysml:8b2353ae-ac45-4aa1-a808-708047da4baf\" xlink:type=\"simple\"><path d=\"M775,450.27 C775,458.62 775,474.75 775,482.95 \" fill=\"none\" id=\"E3-E5\" style=\"stroke:#181818;stroke-width:3.0;\"/></a></g><!--MD5=[1386813ad16e1cac7be946b5941f1bbd]\n",
       "@startuml\r\n",
       "skin sysmlbw\r\n",
       "skinparam monochrome true\r\n",
       "skinparam wrapWidth 300\r\n",
       "hide circle\r\n",
       "skinparam ranksep 10\r\n",
       "skinparam rectangle {\r\n",
       " backgroundColor<<block>> LightGreen\r\n",
       "}\r\n",
       "\r\n",
       "package \"interface_check3\" as E1  [[psysml:98626706-deae-43b2-a2d8-6afcc4d6277b ]]  {\r\n",
       "rec usage \"a\" as E2 [[psysml:083b72f9-39b4-4bc6-ba26-3e9c80cac0e0 ]] {\r\n",
       "portout \"x: X  \" as E3  <<(T,blue) port>> [[psysml:d9936afc-d5dd-451d-abb6-0496a299d8f9 ]] \r\n",
       "}\r\n",
       "rec usage \"b\" as E4 [[psysml:5a883010-e670-4555-a155-5acd8e134648 ]] {\r\n",
       "portin \"y: Y  \" as E5  <<(T,blue) port>> [[psysml:527d7225-fef1-44d4-9949-0f3f291e4dde ]] \r\n",
       "}\r\n",
       "rec def \"int\" as E6  <<(T,blue) interface  def>> [[psysml:19d951d9-6f96-4590-8bfd-64755bfced12 ]] {\r\n",
       "rec usage \"i_n: X  \" as E8  <<(T,blue) port>> [[psysml:c86c47ec-b8fd-4f8d-a77b-89fa76e7cbc3 ]] {\r\n",
       "rec usage \"^c2\" as E7  <<(T,blue) item>> [[psysml:8d18249c-aef8-49ed-8c71-4898a7647458 ]] {\r\n",
       "}\r\n",
       "}\r\n",
       "rec usage \"o_u: Y  \" as E10  <<(T,blue) port>> [[psysml:43490733-f6a7-47e1-8c53-6bbb870287ba ]] {\r\n",
       "rec usage \"^c2\" as E9  <<(T,blue) item>> [[psysml:a5643543-b6b7-4f9e-bb9e-a3ec05bba47f ]] {\r\n",
       "}\r\n",
       "}\r\n",
       "}\r\n",
       "rec def \"A\" as E11  <<(T,blue) part  def>> [[psysml:5ee57104-dcd0-4593-9bb8-c39248f1e165 ]] {\r\n",
       "}\r\n",
       "rec def \"B\" as E12  <<(T,blue) part  def>> [[psysml:837e96da-42e5-4f9e-92c3-2cc563fd0be4 ]] {\r\n",
       "}\r\n",
       "rec usage \"c\" as E13  <<(T,blue) item>> [[psysml:df6288e1-d724-465d-badb-154112ef2235 ]] {\r\n",
       "rec usage \"c1\" as E14  <<(T,blue) item>> [[psysml:82017692-047a-4297-9e9e-34f7a99e13bd ]] {\r\n",
       "}\r\n",
       "rec usage \"c2\" as E15  <<(T,blue) item>> [[psysml:821b66d6-f9c8-4757-be89-da52f93f1adc ]] {\r\n",
       "}\r\n",
       "}\r\n",
       "def \"X\" as E16  <<(T,blue) port  def>> [[psysml:490cd686-e804-4e2e-a7e8-128dbd594e9b ]] \r\n",
       "def \"Y\" as E17  <<(T,blue) port  def>> [[psysml:f98545ed-f474-4220-b864-788eff494cb9 ]] \r\n",
       "}\r\n",
       "E7 - -> E9 [[psysml:cfdbc546-0fe7-4764-bce2-d41337dd91d7 ]] : : c\r\n",
       "E3 -[thickness=3]- E5 [[psysml:8b2353ae-ac45-4aa1-a808-708047da4baf ]] \r\n",
       "@enduml\r\n",
       "\n",
       "PlantUML version 1.2022.7(Mon Aug 22 20:01:30 EEST 2022)\n",
       "(EPL source distribution)\n",
       "Java Runtime: OpenJDK Runtime Environment\n",
       "JVM: OpenJDK 64-Bit Server VM\n",
       "Default Encoding: UTF-8\n",
       "Language: en\n",
       "Country: US\n",
       "--></g></svg>"
      ]
     },
     "execution_count": 32,
     "metadata": {},
     "output_type": "execute_result"
    }
   ],
   "source": [
    "%viz interface_check3"
   ]
  },
  {
   "cell_type": "code",
   "execution_count": 71,
   "id": "551ca955-7b2d-46f3-9873-04db0a3cf1a1",
   "metadata": {
    "tags": []
   },
   "outputs": [
    {
     "data": {
      "text/plain": [
       "Package interface_check4 (ca0ce599-43bb-4a3c-acb6-cb03702747e9)\n"
      ]
     },
     "execution_count": 71,
     "metadata": {},
     "output_type": "execute_result"
    }
   ],
   "source": [
    "package interface_check4{\n",
    "    \n",
    "    part a{\n",
    "         port x:X; // the in has removed. seems no difference atleas in the graphical notatin.\n",
    "    }\n",
    "    part b{\n",
    "        out port y:~Y; //use the ~ to return the direction of the port and define all the items of the port in the out mode. \n",
    "    }    \n",
    "    \n",
    "    \n",
    "    interface def int {\n",
    "        end i_n:X; // the difference is that the ends of interface typed with the port type\n",
    "        end o_u:Y;\n",
    "        flow of c2:c from i_n.c2 to o_u.c2; // the first object, means the flow of c, the c should be the main item type or\n",
    "                                            //shoululd be typed by the main item. then the item type cannot be the root type!  \n",
    "    }\n",
    "    \n",
    "    interface int01 : int connect a.x to b.y;\n",
    "    \n",
    "    part def A;\n",
    "    part def B;\n",
    "    \n",
    "    item c{\n",
    "        item c1;\n",
    "        item c2;\n",
    "    }\n",
    "    \n",
    "    port def X{\n",
    "        out item c2;\n",
    "    }\n",
    "    port def Y{\n",
    "        out item c2; // it has a bug that those not consider that the out port is allocated to in port. \n",
    "                    // the solution seems to be define every thing as out item and ues ~ when need an input flow. \n",
    "    }\n",
    "    \n",
    "}"
   ]
  },
  {
   "cell_type": "code",
   "execution_count": 72,
   "id": "d1b26653-9feb-4088-b9c6-7533d6cc3e71",
   "metadata": {
    "tags": []
   },
   "outputs": [
    {
     "data": {
      "image/svg+xml": [
       "<?xml version=\"1.0\" encoding=\"UTF-8\" standalone=\"no\"?><svg xmlns=\"http://www.w3.org/2000/svg\" xmlns:xlink=\"http://www.w3.org/1999/xlink\" contentStyleType=\"text/css\" height=\"579px\" preserveAspectRatio=\"none\" style=\"width:843px;height:579px;background:#FFFFFF;\" version=\"1.1\" viewBox=\"0 0 843 579\" width=\"843px\" zoomAndPan=\"magnify\"><defs/><g><!--MD5=[fbc87193dbaf4d95561dea2c320d4a47]\n",
       "cluster E1--><g id=\"cluster_E1\"><a href=\"psysml:98626706-deae-43b2-a2d8-6afcc4d6277b\" target=\"_top\" title=\"psysml:98626706-deae-43b2-a2d8-6afcc4d6277b\" xlink:actuate=\"onRequest\" xlink:href=\"psysml:98626706-deae-43b2-a2d8-6afcc4d6277b\" xlink:show=\"new\" xlink:title=\"psysml:98626706-deae-43b2-a2d8-6afcc4d6277b\" xlink:type=\"simple\"><polygon fill=\"none\" points=\"16,6,143,6,150,29.6094,826,29.6094,826,572,16,572,16,6\" style=\"stroke:#000000;stroke-width:1.5;\"/><line style=\"stroke:#000000;stroke-width:1.5;\" x1=\"16\" x2=\"150\" y1=\"29.6094\" y2=\"29.6094\"/><text fill=\"#000000\" font-family=\"sans-serif\" font-size=\"14\" font-weight=\"bold\" lengthAdjust=\"spacing\" textLength=\"121\" x=\"20\" y=\"22.5332\">interface_check3</text></a></g><!--MD5=[e4f7fae6ed58524ba242bb0b0d3be6b7]\n",
       "cluster E2--><g id=\"cluster_E2\"><a href=\"psysml:083b72f9-39b4-4bc6-ba26-3e9c80cac0e0\" target=\"_top\" title=\"psysml:083b72f9-39b4-4bc6-ba26-3e9c80cac0e0\" xlink:actuate=\"onRequest\" xlink:href=\"psysml:083b72f9-39b4-4bc6-ba26-3e9c80cac0e0\" xlink:show=\"new\" xlink:title=\"psysml:083b72f9-39b4-4bc6-ba26-3e9c80cac0e0\" xlink:type=\"simple\"><rect fill=\"#FFFFFF\" height=\"280\" id=\"E2\" rx=\"10\" ry=\"10\" style=\"stroke:#383838;stroke-width:1.5;\" width=\"53\" x=\"757\" y=\"164\"/><text fill=\"#000000\" font-family=\"sans-serif\" font-size=\"14\" lengthAdjust=\"spacing\" textLength=\"8\" x=\"779.5\" y=\"183.5332\">a</text><line style=\"stroke:#383838;stroke-width:1.0;\" x1=\"757\" x2=\"810\" y1=\"191.6094\" y2=\"191.6094\"/></a></g><!--MD5=[f6df4d0ebaf0b5dfb2ced0ae5af7c670]\n",
       "cluster E4--><g id=\"cluster_E4\"><a href=\"psysml:5a883010-e670-4555-a155-5acd8e134648\" target=\"_top\" title=\"psysml:5a883010-e670-4555-a155-5acd8e134648\" xlink:actuate=\"onRequest\" xlink:href=\"psysml:5a883010-e670-4555-a155-5acd8e134648\" xlink:show=\"new\" xlink:title=\"psysml:5a883010-e670-4555-a155-5acd8e134648\" xlink:type=\"simple\"><rect fill=\"#FFFFFF\" height=\"67\" id=\"E4\" rx=\"10\" ry=\"10\" style=\"stroke:#383838;stroke-width:1.5;\" width=\"58\" x=\"746\" y=\"489\"/><text fill=\"#000000\" font-family=\"sans-serif\" font-size=\"14\" lengthAdjust=\"spacing\" textLength=\"8\" x=\"771\" y=\"508.5332\">b</text><line style=\"stroke:#383838;stroke-width:1.0;\" x1=\"746\" x2=\"804\" y1=\"516.6094\" y2=\"516.6094\"/></a></g><!--MD5=[14e3b0961a2654348d326746436168a1]\n",
       "cluster E6--><g id=\"cluster_E6\"><a href=\"psysml:19d951d9-6f96-4590-8bfd-64755bfced12\" target=\"_top\" title=\"psysml:19d951d9-6f96-4590-8bfd-64755bfced12\" xlink:actuate=\"onRequest\" xlink:href=\"psysml:19d951d9-6f96-4590-8bfd-64755bfced12\" xlink:show=\"new\" xlink:title=\"psysml:19d951d9-6f96-4590-8bfd-64755bfced12\" xlink:type=\"simple\"><rect fill=\"#FFFFFF\" height=\"372\" id=\"E6\" style=\"stroke:#383838;stroke-width:1.5;\" width=\"130\" x=\"608\" y=\"50\"/><text fill=\"#000000\" font-family=\"sans-serif\" font-size=\"12\" font-style=\"italic\" lengthAdjust=\"spacing\" textLength=\"84\" x=\"631\" y=\"67.457\">«interface  def»</text><text fill=\"#000000\" font-family=\"sans-serif\" font-size=\"14\" lengthAdjust=\"spacing\" textLength=\"15\" x=\"665.5\" y=\"84.627\">int</text><line style=\"stroke:#383838;stroke-width:1.0;\" x1=\"608\" x2=\"738\" y1=\"92.7031\" y2=\"92.7031\"/></a></g><!--MD5=[55dfccfc6c49c2d10cd1bd2211a6c90c]\n",
       "cluster E8--><g id=\"cluster_E8\"><a href=\"psysml:c86c47ec-b8fd-4f8d-a77b-89fa76e7cbc3\" target=\"_top\" title=\"psysml:c86c47ec-b8fd-4f8d-a77b-89fa76e7cbc3\" xlink:actuate=\"onRequest\" xlink:href=\"psysml:c86c47ec-b8fd-4f8d-a77b-89fa76e7cbc3\" xlink:show=\"new\" xlink:title=\"psysml:c86c47ec-b8fd-4f8d-a77b-89fa76e7cbc3\" xlink:type=\"simple\"><rect fill=\"#FFFFFF\" height=\"118\" id=\"E8\" rx=\"10\" ry=\"10\" style=\"stroke:#383838;stroke-width:1.5;\" width=\"82\" x=\"632\" y=\"112\"/><text fill=\"#000000\" font-family=\"sans-serif\" font-size=\"12\" font-style=\"italic\" lengthAdjust=\"spacing\" textLength=\"35\" x=\"655.5\" y=\"129.457\">«port»</text><text fill=\"#000000\" font-family=\"sans-serif\" font-size=\"14\" lengthAdjust=\"spacing\" textLength=\"35\" x=\"651.5\" y=\"146.627\">i_n: X</text><line style=\"stroke:#383838;stroke-width:1.0;\" x1=\"632\" x2=\"714\" y1=\"154.7031\" y2=\"154.7031\"/></a></g><!--MD5=[a84b4591f868c1fa4a211716a82f2f0d]\n",
       "cluster E10--><g id=\"cluster_E10\"><a href=\"psysml:43490733-f6a7-47e1-8c53-6bbb870287ba\" target=\"_top\" title=\"psysml:43490733-f6a7-47e1-8c53-6bbb870287ba\" xlink:actuate=\"onRequest\" xlink:href=\"psysml:43490733-f6a7-47e1-8c53-6bbb870287ba\" xlink:show=\"new\" xlink:title=\"psysml:43490733-f6a7-47e1-8c53-6bbb870287ba\" xlink:type=\"simple\"><rect fill=\"#FFFFFF\" height=\"118\" id=\"E10\" rx=\"10\" ry=\"10\" style=\"stroke:#383838;stroke-width:1.5;\" width=\"82\" x=\"632\" y=\"280\"/><text fill=\"#000000\" font-family=\"sans-serif\" font-size=\"12\" font-style=\"italic\" lengthAdjust=\"spacing\" textLength=\"35\" x=\"655.5\" y=\"297.457\">«port»</text><text fill=\"#000000\" font-family=\"sans-serif\" font-size=\"14\" lengthAdjust=\"spacing\" textLength=\"41\" x=\"648.5\" y=\"314.627\">o_u: Y</text><line style=\"stroke:#383838;stroke-width:1.0;\" x1=\"632\" x2=\"714\" y1=\"322.7031\" y2=\"322.7031\"/></a></g><!--MD5=[03104f77b71e2d8d3500c651e6e31181]\n",
       "cluster E13--><g id=\"cluster_E13\"><a href=\"psysml:df6288e1-d724-465d-badb-154112ef2235\" target=\"_top\" title=\"psysml:df6288e1-d724-465d-badb-154112ef2235\" xlink:actuate=\"onRequest\" xlink:href=\"psysml:df6288e1-d724-465d-badb-154112ef2235\" xlink:show=\"new\" xlink:title=\"psysml:df6288e1-d724-465d-badb-154112ef2235\" xlink:type=\"simple\"><rect fill=\"#FFFFFF\" height=\"118\" id=\"E13\" rx=\"10\" ry=\"10\" style=\"stroke:#383838;stroke-width:1.5;\" width=\"167\" x=\"417\" y=\"112\"/><text fill=\"#000000\" font-family=\"sans-serif\" font-size=\"12\" font-style=\"italic\" lengthAdjust=\"spacing\" textLength=\"38\" x=\"481.5\" y=\"129.457\">«item»</text><text fill=\"#000000\" font-family=\"sans-serif\" font-size=\"14\" lengthAdjust=\"spacing\" textLength=\"7\" x=\"497\" y=\"146.627\">c</text><line style=\"stroke:#383838;stroke-width:1.0;\" x1=\"417\" x2=\"584\" y1=\"154.7031\" y2=\"154.7031\"/></a></g><g><a href=\"psysml:490cd686-e804-4e2e-a7e8-128dbd594e9b\" target=\"_top\" title=\"psysml:490cd686-e804-4e2e-a7e8-128dbd594e9b\" xlink:actuate=\"onRequest\" xlink:href=\"psysml:490cd686-e804-4e2e-a7e8-128dbd594e9b\" xlink:show=\"new\" xlink:title=\"psysml:490cd686-e804-4e2e-a7e8-128dbd594e9b\" xlink:type=\"simple\"><rect fill=\"#FFFFFF\" height=\"47.7031\" id=\"E16\" style=\"stroke:#383838;stroke-width:1.5;\" width=\"65\" x=\"332.5\" y=\"166\"/><text fill=\"#000000\" font-family=\"sans-serif\" font-size=\"12\" font-style=\"italic\" lengthAdjust=\"spacing\" textLength=\"58\" x=\"336\" y=\"183.457\">«port  def»</text><text fill=\"#000000\" font-family=\"sans-serif\" font-size=\"14\" lengthAdjust=\"spacing\" textLength=\"8\" x=\"361\" y=\"200.627\">X</text></a></g><g><a href=\"psysml:f98545ed-f474-4220-b864-788eff494cb9\" target=\"_top\" title=\"psysml:f98545ed-f474-4220-b864-788eff494cb9\" xlink:actuate=\"onRequest\" xlink:href=\"psysml:f98545ed-f474-4220-b864-788eff494cb9\" xlink:show=\"new\" xlink:title=\"psysml:f98545ed-f474-4220-b864-788eff494cb9\" xlink:type=\"simple\"><rect fill=\"#FFFFFF\" height=\"47.7031\" id=\"E17\" style=\"stroke:#383838;stroke-width:1.5;\" width=\"65\" x=\"232.5\" y=\"166\"/><text fill=\"#000000\" font-family=\"sans-serif\" font-size=\"12\" font-style=\"italic\" lengthAdjust=\"spacing\" textLength=\"58\" x=\"236\" y=\"183.457\">«port  def»</text><text fill=\"#000000\" font-family=\"sans-serif\" font-size=\"14\" lengthAdjust=\"spacing\" textLength=\"9\" x=\"260.5\" y=\"200.627\">Y</text></a></g><text fill=\"#000000\" font-family=\"sans-serif\" font-size=\"14\" lengthAdjust=\"spacing\" textLength=\"22\" x=\"760\" y=\"464.5332\">x: X</text><rect fill=\"#FFFFFF\" height=\"12\" style=\"stroke:#181818;stroke-width:1.5;\" width=\"12\" x=\"769\" y=\"438\"/><text fill=\"#000000\" font-family=\"sans-serif\" font-size=\"14\" lengthAdjust=\"spacing\" textLength=\"24\" x=\"759\" y=\"467.9238\">y: Y</text><rect fill=\"#FFFFFF\" height=\"12\" style=\"stroke:#181818;stroke-width:1.5;\" width=\"12\" x=\"769\" y=\"483\"/><g><a href=\"psysml:8d18249c-aef8-49ed-8c71-4898a7647458\" target=\"_top\" title=\"psysml:8d18249c-aef8-49ed-8c71-4898a7647458\" xlink:actuate=\"onRequest\" xlink:href=\"psysml:8d18249c-aef8-49ed-8c71-4898a7647458\" xlink:show=\"new\" xlink:title=\"psysml:8d18249c-aef8-49ed-8c71-4898a7647458\" xlink:type=\"simple\"><rect fill=\"#FFFFFF\" height=\"47.7031\" id=\"E7\" rx=\"10\" ry=\"10\" style=\"stroke:#383838;stroke-width:1.5;\" width=\"50\" x=\"648\" y=\"166\"/><text fill=\"#000000\" font-family=\"sans-serif\" font-size=\"12\" font-style=\"italic\" lengthAdjust=\"spacing\" textLength=\"38\" x=\"654\" y=\"183.457\">«item»</text><text fill=\"#000000\" font-family=\"sans-serif\" font-size=\"14\" lengthAdjust=\"spacing\" textLength=\"20\" x=\"663\" y=\"200.627\">^c2</text></a></g><g><a href=\"psysml:a5643543-b6b7-4f9e-bb9e-a3ec05bba47f\" target=\"_top\" title=\"psysml:a5643543-b6b7-4f9e-bb9e-a3ec05bba47f\" xlink:actuate=\"onRequest\" xlink:href=\"psysml:a5643543-b6b7-4f9e-bb9e-a3ec05bba47f\" xlink:show=\"new\" xlink:title=\"psysml:a5643543-b6b7-4f9e-bb9e-a3ec05bba47f\" xlink:type=\"simple\"><rect fill=\"#FFFFFF\" height=\"47.7031\" id=\"E9\" rx=\"10\" ry=\"10\" style=\"stroke:#383838;stroke-width:1.5;\" width=\"50\" x=\"648\" y=\"334\"/><text fill=\"#000000\" font-family=\"sans-serif\" font-size=\"12\" font-style=\"italic\" lengthAdjust=\"spacing\" textLength=\"38\" x=\"654\" y=\"351.457\">«item»</text><text fill=\"#000000\" font-family=\"sans-serif\" font-size=\"14\" lengthAdjust=\"spacing\" textLength=\"20\" x=\"663\" y=\"368.627\">^c2</text></a></g><g><a href=\"psysml:5ee57104-dcd0-4593-9bb8-c39248f1e165\" target=\"_top\" title=\"psysml:5ee57104-dcd0-4593-9bb8-c39248f1e165\" xlink:actuate=\"onRequest\" xlink:href=\"psysml:5ee57104-dcd0-4593-9bb8-c39248f1e165\" xlink:show=\"new\" xlink:title=\"psysml:5ee57104-dcd0-4593-9bb8-c39248f1e165\" xlink:type=\"simple\"><rect fill=\"#FFFFFF\" height=\"47.7031\" id=\"E11\" style=\"stroke:#383838;stroke-width:1.5;\" width=\"65\" x=\"132.5\" y=\"166\"/><text fill=\"#000000\" font-family=\"sans-serif\" font-size=\"12\" font-style=\"italic\" lengthAdjust=\"spacing\" textLength=\"58\" x=\"136\" y=\"183.457\">«part  def»</text><text fill=\"#000000\" font-family=\"sans-serif\" font-size=\"14\" lengthAdjust=\"spacing\" textLength=\"9\" x=\"160.5\" y=\"200.627\">A</text></a></g><g><a href=\"psysml:837e96da-42e5-4f9e-92c3-2cc563fd0be4\" target=\"_top\" title=\"psysml:837e96da-42e5-4f9e-92c3-2cc563fd0be4\" xlink:actuate=\"onRequest\" xlink:href=\"psysml:837e96da-42e5-4f9e-92c3-2cc563fd0be4\" xlink:show=\"new\" xlink:title=\"psysml:837e96da-42e5-4f9e-92c3-2cc563fd0be4\" xlink:type=\"simple\"><rect fill=\"#FFFFFF\" height=\"47.7031\" id=\"E12\" style=\"stroke:#383838;stroke-width:1.5;\" width=\"65\" x=\"32.5\" y=\"166\"/><text fill=\"#000000\" font-family=\"sans-serif\" font-size=\"12\" font-style=\"italic\" lengthAdjust=\"spacing\" textLength=\"58\" x=\"36\" y=\"183.457\">«part  def»</text><text fill=\"#000000\" font-family=\"sans-serif\" font-size=\"14\" lengthAdjust=\"spacing\" textLength=\"9\" x=\"60.5\" y=\"200.627\">B</text></a></g><g><a href=\"psysml:82017692-047a-4297-9e9e-34f7a99e13bd\" target=\"_top\" title=\"psysml:82017692-047a-4297-9e9e-34f7a99e13bd\" xlink:actuate=\"onRequest\" xlink:href=\"psysml:82017692-047a-4297-9e9e-34f7a99e13bd\" xlink:show=\"new\" xlink:title=\"psysml:82017692-047a-4297-9e9e-34f7a99e13bd\" xlink:type=\"simple\"><rect fill=\"#FFFFFF\" height=\"47.7031\" id=\"E14\" rx=\"10\" ry=\"10\" style=\"stroke:#383838;stroke-width:1.5;\" width=\"50\" x=\"518\" y=\"166\"/><text fill=\"#000000\" font-family=\"sans-serif\" font-size=\"12\" font-style=\"italic\" lengthAdjust=\"spacing\" textLength=\"38\" x=\"524\" y=\"183.457\">«item»</text><text fill=\"#000000\" font-family=\"sans-serif\" font-size=\"14\" lengthAdjust=\"spacing\" textLength=\"15\" x=\"535.5\" y=\"200.627\">c1</text></a></g><g><a href=\"psysml:821b66d6-f9c8-4757-be89-da52f93f1adc\" target=\"_top\" title=\"psysml:821b66d6-f9c8-4757-be89-da52f93f1adc\" xlink:actuate=\"onRequest\" xlink:href=\"psysml:821b66d6-f9c8-4757-be89-da52f93f1adc\" xlink:show=\"new\" xlink:title=\"psysml:821b66d6-f9c8-4757-be89-da52f93f1adc\" xlink:type=\"simple\"><rect fill=\"#FFFFFF\" height=\"47.7031\" id=\"E15\" rx=\"10\" ry=\"10\" style=\"stroke:#383838;stroke-width:1.5;\" width=\"50\" x=\"433\" y=\"166\"/><text fill=\"#000000\" font-family=\"sans-serif\" font-size=\"12\" font-style=\"italic\" lengthAdjust=\"spacing\" textLength=\"38\" x=\"439\" y=\"183.457\">«item»</text><text fill=\"#000000\" font-family=\"sans-serif\" font-size=\"14\" lengthAdjust=\"spacing\" textLength=\"15\" x=\"450.5\" y=\"200.627\">c2</text></a></g><!--MD5=[1c0b9414cc86e0744215edee6abd8926]\n",
       "link E7 to E9--><g id=\"link_E7_E9\"><a href=\"psysml:cfdbc546-0fe7-4764-bce2-d41337dd91d7\" target=\"_top\" title=\"psysml:cfdbc546-0fe7-4764-bce2-d41337dd91d7\" xlink:actuate=\"onRequest\" xlink:href=\"psysml:cfdbc546-0fe7-4764-bce2-d41337dd91d7\" xlink:show=\"new\" xlink:title=\"psysml:cfdbc546-0fe7-4764-bce2-d41337dd91d7\" xlink:type=\"simple\"><path d=\"M673,214.08 C673,244.1 673,296.51 673,328.84 \" fill=\"none\" id=\"E7-to-E9\" style=\"stroke:#181818;stroke-width:1.0;\"/><polygon fill=\"#181818\" points=\"673,333.85,677,324.85,673,328.85,669,324.85,673,333.85\" style=\"stroke:#181818;stroke-width:1.0;\"/><text fill=\"#000000\" font-family=\"sans-serif\" font-size=\"13\" lengthAdjust=\"spacing\" textLength=\"15\" x=\"674\" y=\"260.4951\">: c</text></a></g><!--MD5=[0188b64bb0ae78505a997a81836e11e9]\n",
       "link E3 to E5--><g id=\"link_E3_E5\"><a href=\"psysml:8b2353ae-ac45-4aa1-a808-708047da4baf\" target=\"_top\" title=\"psysml:8b2353ae-ac45-4aa1-a808-708047da4baf\" xlink:actuate=\"onRequest\" xlink:href=\"psysml:8b2353ae-ac45-4aa1-a808-708047da4baf\" xlink:show=\"new\" xlink:title=\"psysml:8b2353ae-ac45-4aa1-a808-708047da4baf\" xlink:type=\"simple\"><path d=\"M775,450.27 C775,458.62 775,474.75 775,482.95 \" fill=\"none\" id=\"E3-E5\" style=\"stroke:#181818;stroke-width:3.0;\"/></a></g><!--MD5=[1386813ad16e1cac7be946b5941f1bbd]\n",
       "@startuml\r\n",
       "skin sysmlbw\r\n",
       "skinparam monochrome true\r\n",
       "skinparam wrapWidth 300\r\n",
       "hide circle\r\n",
       "skinparam ranksep 10\r\n",
       "skinparam rectangle {\r\n",
       " backgroundColor<<block>> LightGreen\r\n",
       "}\r\n",
       "\r\n",
       "package \"interface_check3\" as E1  [[psysml:98626706-deae-43b2-a2d8-6afcc4d6277b ]]  {\r\n",
       "rec usage \"a\" as E2 [[psysml:083b72f9-39b4-4bc6-ba26-3e9c80cac0e0 ]] {\r\n",
       "portout \"x: X  \" as E3  <<(T,blue) port>> [[psysml:d9936afc-d5dd-451d-abb6-0496a299d8f9 ]] \r\n",
       "}\r\n",
       "rec usage \"b\" as E4 [[psysml:5a883010-e670-4555-a155-5acd8e134648 ]] {\r\n",
       "portin \"y: Y  \" as E5  <<(T,blue) port>> [[psysml:527d7225-fef1-44d4-9949-0f3f291e4dde ]] \r\n",
       "}\r\n",
       "rec def \"int\" as E6  <<(T,blue) interface  def>> [[psysml:19d951d9-6f96-4590-8bfd-64755bfced12 ]] {\r\n",
       "rec usage \"i_n: X  \" as E8  <<(T,blue) port>> [[psysml:c86c47ec-b8fd-4f8d-a77b-89fa76e7cbc3 ]] {\r\n",
       "rec usage \"^c2\" as E7  <<(T,blue) item>> [[psysml:8d18249c-aef8-49ed-8c71-4898a7647458 ]] {\r\n",
       "}\r\n",
       "}\r\n",
       "rec usage \"o_u: Y  \" as E10  <<(T,blue) port>> [[psysml:43490733-f6a7-47e1-8c53-6bbb870287ba ]] {\r\n",
       "rec usage \"^c2\" as E9  <<(T,blue) item>> [[psysml:a5643543-b6b7-4f9e-bb9e-a3ec05bba47f ]] {\r\n",
       "}\r\n",
       "}\r\n",
       "}\r\n",
       "rec def \"A\" as E11  <<(T,blue) part  def>> [[psysml:5ee57104-dcd0-4593-9bb8-c39248f1e165 ]] {\r\n",
       "}\r\n",
       "rec def \"B\" as E12  <<(T,blue) part  def>> [[psysml:837e96da-42e5-4f9e-92c3-2cc563fd0be4 ]] {\r\n",
       "}\r\n",
       "rec usage \"c\" as E13  <<(T,blue) item>> [[psysml:df6288e1-d724-465d-badb-154112ef2235 ]] {\r\n",
       "rec usage \"c1\" as E14  <<(T,blue) item>> [[psysml:82017692-047a-4297-9e9e-34f7a99e13bd ]] {\r\n",
       "}\r\n",
       "rec usage \"c2\" as E15  <<(T,blue) item>> [[psysml:821b66d6-f9c8-4757-be89-da52f93f1adc ]] {\r\n",
       "}\r\n",
       "}\r\n",
       "def \"X\" as E16  <<(T,blue) port  def>> [[psysml:490cd686-e804-4e2e-a7e8-128dbd594e9b ]] \r\n",
       "def \"Y\" as E17  <<(T,blue) port  def>> [[psysml:f98545ed-f474-4220-b864-788eff494cb9 ]] \r\n",
       "}\r\n",
       "E7 - -> E9 [[psysml:cfdbc546-0fe7-4764-bce2-d41337dd91d7 ]] : : c\r\n",
       "E3 -[thickness=3]- E5 [[psysml:8b2353ae-ac45-4aa1-a808-708047da4baf ]] \r\n",
       "@enduml\r\n",
       "\n",
       "PlantUML version 1.2022.7(Mon Aug 22 20:01:30 EEST 2022)\n",
       "(EPL source distribution)\n",
       "Java Runtime: OpenJDK Runtime Environment\n",
       "JVM: OpenJDK 64-Bit Server VM\n",
       "Default Encoding: UTF-8\n",
       "Language: en\n",
       "Country: US\n",
       "--></g></svg>"
      ]
     },
     "execution_count": 72,
     "metadata": {},
     "output_type": "execute_result"
    }
   ],
   "source": [
    "%viz --view=INTERCONNECTION interface_check3"
   ]
  },
  {
   "cell_type": "code",
   "execution_count": 1,
   "id": "d2477b16-6ecd-4a20-bf41-21173c8ad742",
   "metadata": {
    "tags": []
   },
   "outputs": [
    {
     "name": "stderr",
     "output_type": "stream",
     "text": [
      "ERROR:Cannot have more than two ends (1.sysml line : 21 column : 5)\n"
     ]
    },
    {
     "data": {
      "text/plain": []
     },
     "execution_count": 1,
     "metadata": {},
     "output_type": "execute_result"
    }
   ],
   "source": [
    "package interface_check5{\n",
    "    \n",
    "    part a{\n",
    "        in port x:X; \n",
    "    }\n",
    "    part b{\n",
    "        out port y:~Y; //use the ~ to return the direction of the port and define all the items of the port in the out mode. \n",
    "    }    \n",
    "    \n",
    "    \n",
    "    interface def int {\n",
    "        end i_n:X; // the difference is that the ends of interface typed with the port type\n",
    "        end o_u:Y;\n",
    "        flow of c2:c from i_n.c2 to o_u.c2;\n",
    "        end i_n2:X;\n",
    "        end o_u2:Y;\n",
    "        flow of c1:c from i_n2.c1 to o_u2.c1;\n",
    "    }\n",
    "    \n",
    "    \n",
    "    interface int01 : int connect a.x to b.y;\n",
    "    \n",
    "    part def A;\n",
    "    part def B;\n",
    "    \n",
    "    item c{\n",
    "        item c1;\n",
    "        item c2;\n",
    "    }\n",
    "    \n",
    "    port def X{\n",
    "        out item c1;\n",
    "        out item c2;\n",
    "    }\n",
    "    port def Y{\n",
    "        out item c2; // it has a bug that those not consider that the out port is allocated to in port. \n",
    "                    // the solution seems to be define every thing as out item and ues ~ when need an input flow. \n",
    "        out item c1;\n",
    "    }\n",
    "    \n",
    "    \n",
    "}"
   ]
  },
  {
   "cell_type": "code",
   "execution_count": 2,
   "id": "6471461a-cf27-4e67-9ad8-b095c24504d6",
   "metadata": {
    "tags": []
   },
   "outputs": [
    {
     "name": "stderr",
     "output_type": "stream",
     "text": [
      "ERROR:no viable alternative at input 'each' (2.sysml line : 1 column : 5)\n",
      "ERROR:no viable alternative at input 'item' (2.sysml line : 1 column : 10)\n",
      "ERROR:no viable alternative at input 'port' (2.sysml line : 1 column : 22)\n",
      "ERROR:no viable alternative at input 'separate' (2.sysml line : 1 column : 29)\n",
      "ERROR:no viable alternative at input 'interface' (2.sysml line : 1 column : 38)\n",
      "ERROR:no viable alternative at input 'be' (2.sysml line : 1 column : 48)\n",
      "ERROR:no viable alternative at input 'otherwise' (2.sysml line : 1 column : 57)\n",
      "ERROR:no viable alternative at input 'it' (2.sysml line : 1 column : 75)\n",
      "ERROR:no viable alternative at input 'will' (2.sysml line : 1 column : 78)\n",
      "ERROR:no viable alternative at input 'not' (2.sysml line : 1 column : 83)\n",
      "ERROR:no viable alternative at input 'and' (2.sysml line : 1 column : 92)\n",
      "ERROR:no viable alternative at input 'not' (2.sysml line : 1 column : 102)\n",
      "ERROR:no viable alternative at input 'parts' (2.sysml line : 1 column : 118)\n",
      "ERROR:no viable alternative at input 'to' (2.sysml line : 1 column : 124)\n",
      "ERROR:no viable alternative at input '.' (2.sysml line : 1 column : 133)\n"
     ]
    },
    {
     "data": {
      "text/plain": []
     },
     "execution_count": 2,
     "metadata": {},
     "output_type": "execute_result"
    }
   ],
   "source": [
    "per each item of the port a separate interface shold be defined otherwise it will not work and would not connect the parts to gether. "
   ]
  },
  {
   "cell_type": "code",
   "execution_count": 1,
   "id": "5ecafdc6-12fb-4ffd-aca9-8c62bf983f2a",
   "metadata": {
    "tags": []
   },
   "outputs": [
    {
     "data": {
      "text/plain": [
       "Package interface_check6 (9b8c7f04-f775-4cc1-b812-aa1870943b21)\n"
      ]
     },
     "execution_count": 1,
     "metadata": {},
     "output_type": "execute_result"
    }
   ],
   "source": [
    "package interface_check6{\n",
    "    \n",
    "    part a{\n",
    "        port a_x:X; // the in has removed. seems no difference atleas in the graphical notatin.\n",
    "        port a_y:Y; // an additional port has been added.\n",
    "    }\n",
    "    part b{\n",
    "        port b_x:X;\n",
    "        port b_y:Y; //use the ~ to return the direction of the port and define all the items of the port in the out mode. \n",
    "    }    \n",
    "    \n",
    "    \n",
    "    interface def int_x {\n",
    "        end i_n:X; // the difference is that the ends of interface typed with the port type\n",
    "        end o_u:X;\n",
    "        flow of c2:c from i_n.c2 to o_u.c2; // the first object, means the flow of c, the c should be the main item type or\n",
    "                                            //shoululd be typed by the main item. then the item type cannot be the root type!  \n",
    "    }\n",
    "    \n",
    "    interface def int_y {\n",
    "        end i_n:Y; // the difference is that the ends of interface typed with the port type\n",
    "        end o_u:Y;\n",
    "        flow of c1:c from i_n.c1 to o_u.c1; // the first object, means the flow of c, the c should be the main item type or\n",
    "                                            //shoululd be typed by the main item. then the item type cannot be the root type!  \n",
    "    }\n",
    "    \n",
    "    interface int01 : int_x connect a.a_x to b.b_x; //ok\n",
    "    interface int02 : int_x connect a.a_y to b.b_y; //not ok \n",
    "    interface int03 : int_y connect a.a_x to b.b_y; //ok \n",
    "    interface int04 : int_x connect a.a_y to b.b_x; //not ok\n",
    "    \n",
    "    part def A;\n",
    "    part def B;\n",
    "    \n",
    "    item c{\n",
    "        item c1;\n",
    "        item c2;\n",
    "    }\n",
    "    \n",
    "    port def X{\n",
    "        out item c2;\n",
    "    }\n",
    "    port def Y{\n",
    "        out item c1; // it has a bug that those not consider that the out port is allocated to in port. \n",
    "                    // the solution seems to be define every thing as out item and ues ~ when need an input flow. \n",
    "    }\n",
    "    \n",
    "}"
   ]
  },
  {
   "cell_type": "code",
   "execution_count": 2,
   "id": "814a44b2-62ba-4f9b-9654-66f1a06a8db5",
   "metadata": {},
   "outputs": [
    {
     "data": {
      "image/svg+xml": [
       "<?xml version=\"1.0\" encoding=\"UTF-8\" standalone=\"no\"?><svg xmlns=\"http://www.w3.org/2000/svg\" xmlns:xlink=\"http://www.w3.org/1999/xlink\" contentStyleType=\"text/css\" height=\"579px\" preserveAspectRatio=\"none\" style=\"width:1051px;height:579px;background:#FFFFFF;\" version=\"1.1\" viewBox=\"0 0 1051 579\" width=\"1051px\" zoomAndPan=\"magnify\"><defs/><g><!--MD5=[fbc87193dbaf4d95561dea2c320d4a47]\n",
       "cluster E1--><g id=\"cluster_E1\"><a href=\"psysml:9b8c7f04-f775-4cc1-b812-aa1870943b21\" target=\"_top\" title=\"psysml:9b8c7f04-f775-4cc1-b812-aa1870943b21\" xlink:actuate=\"onRequest\" xlink:href=\"psysml:9b8c7f04-f775-4cc1-b812-aa1870943b21\" xlink:show=\"new\" xlink:title=\"psysml:9b8c7f04-f775-4cc1-b812-aa1870943b21\" xlink:type=\"simple\"><polygon fill=\"none\" points=\"16,6,143,6,150,29.6094,1034,29.6094,1034,572,16,572,16,6\" style=\"stroke:#000000;stroke-width:1.5;\"/><line style=\"stroke:#000000;stroke-width:1.5;\" x1=\"16\" x2=\"150\" y1=\"29.6094\" y2=\"29.6094\"/><text fill=\"#000000\" font-family=\"sans-serif\" font-size=\"14\" font-weight=\"bold\" lengthAdjust=\"spacing\" textLength=\"121\" x=\"20\" y=\"22.5332\">interface_check6</text></a></g><!--MD5=[e4f7fae6ed58524ba242bb0b0d3be6b7]\n",
       "cluster E2--><g id=\"cluster_E2\"><a href=\"psysml:747831d2-814c-4343-8f9a-9dacd6010564\" target=\"_top\" title=\"psysml:747831d2-814c-4343-8f9a-9dacd6010564\" xlink:actuate=\"onRequest\" xlink:href=\"psysml:747831d2-814c-4343-8f9a-9dacd6010564\" xlink:show=\"new\" xlink:title=\"psysml:747831d2-814c-4343-8f9a-9dacd6010564\" xlink:type=\"simple\"><rect fill=\"#FFFFFF\" height=\"280\" id=\"E2\" rx=\"10\" ry=\"10\" style=\"stroke:#383838;stroke-width:1.5;\" width=\"118\" x=\"904\" y=\"164\"/><text fill=\"#000000\" font-family=\"sans-serif\" font-size=\"14\" lengthAdjust=\"spacing\" textLength=\"8\" x=\"959\" y=\"183.5332\">a</text><line style=\"stroke:#383838;stroke-width:1.0;\" x1=\"904\" x2=\"1022\" y1=\"191.6094\" y2=\"191.6094\"/></a></g><!--MD5=[de5ec2e2e8f62f467e546659f5068c88]\n",
       "cluster E5--><g id=\"cluster_E5\"><a href=\"psysml:4ccff0bf-f92b-4839-b093-8f81440ec6ad\" target=\"_top\" title=\"psysml:4ccff0bf-f92b-4839-b093-8f81440ec6ad\" xlink:actuate=\"onRequest\" xlink:href=\"psysml:4ccff0bf-f92b-4839-b093-8f81440ec6ad\" xlink:show=\"new\" xlink:title=\"psysml:4ccff0bf-f92b-4839-b093-8f81440ec6ad\" xlink:type=\"simple\"><rect fill=\"#FFFFFF\" height=\"67\" id=\"E5\" rx=\"10\" ry=\"10\" style=\"stroke:#383838;stroke-width:1.5;\" width=\"118\" x=\"895\" y=\"489\"/><text fill=\"#000000\" font-family=\"sans-serif\" font-size=\"14\" lengthAdjust=\"spacing\" textLength=\"8\" x=\"950\" y=\"508.5332\">b</text><line style=\"stroke:#383838;stroke-width:1.0;\" x1=\"895\" x2=\"1013\" y1=\"516.6094\" y2=\"516.6094\"/></a></g><!--MD5=[55dfccfc6c49c2d10cd1bd2211a6c90c]\n",
       "cluster E8--><g id=\"cluster_E8\"><a href=\"psysml:9163d2b0-27da-4c0f-895c-6aaec6e035f4\" target=\"_top\" title=\"psysml:9163d2b0-27da-4c0f-895c-6aaec6e035f4\" xlink:actuate=\"onRequest\" xlink:href=\"psysml:9163d2b0-27da-4c0f-895c-6aaec6e035f4\" xlink:show=\"new\" xlink:title=\"psysml:9163d2b0-27da-4c0f-895c-6aaec6e035f4\" xlink:type=\"simple\"><rect fill=\"#FFFFFF\" height=\"372\" id=\"E8\" style=\"stroke:#383838;stroke-width:1.5;\" width=\"130\" x=\"762\" y=\"50\"/><text fill=\"#000000\" font-family=\"sans-serif\" font-size=\"12\" font-style=\"italic\" lengthAdjust=\"spacing\" textLength=\"84\" x=\"785\" y=\"67.457\">«interface  def»</text><text fill=\"#000000\" font-family=\"sans-serif\" font-size=\"14\" lengthAdjust=\"spacing\" textLength=\"29\" x=\"812.5\" y=\"84.627\">int_x</text><line style=\"stroke:#383838;stroke-width:1.0;\" x1=\"762\" x2=\"892\" y1=\"92.7031\" y2=\"92.7031\"/></a></g><!--MD5=[a84b4591f868c1fa4a211716a82f2f0d]\n",
       "cluster E10--><g id=\"cluster_E10\"><a href=\"psysml:ee049a69-52f5-452d-919e-64627f2512dd\" target=\"_top\" title=\"psysml:ee049a69-52f5-452d-919e-64627f2512dd\" xlink:actuate=\"onRequest\" xlink:href=\"psysml:ee049a69-52f5-452d-919e-64627f2512dd\" xlink:show=\"new\" xlink:title=\"psysml:ee049a69-52f5-452d-919e-64627f2512dd\" xlink:type=\"simple\"><rect fill=\"#FFFFFF\" height=\"118\" id=\"E10\" rx=\"10\" ry=\"10\" style=\"stroke:#383838;stroke-width:1.5;\" width=\"82\" x=\"786\" y=\"112\"/><text fill=\"#000000\" font-family=\"sans-serif\" font-size=\"12\" font-style=\"italic\" lengthAdjust=\"spacing\" textLength=\"35\" x=\"809.5\" y=\"129.457\">«port»</text><text fill=\"#000000\" font-family=\"sans-serif\" font-size=\"14\" lengthAdjust=\"spacing\" textLength=\"35\" x=\"805.5\" y=\"146.627\">i_n: X</text><line style=\"stroke:#383838;stroke-width:1.0;\" x1=\"786\" x2=\"868\" y1=\"154.7031\" y2=\"154.7031\"/></a></g><!--MD5=[47bea60c1a0ac6c1143df232041969c0]\n",
       "cluster E12--><g id=\"cluster_E12\"><a href=\"psysml:8a91dc15-196c-4a27-9f99-093c85dddbb7\" target=\"_top\" title=\"psysml:8a91dc15-196c-4a27-9f99-093c85dddbb7\" xlink:actuate=\"onRequest\" xlink:href=\"psysml:8a91dc15-196c-4a27-9f99-093c85dddbb7\" xlink:show=\"new\" xlink:title=\"psysml:8a91dc15-196c-4a27-9f99-093c85dddbb7\" xlink:type=\"simple\"><rect fill=\"#FFFFFF\" height=\"118\" id=\"E12\" rx=\"10\" ry=\"10\" style=\"stroke:#383838;stroke-width:1.5;\" width=\"82\" x=\"786\" y=\"280\"/><text fill=\"#000000\" font-family=\"sans-serif\" font-size=\"12\" font-style=\"italic\" lengthAdjust=\"spacing\" textLength=\"35\" x=\"809.5\" y=\"297.457\">«port»</text><text fill=\"#000000\" font-family=\"sans-serif\" font-size=\"14\" lengthAdjust=\"spacing\" textLength=\"40\" x=\"803\" y=\"314.627\">o_u: X</text><line style=\"stroke:#383838;stroke-width:1.0;\" x1=\"786\" x2=\"868\" y1=\"322.7031\" y2=\"322.7031\"/></a></g><!--MD5=[03104f77b71e2d8d3500c651e6e31181]\n",
       "cluster E13--><g id=\"cluster_E13\"><a href=\"psysml:2ad8a421-a47b-4c9a-9a12-a5544bffaf63\" target=\"_top\" title=\"psysml:2ad8a421-a47b-4c9a-9a12-a5544bffaf63\" xlink:actuate=\"onRequest\" xlink:href=\"psysml:2ad8a421-a47b-4c9a-9a12-a5544bffaf63\" xlink:show=\"new\" xlink:title=\"psysml:2ad8a421-a47b-4c9a-9a12-a5544bffaf63\" xlink:type=\"simple\"><rect fill=\"#FFFFFF\" height=\"372\" id=\"E13\" style=\"stroke:#383838;stroke-width:1.5;\" width=\"130\" x=\"608\" y=\"50\"/><text fill=\"#000000\" font-family=\"sans-serif\" font-size=\"12\" font-style=\"italic\" lengthAdjust=\"spacing\" textLength=\"84\" x=\"631\" y=\"67.457\">«interface  def»</text><text fill=\"#000000\" font-family=\"sans-serif\" font-size=\"14\" lengthAdjust=\"spacing\" textLength=\"30\" x=\"658\" y=\"84.627\">int_y</text><line style=\"stroke:#383838;stroke-width:1.0;\" x1=\"608\" x2=\"738\" y1=\"92.7031\" y2=\"92.7031\"/></a></g><!--MD5=[ab3548ab6224ff035c4047a4d30b7567]\n",
       "cluster E15--><g id=\"cluster_E15\"><a href=\"psysml:83ca9516-d609-4e97-9adc-8187b37d8700\" target=\"_top\" title=\"psysml:83ca9516-d609-4e97-9adc-8187b37d8700\" xlink:actuate=\"onRequest\" xlink:href=\"psysml:83ca9516-d609-4e97-9adc-8187b37d8700\" xlink:show=\"new\" xlink:title=\"psysml:83ca9516-d609-4e97-9adc-8187b37d8700\" xlink:type=\"simple\"><rect fill=\"#FFFFFF\" height=\"118\" id=\"E15\" rx=\"10\" ry=\"10\" style=\"stroke:#383838;stroke-width:1.5;\" width=\"82\" x=\"632\" y=\"112\"/><text fill=\"#000000\" font-family=\"sans-serif\" font-size=\"12\" font-style=\"italic\" lengthAdjust=\"spacing\" textLength=\"35\" x=\"655.5\" y=\"129.457\">«port»</text><text fill=\"#000000\" font-family=\"sans-serif\" font-size=\"14\" lengthAdjust=\"spacing\" textLength=\"36\" x=\"651\" y=\"146.627\">i_n: Y</text><line style=\"stroke:#383838;stroke-width:1.0;\" x1=\"632\" x2=\"714\" y1=\"154.7031\" y2=\"154.7031\"/></a></g><!--MD5=[3e4be939245ddbd2da6080b60acb37a8]\n",
       "cluster E17--><g id=\"cluster_E17\"><a href=\"psysml:dbb092da-f17a-4a05-aea2-a2b2c0e2939e\" target=\"_top\" title=\"psysml:dbb092da-f17a-4a05-aea2-a2b2c0e2939e\" xlink:actuate=\"onRequest\" xlink:href=\"psysml:dbb092da-f17a-4a05-aea2-a2b2c0e2939e\" xlink:show=\"new\" xlink:title=\"psysml:dbb092da-f17a-4a05-aea2-a2b2c0e2939e\" xlink:type=\"simple\"><rect fill=\"#FFFFFF\" height=\"118\" id=\"E17\" rx=\"10\" ry=\"10\" style=\"stroke:#383838;stroke-width:1.5;\" width=\"82\" x=\"632\" y=\"280\"/><text fill=\"#000000\" font-family=\"sans-serif\" font-size=\"12\" font-style=\"italic\" lengthAdjust=\"spacing\" textLength=\"35\" x=\"655.5\" y=\"297.457\">«port»</text><text fill=\"#000000\" font-family=\"sans-serif\" font-size=\"14\" lengthAdjust=\"spacing\" textLength=\"41\" x=\"648.5\" y=\"314.627\">o_u: Y</text><line style=\"stroke:#383838;stroke-width:1.0;\" x1=\"632\" x2=\"714\" y1=\"322.7031\" y2=\"322.7031\"/></a></g><!--MD5=[1c41e8fd36bfdc40ba89cc99c68e74fc]\n",
       "cluster E20--><g id=\"cluster_E20\"><a href=\"psysml:8532e8c1-9a40-40d3-b407-3b6b9f2e2652\" target=\"_top\" title=\"psysml:8532e8c1-9a40-40d3-b407-3b6b9f2e2652\" xlink:actuate=\"onRequest\" xlink:href=\"psysml:8532e8c1-9a40-40d3-b407-3b6b9f2e2652\" xlink:show=\"new\" xlink:title=\"psysml:8532e8c1-9a40-40d3-b407-3b6b9f2e2652\" xlink:type=\"simple\"><rect fill=\"#FFFFFF\" height=\"118\" id=\"E20\" rx=\"10\" ry=\"10\" style=\"stroke:#383838;stroke-width:1.5;\" width=\"167\" x=\"417\" y=\"112\"/><text fill=\"#000000\" font-family=\"sans-serif\" font-size=\"12\" font-style=\"italic\" lengthAdjust=\"spacing\" textLength=\"38\" x=\"481.5\" y=\"129.457\">«item»</text><text fill=\"#000000\" font-family=\"sans-serif\" font-size=\"14\" lengthAdjust=\"spacing\" textLength=\"7\" x=\"497\" y=\"146.627\">c</text><line style=\"stroke:#383838;stroke-width:1.0;\" x1=\"417\" x2=\"584\" y1=\"154.7031\" y2=\"154.7031\"/></a></g><g><a href=\"psysml:ed69e5f6-7293-404d-b676-38dc5542968a\" target=\"_top\" title=\"psysml:ed69e5f6-7293-404d-b676-38dc5542968a\" xlink:actuate=\"onRequest\" xlink:href=\"psysml:ed69e5f6-7293-404d-b676-38dc5542968a\" xlink:show=\"new\" xlink:title=\"psysml:ed69e5f6-7293-404d-b676-38dc5542968a\" xlink:type=\"simple\"><rect fill=\"#FFFFFF\" height=\"47.7031\" id=\"E23\" style=\"stroke:#383838;stroke-width:1.5;\" width=\"65\" x=\"332.5\" y=\"166\"/><text fill=\"#000000\" font-family=\"sans-serif\" font-size=\"12\" font-style=\"italic\" lengthAdjust=\"spacing\" textLength=\"58\" x=\"336\" y=\"183.457\">«port  def»</text><text fill=\"#000000\" font-family=\"sans-serif\" font-size=\"14\" lengthAdjust=\"spacing\" textLength=\"8\" x=\"361\" y=\"200.627\">X</text></a></g><g><a href=\"psysml:474ae058-8eed-4259-9a0b-5900b272e7d1\" target=\"_top\" title=\"psysml:474ae058-8eed-4259-9a0b-5900b272e7d1\" xlink:actuate=\"onRequest\" xlink:href=\"psysml:474ae058-8eed-4259-9a0b-5900b272e7d1\" xlink:show=\"new\" xlink:title=\"psysml:474ae058-8eed-4259-9a0b-5900b272e7d1\" xlink:type=\"simple\"><rect fill=\"#FFFFFF\" height=\"47.7031\" id=\"E24\" style=\"stroke:#383838;stroke-width:1.5;\" width=\"65\" x=\"232.5\" y=\"166\"/><text fill=\"#000000\" font-family=\"sans-serif\" font-size=\"12\" font-style=\"italic\" lengthAdjust=\"spacing\" textLength=\"58\" x=\"236\" y=\"183.457\">«port  def»</text><text fill=\"#000000\" font-family=\"sans-serif\" font-size=\"14\" lengthAdjust=\"spacing\" textLength=\"9\" x=\"260.5\" y=\"200.627\">Y</text></a></g><text fill=\"#000000\" font-family=\"sans-serif\" font-size=\"14\" lengthAdjust=\"spacing\" textLength=\"38\" x=\"899\" y=\"464.5332\">a_x: X</text><rect fill=\"#FFFFFF\" height=\"12\" style=\"stroke:#181818;stroke-width:1.5;\" width=\"12\" x=\"916\" y=\"438\"/><text fill=\"#000000\" font-family=\"sans-serif\" font-size=\"14\" lengthAdjust=\"spacing\" textLength=\"40\" x=\"980\" y=\"464.5332\">a_y: Y</text><rect fill=\"#FFFFFF\" height=\"12\" style=\"stroke:#181818;stroke-width:1.5;\" width=\"12\" x=\"998\" y=\"438\"/><text fill=\"#000000\" font-family=\"sans-serif\" font-size=\"14\" lengthAdjust=\"spacing\" textLength=\"38\" x=\"890\" y=\"467.9238\">b_x: X</text><rect fill=\"#FFFFFF\" height=\"12\" style=\"stroke:#181818;stroke-width:1.5;\" width=\"12\" x=\"907\" y=\"483\"/><text fill=\"#000000\" font-family=\"sans-serif\" font-size=\"14\" lengthAdjust=\"spacing\" textLength=\"40\" x=\"971\" y=\"467.9238\">b_y: Y</text><rect fill=\"#FFFFFF\" height=\"12\" style=\"stroke:#181818;stroke-width:1.5;\" width=\"12\" x=\"989\" y=\"483\"/><g><a href=\"psysml:eac1ef96-4641-4416-9ecd-ded6d4272553\" target=\"_top\" title=\"psysml:eac1ef96-4641-4416-9ecd-ded6d4272553\" xlink:actuate=\"onRequest\" xlink:href=\"psysml:eac1ef96-4641-4416-9ecd-ded6d4272553\" xlink:show=\"new\" xlink:title=\"psysml:eac1ef96-4641-4416-9ecd-ded6d4272553\" xlink:type=\"simple\"><rect fill=\"#FFFFFF\" height=\"47.7031\" id=\"E9\" rx=\"10\" ry=\"10\" style=\"stroke:#383838;stroke-width:1.5;\" width=\"50\" x=\"802\" y=\"166\"/><text fill=\"#000000\" font-family=\"sans-serif\" font-size=\"12\" font-style=\"italic\" lengthAdjust=\"spacing\" textLength=\"38\" x=\"808\" y=\"183.457\">«item»</text><text fill=\"#000000\" font-family=\"sans-serif\" font-size=\"14\" lengthAdjust=\"spacing\" textLength=\"20\" x=\"817\" y=\"200.627\">^c2</text></a></g><g><a href=\"psysml:eac1ef96-4641-4416-9ecd-ded6d4272553\" target=\"_top\" title=\"psysml:eac1ef96-4641-4416-9ecd-ded6d4272553\" xlink:actuate=\"onRequest\" xlink:href=\"psysml:eac1ef96-4641-4416-9ecd-ded6d4272553\" xlink:show=\"new\" xlink:title=\"psysml:eac1ef96-4641-4416-9ecd-ded6d4272553\" xlink:type=\"simple\"><rect fill=\"#FFFFFF\" height=\"47.7031\" id=\"E11\" rx=\"10\" ry=\"10\" style=\"stroke:#383838;stroke-width:1.5;\" width=\"50\" x=\"802\" y=\"334\"/><text fill=\"#000000\" font-family=\"sans-serif\" font-size=\"12\" font-style=\"italic\" lengthAdjust=\"spacing\" textLength=\"38\" x=\"808\" y=\"351.457\">«item»</text><text fill=\"#000000\" font-family=\"sans-serif\" font-size=\"14\" lengthAdjust=\"spacing\" textLength=\"20\" x=\"817\" y=\"368.627\">^c2</text></a></g><g><a href=\"psysml:76d1d6e4-fdd9-4e85-9d12-814cf0c2a38c\" target=\"_top\" title=\"psysml:76d1d6e4-fdd9-4e85-9d12-814cf0c2a38c\" xlink:actuate=\"onRequest\" xlink:href=\"psysml:76d1d6e4-fdd9-4e85-9d12-814cf0c2a38c\" xlink:show=\"new\" xlink:title=\"psysml:76d1d6e4-fdd9-4e85-9d12-814cf0c2a38c\" xlink:type=\"simple\"><rect fill=\"#FFFFFF\" height=\"47.7031\" id=\"E14\" rx=\"10\" ry=\"10\" style=\"stroke:#383838;stroke-width:1.5;\" width=\"50\" x=\"648\" y=\"166\"/><text fill=\"#000000\" font-family=\"sans-serif\" font-size=\"12\" font-style=\"italic\" lengthAdjust=\"spacing\" textLength=\"38\" x=\"654\" y=\"183.457\">«item»</text><text fill=\"#000000\" font-family=\"sans-serif\" font-size=\"14\" lengthAdjust=\"spacing\" textLength=\"20\" x=\"663\" y=\"200.627\">^c1</text></a></g><g><a href=\"psysml:76d1d6e4-fdd9-4e85-9d12-814cf0c2a38c\" target=\"_top\" title=\"psysml:76d1d6e4-fdd9-4e85-9d12-814cf0c2a38c\" xlink:actuate=\"onRequest\" xlink:href=\"psysml:76d1d6e4-fdd9-4e85-9d12-814cf0c2a38c\" xlink:show=\"new\" xlink:title=\"psysml:76d1d6e4-fdd9-4e85-9d12-814cf0c2a38c\" xlink:type=\"simple\"><rect fill=\"#FFFFFF\" height=\"47.7031\" id=\"E16\" rx=\"10\" ry=\"10\" style=\"stroke:#383838;stroke-width:1.5;\" width=\"50\" x=\"648\" y=\"334\"/><text fill=\"#000000\" font-family=\"sans-serif\" font-size=\"12\" font-style=\"italic\" lengthAdjust=\"spacing\" textLength=\"38\" x=\"654\" y=\"351.457\">«item»</text><text fill=\"#000000\" font-family=\"sans-serif\" font-size=\"14\" lengthAdjust=\"spacing\" textLength=\"20\" x=\"663\" y=\"368.627\">^c1</text></a></g><g><a href=\"psysml:cc8ce044-8114-4661-bff7-5fd285eb00d0\" target=\"_top\" title=\"psysml:cc8ce044-8114-4661-bff7-5fd285eb00d0\" xlink:actuate=\"onRequest\" xlink:href=\"psysml:cc8ce044-8114-4661-bff7-5fd285eb00d0\" xlink:show=\"new\" xlink:title=\"psysml:cc8ce044-8114-4661-bff7-5fd285eb00d0\" xlink:type=\"simple\"><rect fill=\"#FFFFFF\" height=\"47.7031\" id=\"E18\" style=\"stroke:#383838;stroke-width:1.5;\" width=\"65\" x=\"132.5\" y=\"166\"/><text fill=\"#000000\" font-family=\"sans-serif\" font-size=\"12\" font-style=\"italic\" lengthAdjust=\"spacing\" textLength=\"58\" x=\"136\" y=\"183.457\">«part  def»</text><text fill=\"#000000\" font-family=\"sans-serif\" font-size=\"14\" lengthAdjust=\"spacing\" textLength=\"9\" x=\"160.5\" y=\"200.627\">A</text></a></g><g><a href=\"psysml:3bf74511-d4ea-4cf5-8f9d-ff2c5b83043a\" target=\"_top\" title=\"psysml:3bf74511-d4ea-4cf5-8f9d-ff2c5b83043a\" xlink:actuate=\"onRequest\" xlink:href=\"psysml:3bf74511-d4ea-4cf5-8f9d-ff2c5b83043a\" xlink:show=\"new\" xlink:title=\"psysml:3bf74511-d4ea-4cf5-8f9d-ff2c5b83043a\" xlink:type=\"simple\"><rect fill=\"#FFFFFF\" height=\"47.7031\" id=\"E19\" style=\"stroke:#383838;stroke-width:1.5;\" width=\"65\" x=\"32.5\" y=\"166\"/><text fill=\"#000000\" font-family=\"sans-serif\" font-size=\"12\" font-style=\"italic\" lengthAdjust=\"spacing\" textLength=\"58\" x=\"36\" y=\"183.457\">«part  def»</text><text fill=\"#000000\" font-family=\"sans-serif\" font-size=\"14\" lengthAdjust=\"spacing\" textLength=\"9\" x=\"60.5\" y=\"200.627\">B</text></a></g><g><a href=\"psysml:2791a040-4b7c-4798-80e0-d923067bb399\" target=\"_top\" title=\"psysml:2791a040-4b7c-4798-80e0-d923067bb399\" xlink:actuate=\"onRequest\" xlink:href=\"psysml:2791a040-4b7c-4798-80e0-d923067bb399\" xlink:show=\"new\" xlink:title=\"psysml:2791a040-4b7c-4798-80e0-d923067bb399\" xlink:type=\"simple\"><rect fill=\"#FFFFFF\" height=\"47.7031\" id=\"E21\" rx=\"10\" ry=\"10\" style=\"stroke:#383838;stroke-width:1.5;\" width=\"50\" x=\"518\" y=\"166\"/><text fill=\"#000000\" font-family=\"sans-serif\" font-size=\"12\" font-style=\"italic\" lengthAdjust=\"spacing\" textLength=\"38\" x=\"524\" y=\"183.457\">«item»</text><text fill=\"#000000\" font-family=\"sans-serif\" font-size=\"14\" lengthAdjust=\"spacing\" textLength=\"15\" x=\"535.5\" y=\"200.627\">c1</text></a></g><g><a href=\"psysml:21386ce4-bc41-4ff7-9ef5-21cccf9f0cf0\" target=\"_top\" title=\"psysml:21386ce4-bc41-4ff7-9ef5-21cccf9f0cf0\" xlink:actuate=\"onRequest\" xlink:href=\"psysml:21386ce4-bc41-4ff7-9ef5-21cccf9f0cf0\" xlink:show=\"new\" xlink:title=\"psysml:21386ce4-bc41-4ff7-9ef5-21cccf9f0cf0\" xlink:type=\"simple\"><rect fill=\"#FFFFFF\" height=\"47.7031\" id=\"E22\" rx=\"10\" ry=\"10\" style=\"stroke:#383838;stroke-width:1.5;\" width=\"50\" x=\"433\" y=\"166\"/><text fill=\"#000000\" font-family=\"sans-serif\" font-size=\"12\" font-style=\"italic\" lengthAdjust=\"spacing\" textLength=\"38\" x=\"439\" y=\"183.457\">«item»</text><text fill=\"#000000\" font-family=\"sans-serif\" font-size=\"14\" lengthAdjust=\"spacing\" textLength=\"15\" x=\"450.5\" y=\"200.627\">c2</text></a></g><!--MD5=[526783dfcde15884571727dc3bbf2987]\n",
       "link E9 to E11--><g id=\"link_E9_E11\"><a href=\"psysml:648dfba4-0d0d-42e4-a410-09aee7bcb070\" target=\"_top\" title=\"psysml:648dfba4-0d0d-42e4-a410-09aee7bcb070\" xlink:actuate=\"onRequest\" xlink:href=\"psysml:648dfba4-0d0d-42e4-a410-09aee7bcb070\" xlink:show=\"new\" xlink:title=\"psysml:648dfba4-0d0d-42e4-a410-09aee7bcb070\" xlink:type=\"simple\"><path d=\"M827,214.08 C827,244.1 827,296.51 827,328.84 \" fill=\"none\" id=\"E9-to-E11\" style=\"stroke:#181818;stroke-width:1.0;\"/><polygon fill=\"#181818\" points=\"827,333.85,831,324.85,827,328.85,823,324.85,827,333.85\" style=\"stroke:#181818;stroke-width:1.0;\"/><text fill=\"#000000\" font-family=\"sans-serif\" font-size=\"13\" lengthAdjust=\"spacing\" textLength=\"29\" x=\"828\" y=\"260.4951\">c2: c</text></a></g><!--MD5=[5b24c54c099e2bd34221aa417f8ea56c]\n",
       "link E14 to E16--><g id=\"link_E14_E16\"><a href=\"psysml:af504a32-94cf-464b-956f-a2020781fc06\" target=\"_top\" title=\"psysml:af504a32-94cf-464b-956f-a2020781fc06\" xlink:actuate=\"onRequest\" xlink:href=\"psysml:af504a32-94cf-464b-956f-a2020781fc06\" xlink:show=\"new\" xlink:title=\"psysml:af504a32-94cf-464b-956f-a2020781fc06\" xlink:type=\"simple\"><path d=\"M673,214.08 C673,244.1 673,296.51 673,328.84 \" fill=\"none\" id=\"E14-to-E16\" style=\"stroke:#181818;stroke-width:1.0;\"/><polygon fill=\"#181818\" points=\"673,333.85,677,324.85,673,328.85,669,324.85,673,333.85\" style=\"stroke:#181818;stroke-width:1.0;\"/><text fill=\"#000000\" font-family=\"sans-serif\" font-size=\"13\" lengthAdjust=\"spacing\" textLength=\"29\" x=\"674\" y=\"260.4951\">c1: c</text></a></g><!--MD5=[ec9844e0c75763426927cad3229d1081]\n",
       "link E3 to E6--><g id=\"link_E3_E6\"><a href=\"psysml:f1723a8a-1184-4413-ac5a-0a0b1f539464\" target=\"_top\" title=\"psysml:f1723a8a-1184-4413-ac5a-0a0b1f539464\" xlink:actuate=\"onRequest\" xlink:href=\"psysml:f1723a8a-1184-4413-ac5a-0a0b1f539464\" xlink:show=\"new\" xlink:title=\"psysml:f1723a8a-1184-4413-ac5a-0a0b1f539464\" xlink:type=\"simple\"><path d=\"M920.9,450.27 C919.15,458.62 915.77,474.75 914.06,482.95 \" fill=\"none\" id=\"E3-E6\" style=\"stroke:#181818;stroke-width:3.0;\"/></a></g><!--MD5=[1215d52114495cf35c63de9a53fffc82]\n",
       "link E4 to E7--><g id=\"link_E4_E7\"><a href=\"psysml:9f9eaa8d-0367-4edc-8080-c7913d2a4189\" target=\"_top\" title=\"psysml:9f9eaa8d-0367-4edc-8080-c7913d2a4189\" xlink:actuate=\"onRequest\" xlink:href=\"psysml:9f9eaa8d-0367-4edc-8080-c7913d2a4189\" xlink:show=\"new\" xlink:title=\"psysml:9f9eaa8d-0367-4edc-8080-c7913d2a4189\" xlink:type=\"simple\"><path d=\"M1002.9,450.27 C1001.15,458.62 997.77,474.75 996.06,482.95 \" fill=\"none\" id=\"E4-E7\" style=\"stroke:#181818;stroke-width:3.0;\"/></a></g><!--MD5=[4931de25dcb70cd4585e7722db9b3a49]\n",
       "link E3 to E7--><g id=\"link_E3_E7\"><a href=\"psysml:704aa775-83b4-4d0b-b8c1-c3d613c47464\" target=\"_top\" title=\"psysml:704aa775-83b4-4d0b-b8c1-c3d613c47464\" xlink:actuate=\"onRequest\" xlink:href=\"psysml:704aa775-83b4-4d0b-b8c1-c3d613c47464\" xlink:show=\"new\" xlink:title=\"psysml:704aa775-83b4-4d0b-b8c1-c3d613c47464\" xlink:type=\"simple\"><path d=\"M928.22,448.67 C942.02,456.79 975.01,476.23 988.79,484.34 \" fill=\"none\" id=\"E3-E7\" style=\"stroke:#181818;stroke-width:3.0;\"/></a></g><!--MD5=[79568f1e445c3877b6a54524624ccc7d]\n",
       "link E4 to E6--><g id=\"link_E4_E6\"><a href=\"psysml:c1c69172-c150-44b8-bcaf-fa0278e10200\" target=\"_top\" title=\"psysml:c1c69172-c150-44b8-bcaf-fa0278e10200\" xlink:actuate=\"onRequest\" xlink:href=\"psysml:c1c69172-c150-44b8-bcaf-fa0278e10200\" xlink:show=\"new\" xlink:title=\"psysml:c1c69172-c150-44b8-bcaf-fa0278e10200\" xlink:type=\"simple\"><path d=\"M997.75,447.96 C981.04,455.85 935.54,477.35 919.06,485.14 \" fill=\"none\" id=\"E4-E6\" style=\"stroke:#181818;stroke-width:3.0;\"/></a></g><!--MD5=[6772e1593bb58ca59aae5e91eab2d8dd]\n",
       "@startuml\r\n",
       "skin sysmlbw\r\n",
       "skinparam monochrome true\r\n",
       "skinparam wrapWidth 300\r\n",
       "hide circle\r\n",
       "skinparam ranksep 10\r\n",
       "skinparam rectangle {\r\n",
       " backgroundColor<<block>> LightGreen\r\n",
       "}\r\n",
       "\r\n",
       "package \"interface_check6\" as E1  [[psysml:9b8c7f04-f775-4cc1-b812-aa1870943b21 ]]  {\r\n",
       "rec usage \"a\" as E2 [[psysml:747831d2-814c-4343-8f9a-9dacd6010564 ]] {\r\n",
       "portout \"a_x: X  \" as E3  <<(T,blue) port>> [[psysml:9f6b6db6-6282-4b32-9565-7e8dc0d9bc48 ]] \r\n",
       "portout \"a_y: Y  \" as E4  <<(T,blue) port>> [[psysml:95d9b339-573e-4840-9af1-bf877185a259 ]] \r\n",
       "}\r\n",
       "rec usage \"b\" as E5 [[psysml:4ccff0bf-f92b-4839-b093-8f81440ec6ad ]] {\r\n",
       "portin \"b_x: X  \" as E6  <<(T,blue) port>> [[psysml:d9d3eca8-4377-4084-91cd-2cb11679275e ]] \r\n",
       "portin \"b_y: Y  \" as E7  <<(T,blue) port>> [[psysml:8984f603-92ce-4b22-9f36-f3df2aad9d49 ]] \r\n",
       "}\r\n",
       "rec def \"int_x\" as E8  <<(T,blue) interface  def>> [[psysml:9163d2b0-27da-4c0f-895c-6aaec6e035f4 ]] {\r\n",
       "rec usage \"i_n: X  \" as E10  <<(T,blue) port>> [[psysml:ee049a69-52f5-452d-919e-64627f2512dd ]] {\r\n",
       "rec usage \"^c2\" as E9  <<(T,blue) item>> [[psysml:eac1ef96-4641-4416-9ecd-ded6d4272553 ]] {\r\n",
       "}\r\n",
       "}\r\n",
       "rec usage \"o_u: X  \" as E12  <<(T,blue) port>> [[psysml:8a91dc15-196c-4a27-9f99-093c85dddbb7 ]] {\r\n",
       "rec usage \"^c2\" as E11  <<(T,blue) item>> [[psysml:eac1ef96-4641-4416-9ecd-ded6d4272553 ]] {\r\n",
       "}\r\n",
       "}\r\n",
       "}\r\n",
       "rec def \"int_y\" as E13  <<(T,blue) interface  def>> [[psysml:2ad8a421-a47b-4c9a-9a12-a5544bffaf63 ]] {\r\n",
       "rec usage \"i_n: Y  \" as E15  <<(T,blue) port>> [[psysml:83ca9516-d609-4e97-9adc-8187b37d8700 ]] {\r\n",
       "rec usage \"^c1\" as E14  <<(T,blue) item>> [[psysml:76d1d6e4-fdd9-4e85-9d12-814cf0c2a38c ]] {\r\n",
       "}\r\n",
       "}\r\n",
       "rec usage \"o_u: Y  \" as E17  <<(T,blue) port>> [[psysml:dbb092da-f17a-4a05-aea2-a2b2c0e2939e ]] {\r\n",
       "rec usage \"^c1\" as E16  <<(T,blue) item>> [[psysml:76d1d6e4-fdd9-4e85-9d12-814cf0c2a38c ]] {\r\n",
       "}\r\n",
       "}\r\n",
       "}\r\n",
       "rec def \"A\" as E18  <<(T,blue) part  def>> [[psysml:cc8ce044-8114-4661-bff7-5fd285eb00d0 ]] {\r\n",
       "}\r\n",
       "rec def \"B\" as E19  <<(T,blue) part  def>> [[psysml:3bf74511-d4ea-4cf5-8f9d-ff2c5b83043a ]] {\r\n",
       "}\r\n",
       "rec usage \"c\" as E20  <<(T,blue) item>> [[psysml:8532e8c1-9a40-40d3-b407-3b6b9f2e2652 ]] {\r\n",
       "rec usage \"c1\" as E21  <<(T,blue) item>> [[psysml:2791a040-4b7c-4798-80e0-d923067bb399 ]] {\r\n",
       "}\r\n",
       "rec usage \"c2\" as E22  <<(T,blue) item>> [[psysml:21386ce4-bc41-4ff7-9ef5-21cccf9f0cf0 ]] {\r\n",
       "}\r\n",
       "}\r\n",
       "def \"X\" as E23  <<(T,blue) port  def>> [[psysml:ed69e5f6-7293-404d-b676-38dc5542968a ]] \r\n",
       "def \"Y\" as E24  <<(T,blue) port  def>> [[psysml:474ae058-8eed-4259-9a0b-5900b272e7d1 ]] \r\n",
       "}\r\n",
       "E9 - -> E11 [[psysml:648dfba4-0d0d-42e4-a410-09aee7bcb070 ]] : c2: c\r\n",
       "E14 - -> E16 [[psysml:af504a32-94cf-464b-956f-a2020781fc06 ]] : c1: c\r\n",
       "E3 -[thickness=3]- E6 [[psysml:f1723a8a-1184-4413-ac5a-0a0b1f539464 ]] \r\n",
       "E4 -[thickness=3]- E7 [[psysml:9f9eaa8d-0367-4edc-8080-c7913d2a4189 ]] \r\n",
       "E3 -[thickness=3]- E7 [[psysml:704aa775-83b4-4d0b-b8c1-c3d613c47464 ]] \r\n",
       "E4 -[thickness=3]- E6 [[psysml:c1c69172-c150-44b8-bcaf-fa0278e10200 ]] \r\n",
       "@enduml\r\n",
       "\n",
       "PlantUML version 1.2022.7(Mon Aug 22 20:01:30 EEST 2022)\n",
       "(EPL source distribution)\n",
       "Java Runtime: OpenJDK Runtime Environment\n",
       "JVM: OpenJDK 64-Bit Server VM\n",
       "Default Encoding: UTF-8\n",
       "Language: en\n",
       "Country: US\n",
       "--></g></svg>"
      ]
     },
     "execution_count": 2,
     "metadata": {},
     "output_type": "execute_result"
    }
   ],
   "source": [
    "%viz --view=INTERCONNECTION interface_check6"
   ]
  },
  {
   "cell_type": "code",
   "execution_count": null,
   "id": "4e2a3fd0-044e-4380-9ad7-6290f7924de4",
   "metadata": {},
   "outputs": [],
   "source": []
  }
 ],
 "metadata": {
  "kernelspec": {
   "display_name": "SysML",
   "language": "sysml",
   "name": "sysml"
  },
  "language_info": {
   "codemirror_mode": "sysml",
   "file_extension": ".sysml",
   "mimetype": "text/x-sysml",
   "name": "SysML",
   "pygments_lexer": "java",
   "version": "1.0.0"
  }
 },
 "nbformat": 4,
 "nbformat_minor": 5
}
