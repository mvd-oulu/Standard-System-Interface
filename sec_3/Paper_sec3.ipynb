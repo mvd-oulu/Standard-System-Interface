{
 "cells": [
  {
   "cell_type": "code",
   "execution_count": 1,
   "id": "4ff71d4f-d0e2-4de9-b099-6104d6255fe6",
   "metadata": {
    "tags": []
   },
   "outputs": [
    {
     "data": {
      "text/plain": [
       "Package the_sample_model (f1694538-9351-47eb-9540-c3fcac855fbd)\n"
      ]
     },
     "execution_count": 1,
     "metadata": {},
     "output_type": "execute_result"
    }
   ],
   "source": [
    "package the_sample_model {\n",
    "    package general_definition {}\n",
    "    package port_definition {}\n",
    "    package interface_definition {}\n",
    "    package system_definition {}\n",
    "}"
   ]
  },
  {
   "cell_type": "code",
   "execution_count": 2,
   "id": "afffa29b-4e2f-48a5-a22d-b7864687c8b1",
   "metadata": {
    "tags": []
   },
   "outputs": [
    {
     "data": {
      "image/svg+xml": [
       "<?xml version=\"1.0\" encoding=\"UTF-8\" standalone=\"no\"?><svg xmlns=\"http://www.w3.org/2000/svg\" xmlns:xlink=\"http://www.w3.org/1999/xlink\" contentStyleType=\"text/css\" height=\"120px\" preserveAspectRatio=\"none\" style=\"width:684px;height:120px;background:#FFFFFF;\" version=\"1.1\" viewBox=\"0 0 684 120\" width=\"684px\" zoomAndPan=\"magnify\"><defs/><g><!--MD5=[fbc87193dbaf4d95561dea2c320d4a47]\n",
       "cluster E1--><g id=\"cluster_E1\"><a href=\"psysml:f1694538-9351-47eb-9540-c3fcac855fbd\" target=\"_top\" title=\"psysml:f1694538-9351-47eb-9540-c3fcac855fbd\" xlink:actuate=\"onRequest\" xlink:href=\"psysml:f1694538-9351-47eb-9540-c3fcac855fbd\" xlink:show=\"new\" xlink:title=\"psysml:f1694538-9351-47eb-9540-c3fcac855fbd\" xlink:type=\"simple\"><polygon fill=\"none\" points=\"16,6,154,6,161,29.6094,667,29.6094,667,113,16,113,16,6\" style=\"stroke:#000000;stroke-width:1.5;\"/><line style=\"stroke:#000000;stroke-width:1.5;\" x1=\"16\" x2=\"161\" y1=\"29.6094\" y2=\"29.6094\"/><text fill=\"#000000\" font-family=\"sans-serif\" font-size=\"14\" font-weight=\"bold\" lengthAdjust=\"spacing\" textLength=\"132\" x=\"20\" y=\"22.5332\">the_sample_model</text></a></g><a href=\"psysml:dd7efb78-b949-4299-81a1-88c95427b55d\" target=\"_top\" title=\"psysml:dd7efb78-b949-4299-81a1-88c95427b55d\" xlink:actuate=\"onRequest\" xlink:href=\"psysml:dd7efb78-b949-4299-81a1-88c95427b55d\" xlink:show=\"new\" xlink:title=\"psysml:dd7efb78-b949-4299-81a1-88c95427b55d\" xlink:type=\"simple\"><polygon fill=\"#FFFFFF\" points=\"517.5,42,636.5,42,643.5,65.6094,650.5,65.6094,650.5,97.2188,517.5,97.2188,517.5,42\" style=\"stroke:#181818;stroke-width:0.5;\"/><line style=\"stroke:#181818;stroke-width:0.5;\" x1=\"517.5\" x2=\"643.5\" y1=\"65.6094\" y2=\"65.6094\"/><text fill=\"#000000\" font-family=\"sans-serif\" font-size=\"14\" lengthAdjust=\"spacing\" textLength=\"113\" x=\"521.5\" y=\"58.5332\">general_definition</text></a><a href=\"psysml:4f1228e7-5bd2-4623-aa1a-ffa435bd5d7a\" target=\"_top\" title=\"psysml:4f1228e7-5bd2-4623-aa1a-ffa435bd5d7a\" xlink:actuate=\"onRequest\" xlink:href=\"psysml:4f1228e7-5bd2-4623-aa1a-ffa435bd5d7a\" xlink:show=\"new\" xlink:title=\"psysml:4f1228e7-5bd2-4623-aa1a-ffa435bd5d7a\" xlink:type=\"simple\"><polygon fill=\"#FFFFFF\" points=\"372,42,468,42,475,65.6094,482,65.6094,482,97.2188,372,97.2188,372,42\" style=\"stroke:#181818;stroke-width:0.5;\"/><line style=\"stroke:#181818;stroke-width:0.5;\" x1=\"372\" x2=\"475\" y1=\"65.6094\" y2=\"65.6094\"/><text fill=\"#000000\" font-family=\"sans-serif\" font-size=\"14\" lengthAdjust=\"spacing\" textLength=\"90\" x=\"376\" y=\"58.5332\">port_definition</text></a><a href=\"psysml:e3b9b5b6-a326-4ad2-93d8-a29965c78730\" target=\"_top\" title=\"psysml:e3b9b5b6-a326-4ad2-93d8-a29965c78730\" xlink:actuate=\"onRequest\" xlink:href=\"psysml:e3b9b5b6-a326-4ad2-93d8-a29965c78730\" xlink:show=\"new\" xlink:title=\"psysml:e3b9b5b6-a326-4ad2-93d8-a29965c78730\" xlink:type=\"simple\"><polygon fill=\"#FFFFFF\" points=\"197,42,323,42,330,65.6094,337,65.6094,337,97.2188,197,97.2188,197,42\" style=\"stroke:#181818;stroke-width:0.5;\"/><line style=\"stroke:#181818;stroke-width:0.5;\" x1=\"197\" x2=\"330\" y1=\"65.6094\" y2=\"65.6094\"/><text fill=\"#000000\" font-family=\"sans-serif\" font-size=\"14\" lengthAdjust=\"spacing\" textLength=\"120\" x=\"201\" y=\"58.5332\">interface_definition</text></a><a href=\"psysml:dc23d4e3-730d-4ded-bda5-395cff1e950a\" target=\"_top\" title=\"psysml:dc23d4e3-730d-4ded-bda5-395cff1e950a\" xlink:actuate=\"onRequest\" xlink:href=\"psysml:dc23d4e3-730d-4ded-bda5-395cff1e950a\" xlink:show=\"new\" xlink:title=\"psysml:dc23d4e3-730d-4ded-bda5-395cff1e950a\" xlink:type=\"simple\"><polygon fill=\"#FFFFFF\" points=\"32.5,42,147.5,42,154.5,65.6094,161.5,65.6094,161.5,97.2188,32.5,97.2188,32.5,42\" style=\"stroke:#181818;stroke-width:0.5;\"/><line style=\"stroke:#181818;stroke-width:0.5;\" x1=\"32.5\" x2=\"154.5\" y1=\"65.6094\" y2=\"65.6094\"/><text fill=\"#000000\" font-family=\"sans-serif\" font-size=\"14\" lengthAdjust=\"spacing\" textLength=\"109\" x=\"36.5\" y=\"58.5332\">system_definition</text></a><!--MD5=[426bc6fa1e703f4e7cadf8b6a16442e8]\n",
       "@startuml\r\n",
       "skin sysmlbw\r\n",
       "skinparam monochrome true\r\n",
       "skinparam wrapWidth 300\r\n",
       "hide circle\r\n",
       "\r\n",
       "package \"the_sample_model\" as E1  [[psysml:f1694538-9351-47eb-9540-c3fcac855fbd ]]  {\r\n",
       "package \"general_definition\" as E2  [[psysml:dd7efb78-b949-4299-81a1-88c95427b55d ]]  {\r\n",
       "}\r\n",
       "package \"port_definition\" as E3  [[psysml:4f1228e7-5bd2-4623-aa1a-ffa435bd5d7a ]]  {\r\n",
       "}\r\n",
       "package \"interface_definition\" as E4  [[psysml:e3b9b5b6-a326-4ad2-93d8-a29965c78730 ]]  {\r\n",
       "}\r\n",
       "package \"system_definition\" as E5  [[psysml:dc23d4e3-730d-4ded-bda5-395cff1e950a ]]  {\r\n",
       "}\r\n",
       "}\r\n",
       "@enduml\r\n",
       "\n",
       "PlantUML version 1.2022.7(Mon Aug 22 20:01:30 EEST 2022)\n",
       "(EPL source distribution)\n",
       "Java Runtime: OpenJDK Runtime Environment\n",
       "JVM: OpenJDK 64-Bit Server VM\n",
       "Default Encoding: UTF-8\n",
       "Language: en\n",
       "Country: US\n",
       "--></g></svg>"
      ]
     },
     "execution_count": 2,
     "metadata": {},
     "output_type": "execute_result"
    }
   ],
   "source": [
    "%viz the_sample_model "
   ]
  },
  {
   "cell_type": "code",
   "execution_count": 3,
   "id": "8d750374-d002-4d39-bf4b-2884b36bf4ec",
   "metadata": {
    "tags": []
   },
   "outputs": [
    {
     "data": {
      "text/plain": [
       "Package general_definition (e16bc90f-deb5-49a4-a858-b77c228b1bc7)\n"
      ]
     },
     "execution_count": 3,
     "metadata": {},
     "output_type": "execute_result"
    }
   ],
   "source": [
    "package general_definition{\n",
    "    part def part_1 {\n",
    "        attribute attr_1;\n",
    "        attribute attr_2;\n",
    "        }\n",
    "    part def part_2{\n",
    "        attribute attr_3;\n",
    "        attribute attr_4;\n",
    "        }\n",
    "    \n",
    "    item def item_1{\n",
    "        attribute attr_5;\n",
    "        attribute attr_6;\n",
    "        }\n",
    "    item def item_2{\n",
    "        attribute attr_7;\n",
    "        attribute attr_8;\n",
    "        }  \n",
    "}"
   ]
  },
  {
   "cell_type": "code",
   "execution_count": 4,
   "id": "e9f26fd2-3433-48bd-8604-4c3738bf2140",
   "metadata": {
    "tags": []
   },
   "outputs": [
    {
     "data": {
      "image/svg+xml": [
       "<?xml version=\"1.0\" encoding=\"UTF-8\" standalone=\"no\"?><svg xmlns=\"http://www.w3.org/2000/svg\" xmlns:xlink=\"http://www.w3.org/1999/xlink\" contentStyleType=\"text/css\" height=\"162px\" preserveAspectRatio=\"none\" style=\"width:439px;height:162px;background:#FFFFFF;\" version=\"1.1\" viewBox=\"0 0 439 162\" width=\"439px\" zoomAndPan=\"magnify\"><defs/><g><!--MD5=[fbc87193dbaf4d95561dea2c320d4a47]\n",
       "cluster E1--><g id=\"cluster_E1\"><a href=\"psysml:e16bc90f-deb5-49a4-a858-b77c228b1bc7\" target=\"_top\" title=\"psysml:e16bc90f-deb5-49a4-a858-b77c228b1bc7\" xlink:actuate=\"onRequest\" xlink:href=\"psysml:e16bc90f-deb5-49a4-a858-b77c228b1bc7\" xlink:show=\"new\" xlink:title=\"psysml:e16bc90f-deb5-49a4-a858-b77c228b1bc7\" xlink:type=\"simple\"><polygon fill=\"none\" points=\"16,6,151,6,158,29.6094,422,29.6094,422,155,16,155,16,6\" style=\"stroke:#000000;stroke-width:1.5;\"/><line style=\"stroke:#000000;stroke-width:1.5;\" x1=\"16\" x2=\"158\" y1=\"29.6094\" y2=\"29.6094\"/><text fill=\"#000000\" font-family=\"sans-serif\" font-size=\"14\" font-weight=\"bold\" lengthAdjust=\"spacing\" textLength=\"129\" x=\"20\" y=\"22.5332\">general_definition</text></a></g><!--MD5=[b4997ac47864f28c2f74865a473b2911]\n",
       "class E2--><a href=\"psysml:f6fd0d25-ca15-4181-840b-05bb87b2588a\" target=\"_top\" title=\"psysml:f6fd0d25-ca15-4181-840b-05bb87b2588a\" xlink:actuate=\"onRequest\" xlink:href=\"psysml:f6fd0d25-ca15-4181-840b-05bb87b2588a\" xlink:show=\"new\" xlink:title=\"psysml:f6fd0d25-ca15-4181-840b-05bb87b2588a\" xlink:type=\"simple\"><g id=\"elem_E2\"><rect fill=\"#FFFFFF\" height=\"96.9656\" id=\"E2\" style=\"stroke:#181818;stroke-width:0.5;\" width=\"67\" x=\"338.5\" y=\"42\"/><text fill=\"#000000\" font-family=\"sans-serif\" font-size=\"12\" font-style=\"italic\" lengthAdjust=\"spacing\" textLength=\"58\" x=\"343\" y=\"59.457\">«part  def»</text><text fill=\"#000000\" font-family=\"sans-serif\" font-size=\"14\" lengthAdjust=\"spacing\" textLength=\"41\" x=\"351.5\" y=\"76.627\">part_1</text><line style=\"stroke:#181818;stroke-width:0.5;\" x1=\"339.5\" x2=\"404.5\" y1=\"84.7031\" y2=\"84.7031\"/><text fill=\"#000000\" font-family=\"sans-serif\" font-size=\"14\" lengthAdjust=\"spacing\" textLength=\"37\" x=\"344.5\" y=\"114.2801\">attr_1</text><text fill=\"#000000\" font-family=\"sans-serif\" font-size=\"14\" lengthAdjust=\"spacing\" textLength=\"37\" x=\"344.5\" y=\"131.8895\">attr_2</text><text fill=\"#000000\" font-family=\"sans-serif\" font-size=\"14\" font-style=\"italic\" lengthAdjust=\"spacing\" textLength=\"59\" x=\"342.5\" y=\"97.9316\">attributes</text></g></a><!--MD5=[09b614a08d8cba4a07c9adeb5e0fee81]\n",
       "class E3--><a href=\"psysml:d1e03678-69c2-4bef-b49b-d51fb949fb0e\" target=\"_top\" title=\"psysml:d1e03678-69c2-4bef-b49b-d51fb949fb0e\" xlink:actuate=\"onRequest\" xlink:href=\"psysml:d1e03678-69c2-4bef-b49b-d51fb949fb0e\" xlink:show=\"new\" xlink:title=\"psysml:d1e03678-69c2-4bef-b49b-d51fb949fb0e\" xlink:type=\"simple\"><g id=\"elem_E3\"><rect fill=\"#FFFFFF\" height=\"96.9656\" id=\"E3\" style=\"stroke:#181818;stroke-width:0.5;\" width=\"67\" x=\"236.5\" y=\"42\"/><text fill=\"#000000\" font-family=\"sans-serif\" font-size=\"12\" font-style=\"italic\" lengthAdjust=\"spacing\" textLength=\"58\" x=\"241\" y=\"59.457\">«part  def»</text><text fill=\"#000000\" font-family=\"sans-serif\" font-size=\"14\" lengthAdjust=\"spacing\" textLength=\"41\" x=\"249.5\" y=\"76.627\">part_2</text><line style=\"stroke:#181818;stroke-width:0.5;\" x1=\"237.5\" x2=\"302.5\" y1=\"84.7031\" y2=\"84.7031\"/><text fill=\"#000000\" font-family=\"sans-serif\" font-size=\"14\" lengthAdjust=\"spacing\" textLength=\"37\" x=\"242.5\" y=\"114.2801\">attr_3</text><text fill=\"#000000\" font-family=\"sans-serif\" font-size=\"14\" lengthAdjust=\"spacing\" textLength=\"37\" x=\"242.5\" y=\"131.8895\">attr_4</text><text fill=\"#000000\" font-family=\"sans-serif\" font-size=\"14\" font-style=\"italic\" lengthAdjust=\"spacing\" textLength=\"59\" x=\"240.5\" y=\"97.9316\">attributes</text></g></a><!--MD5=[ebbe1d658d1005bcc118a6aa81145e00]\n",
       "class E4--><a href=\"psysml:4699007c-2f66-431b-b518-470676264e7d\" target=\"_top\" title=\"psysml:4699007c-2f66-431b-b518-470676264e7d\" xlink:actuate=\"onRequest\" xlink:href=\"psysml:4699007c-2f66-431b-b518-470676264e7d\" xlink:show=\"new\" xlink:title=\"psysml:4699007c-2f66-431b-b518-470676264e7d\" xlink:type=\"simple\"><g id=\"elem_E4\"><rect fill=\"#FFFFFF\" height=\"96.9656\" id=\"E4\" style=\"stroke:#181818;stroke-width:0.5;\" width=\"67\" x=\"134.5\" y=\"42\"/><text fill=\"#000000\" font-family=\"sans-serif\" font-size=\"12\" font-style=\"italic\" lengthAdjust=\"spacing\" textLength=\"61\" x=\"137.5\" y=\"59.457\">«item  def»</text><text fill=\"#000000\" font-family=\"sans-serif\" font-size=\"14\" lengthAdjust=\"spacing\" textLength=\"42\" x=\"147\" y=\"76.627\">item_1</text><line style=\"stroke:#181818;stroke-width:0.5;\" x1=\"135.5\" x2=\"200.5\" y1=\"84.7031\" y2=\"84.7031\"/><text fill=\"#000000\" font-family=\"sans-serif\" font-size=\"14\" lengthAdjust=\"spacing\" textLength=\"37\" x=\"140.5\" y=\"114.2801\">attr_5</text><text fill=\"#000000\" font-family=\"sans-serif\" font-size=\"14\" lengthAdjust=\"spacing\" textLength=\"37\" x=\"140.5\" y=\"131.8895\">attr_6</text><text fill=\"#000000\" font-family=\"sans-serif\" font-size=\"14\" font-style=\"italic\" lengthAdjust=\"spacing\" textLength=\"59\" x=\"138.5\" y=\"97.9316\">attributes</text></g></a><!--MD5=[270fce915f116d4de14055a7c1d9a0f3]\n",
       "class E5--><a href=\"psysml:37dd0acd-056f-4989-ab2c-d1029b49b8b5\" target=\"_top\" title=\"psysml:37dd0acd-056f-4989-ab2c-d1029b49b8b5\" xlink:actuate=\"onRequest\" xlink:href=\"psysml:37dd0acd-056f-4989-ab2c-d1029b49b8b5\" xlink:show=\"new\" xlink:title=\"psysml:37dd0acd-056f-4989-ab2c-d1029b49b8b5\" xlink:type=\"simple\"><g id=\"elem_E5\"><rect fill=\"#FFFFFF\" height=\"96.9656\" id=\"E5\" style=\"stroke:#181818;stroke-width:0.5;\" width=\"67\" x=\"32.5\" y=\"42\"/><text fill=\"#000000\" font-family=\"sans-serif\" font-size=\"12\" font-style=\"italic\" lengthAdjust=\"spacing\" textLength=\"61\" x=\"35.5\" y=\"59.457\">«item  def»</text><text fill=\"#000000\" font-family=\"sans-serif\" font-size=\"14\" lengthAdjust=\"spacing\" textLength=\"42\" x=\"45\" y=\"76.627\">item_2</text><line style=\"stroke:#181818;stroke-width:0.5;\" x1=\"33.5\" x2=\"98.5\" y1=\"84.7031\" y2=\"84.7031\"/><text fill=\"#000000\" font-family=\"sans-serif\" font-size=\"14\" lengthAdjust=\"spacing\" textLength=\"37\" x=\"38.5\" y=\"114.2801\">attr_7</text><text fill=\"#000000\" font-family=\"sans-serif\" font-size=\"14\" lengthAdjust=\"spacing\" textLength=\"37\" x=\"38.5\" y=\"131.8895\">attr_8</text><text fill=\"#000000\" font-family=\"sans-serif\" font-size=\"14\" font-style=\"italic\" lengthAdjust=\"spacing\" textLength=\"59\" x=\"36.5\" y=\"97.9316\">attributes</text></g></a><!--MD5=[77eaf9b94cccf4f9d19daf24dbc3fea7]\n",
       "@startuml\r\n",
       "skin sysmlbw\r\n",
       "skinparam monochrome true\r\n",
       "skinparam wrapWidth 300\r\n",
       "hide circle\r\n",
       "\r\n",
       "package \"general_definition\" as E1  [[psysml:e16bc90f-deb5-49a4-a858-b77c228b1bc7 ]]  {\r\n",
       "comp def \"part_1\" as E2  <<(T,blue) part  def>> [[psysml:f6fd0d25-ca15-4181-840b-05bb87b2588a ]] {\r\n",
       "##//attributes//##\r\n",
       "attr_1\r\n",
       "attr_2\r\n",
       "}\r\n",
       "comp def \"part_2\" as E3  <<(T,blue) part  def>> [[psysml:d1e03678-69c2-4bef-b49b-d51fb949fb0e ]] {\r\n",
       "##//attributes//##\r\n",
       "attr_3\r\n",
       "attr_4\r\n",
       "}\r\n",
       "comp def \"item_1\" as E4  <<(T,blue) item  def>> [[psysml:4699007c-2f66-431b-b518-470676264e7d ]] {\r\n",
       "##//attributes//##\r\n",
       "attr_5\r\n",
       "attr_6\r\n",
       "}\r\n",
       "comp def \"item_2\" as E5  <<(T,blue) item  def>> [[psysml:37dd0acd-056f-4989-ab2c-d1029b49b8b5 ]] {\r\n",
       "##//attributes//##\r\n",
       "attr_7\r\n",
       "attr_8\r\n",
       "}\r\n",
       "}\r\n",
       "@enduml\r\n",
       "\n",
       "PlantUML version 1.2022.7(Mon Aug 22 20:01:30 EEST 2022)\n",
       "(EPL source distribution)\n",
       "Java Runtime: OpenJDK Runtime Environment\n",
       "JVM: OpenJDK 64-Bit Server VM\n",
       "Default Encoding: UTF-8\n",
       "Language: en\n",
       "Country: US\n",
       "--></g></svg>"
      ]
     },
     "execution_count": 4,
     "metadata": {},
     "output_type": "execute_result"
    }
   ],
   "source": [
    "%viz --view=DEFAULT  general_definition"
   ]
  },
  {
   "cell_type": "code",
   "execution_count": 5,
   "id": "6586faea-35a1-4471-be48-32b597028c64",
   "metadata": {
    "tags": []
   },
   "outputs": [
    {
     "data": {
      "text/plain": [
       "Package port_definition (53f9541f-ec96-4453-8ea3-625c63666bed)\n"
      ]
     },
     "execution_count": 5,
     "metadata": {},
     "output_type": "execute_result"
    }
   ],
   "source": [
    "package port_definition{\n",
    "    private import general_definition::*;\n",
    "    \n",
    "    port def port_1{\n",
    "        out item it1:item_1;\n",
    "    }\n",
    "    port def port_2{\n",
    "        out item it2:item_2;\n",
    "    }\n",
    "}"
   ]
  },
  {
   "cell_type": "code",
   "execution_count": 6,
   "id": "bb9db6da-982b-4220-85ec-961e4e916fed",
   "metadata": {
    "tags": []
   },
   "outputs": [
    {
     "data": {
      "image/svg+xml": [
       "<?xml version=\"1.0\" encoding=\"UTF-8\" standalone=\"no\"?><svg xmlns=\"http://www.w3.org/2000/svg\" xmlns:xlink=\"http://www.w3.org/1999/xlink\" contentStyleType=\"text/css\" height=\"227px\" preserveAspectRatio=\"none\" style=\"width:259px;height:227px;background:#FFFFFF;\" version=\"1.1\" viewBox=\"0 0 259 227\" width=\"259px\" zoomAndPan=\"magnify\"><defs/><g><!--MD5=[fbc87193dbaf4d95561dea2c320d4a47]\n",
       "cluster E1--><g id=\"cluster_E1\"><a href=\"psysml:53f9541f-ec96-4453-8ea3-625c63666bed\" target=\"_top\" title=\"psysml:53f9541f-ec96-4453-8ea3-625c63666bed\" xlink:actuate=\"onRequest\" xlink:href=\"psysml:53f9541f-ec96-4453-8ea3-625c63666bed\" xlink:show=\"new\" xlink:title=\"psysml:53f9541f-ec96-4453-8ea3-625c63666bed\" xlink:type=\"simple\"><polygon fill=\"none\" points=\"16,6,126,6,133,29.6094,242,29.6094,242,220,16,220,16,6\" style=\"stroke:#000000;stroke-width:1.5;\"/><line style=\"stroke:#000000;stroke-width:1.5;\" x1=\"16\" x2=\"133\" y1=\"29.6094\" y2=\"29.6094\"/><text fill=\"#000000\" font-family=\"sans-serif\" font-size=\"14\" font-weight=\"bold\" lengthAdjust=\"spacing\" textLength=\"104\" x=\"20\" y=\"22.5332\">port_definition</text></a></g><!--MD5=[b4997ac47864f28c2f74865a473b2911]\n",
       "class E2--><a href=\"psysml:8aef7396-3f3e-45e7-b093-0fa109a85834\" target=\"_top\" title=\"psysml:8aef7396-3f3e-45e7-b093-0fa109a85834\" xlink:actuate=\"onRequest\" xlink:href=\"psysml:8aef7396-3f3e-45e7-b093-0fa109a85834\" xlink:show=\"new\" xlink:title=\"psysml:8aef7396-3f3e-45e7-b093-0fa109a85834\" xlink:type=\"simple\"><g id=\"elem_E2\"><rect fill=\"#FFFFFF\" height=\"50.7031\" id=\"E2\" style=\"stroke:#181818;stroke-width:0.5;\" width=\"60\" x=\"156\" y=\"42\"/><text fill=\"#000000\" font-family=\"sans-serif\" font-size=\"12\" font-style=\"italic\" lengthAdjust=\"spacing\" textLength=\"58\" x=\"157\" y=\"59.457\">«port  def»</text><text fill=\"#000000\" font-family=\"sans-serif\" font-size=\"14\" lengthAdjust=\"spacing\" textLength=\"41\" x=\"165.5\" y=\"76.627\">port_1</text><line style=\"stroke:#181818;stroke-width:0.5;\" x1=\"157\" x2=\"215\" y1=\"84.7031\" y2=\"84.7031\"/></g></a><!--MD5=[09b614a08d8cba4a07c9adeb5e0fee81]\n",
       "class E3--><a href=\"psysml:e0e37349-8efa-40ec-912e-ab777c5c38b0\" target=\"_top\" title=\"psysml:e0e37349-8efa-40ec-912e-ab777c5c38b0\" xlink:actuate=\"onRequest\" xlink:href=\"psysml:e0e37349-8efa-40ec-912e-ab777c5c38b0\" xlink:show=\"new\" xlink:title=\"psysml:e0e37349-8efa-40ec-912e-ab777c5c38b0\" xlink:type=\"simple\"><g id=\"elem_E3\"><rect fill=\"#FFFFFF\" height=\"50.7031\" id=\"E3\" rx=\"10\" ry=\"10\" style=\"stroke:#181818;stroke-width:0.5;\" width=\"79\" x=\"146.5\" y=\"153\"/><text fill=\"#000000\" font-family=\"sans-serif\" font-size=\"12\" font-style=\"italic\" lengthAdjust=\"spacing\" textLength=\"38\" x=\"167\" y=\"170.457\">«item»</text><text fill=\"#000000\" font-family=\"sans-serif\" font-size=\"14\" lengthAdjust=\"spacing\" textLength=\"65\" x=\"149.5\" y=\"187.627\">it1: item_1</text><line style=\"stroke:#181818;stroke-width:0.5;\" x1=\"147.5\" x2=\"224.5\" y1=\"195.7031\" y2=\"195.7031\"/></g></a><!--MD5=[ebbe1d658d1005bcc118a6aa81145e00]\n",
       "class E4--><a href=\"psysml:b63a6c6e-5bca-40a6-b7c0-8a1a835944e7\" target=\"_top\" title=\"psysml:b63a6c6e-5bca-40a6-b7c0-8a1a835944e7\" xlink:actuate=\"onRequest\" xlink:href=\"psysml:b63a6c6e-5bca-40a6-b7c0-8a1a835944e7\" xlink:show=\"new\" xlink:title=\"psysml:b63a6c6e-5bca-40a6-b7c0-8a1a835944e7\" xlink:type=\"simple\"><g id=\"elem_E4\"><rect fill=\"#FFFFFF\" height=\"50.7031\" id=\"E4\" style=\"stroke:#181818;stroke-width:0.5;\" width=\"60\" x=\"42\" y=\"42\"/><text fill=\"#000000\" font-family=\"sans-serif\" font-size=\"12\" font-style=\"italic\" lengthAdjust=\"spacing\" textLength=\"58\" x=\"43\" y=\"59.457\">«port  def»</text><text fill=\"#000000\" font-family=\"sans-serif\" font-size=\"14\" lengthAdjust=\"spacing\" textLength=\"41\" x=\"51.5\" y=\"76.627\">port_2</text><line style=\"stroke:#181818;stroke-width:0.5;\" x1=\"43\" x2=\"101\" y1=\"84.7031\" y2=\"84.7031\"/></g></a><!--MD5=[270fce915f116d4de14055a7c1d9a0f3]\n",
       "class E5--><a href=\"psysml:0f580d61-11c5-4d00-b38c-e174d827a932\" target=\"_top\" title=\"psysml:0f580d61-11c5-4d00-b38c-e174d827a932\" xlink:actuate=\"onRequest\" xlink:href=\"psysml:0f580d61-11c5-4d00-b38c-e174d827a932\" xlink:show=\"new\" xlink:title=\"psysml:0f580d61-11c5-4d00-b38c-e174d827a932\" xlink:type=\"simple\"><g id=\"elem_E5\"><rect fill=\"#FFFFFF\" height=\"50.7031\" id=\"E5\" rx=\"10\" ry=\"10\" style=\"stroke:#181818;stroke-width:0.5;\" width=\"79\" x=\"32.5\" y=\"153\"/><text fill=\"#000000\" font-family=\"sans-serif\" font-size=\"12\" font-style=\"italic\" lengthAdjust=\"spacing\" textLength=\"38\" x=\"53\" y=\"170.457\">«item»</text><text fill=\"#000000\" font-family=\"sans-serif\" font-size=\"14\" lengthAdjust=\"spacing\" textLength=\"65\" x=\"35.5\" y=\"187.627\">it2: item_2</text><line style=\"stroke:#181818;stroke-width:0.5;\" x1=\"33.5\" x2=\"110.5\" y1=\"195.7031\" y2=\"195.7031\"/></g></a><!--MD5=[209b3feb70ccb6233bfe1053d122c12c]\n",
       "reverse link E2 to E3--><g id=\"link_E2_E3\"><a href=\"psysml:6f77878e-1980-4cf7-b784-c1b595d5d5c3\" target=\"_top\" title=\"psysml:6f77878e-1980-4cf7-b784-c1b595d5d5c3\" xlink:actuate=\"onRequest\" xlink:href=\"psysml:6f77878e-1980-4cf7-b784-c1b595d5d5c3\" xlink:show=\"new\" xlink:title=\"psysml:6f77878e-1980-4cf7-b784-c1b595d5d5c3\" xlink:type=\"simple\"><path d=\"M186,106.63 C186,121.97 186,139.22 186,152.86 \" fill=\"none\" id=\"E2-backto-E3\" style=\"stroke:#181818;stroke-width:1.0;\"/><polygon fill=\"none\" points=\"186,93.23,182,99.23,186,105.23,190,99.23,186,93.23\" style=\"stroke:#181818;stroke-width:1.0;\"/></a></g><!--MD5=[62aa6af11e70f752912c1cb0466f24f7]\n",
       "reverse link E4 to E5--><g id=\"link_E4_E5\"><a href=\"psysml:cad4b63a-f0eb-4e2b-b4ee-ef1cedb75ed8\" target=\"_top\" title=\"psysml:cad4b63a-f0eb-4e2b-b4ee-ef1cedb75ed8\" xlink:actuate=\"onRequest\" xlink:href=\"psysml:cad4b63a-f0eb-4e2b-b4ee-ef1cedb75ed8\" xlink:show=\"new\" xlink:title=\"psysml:cad4b63a-f0eb-4e2b-b4ee-ef1cedb75ed8\" xlink:type=\"simple\"><path d=\"M72,106.63 C72,121.97 72,139.22 72,152.86 \" fill=\"none\" id=\"E4-backto-E5\" style=\"stroke:#181818;stroke-width:1.0;\"/><polygon fill=\"none\" points=\"72,93.23,68,99.23,72,105.23,76,99.23,72,93.23\" style=\"stroke:#181818;stroke-width:1.0;\"/></a></g><!--MD5=[b10be7ecc91bd2df4b4b4bd8aa4761b6]\n",
       "@startuml\r\n",
       "skin sysmlbw\r\n",
       "skinparam monochrome true\r\n",
       "skinparam wrapWidth 300\r\n",
       "hide circle\r\n",
       "\r\n",
       "package \"port_definition\" as E1  [[psysml:53f9541f-ec96-4453-8ea3-625c63666bed ]]  {\r\n",
       "comp def \"port_1\" as E2  <<(T,blue) port  def>> [[psysml:8aef7396-3f3e-45e7-b093-0fa109a85834 ]] {\r\n",
       "}\r\n",
       "comp usage \"it1: item_1  \" as E3  <<(T,blue) item>> [[psysml:e0e37349-8efa-40ec-912e-ab777c5c38b0 ]] {\r\n",
       "}\r\n",
       "comp def \"port_2\" as E4  <<(T,blue) port  def>> [[psysml:b63a6c6e-5bca-40a6-b7c0-8a1a835944e7 ]] {\r\n",
       "}\r\n",
       "comp usage \"it2: item_2  \" as E5  <<(T,blue) item>> [[psysml:0f580d61-11c5-4d00-b38c-e174d827a932 ]] {\r\n",
       "}\r\n",
       "}\r\n",
       "E2 o- - E3 [[psysml:6f77878e-1980-4cf7-b784-c1b595d5d5c3 ]] \r\n",
       "E4 o- - E5 [[psysml:cad4b63a-f0eb-4e2b-b4ee-ef1cedb75ed8 ]] \r\n",
       "@enduml\r\n",
       "\n",
       "PlantUML version 1.2022.7(Mon Aug 22 20:01:30 EEST 2022)\n",
       "(EPL source distribution)\n",
       "Java Runtime: OpenJDK Runtime Environment\n",
       "JVM: OpenJDK 64-Bit Server VM\n",
       "Default Encoding: UTF-8\n",
       "Language: en\n",
       "Country: US\n",
       "--></g></svg>"
      ]
     },
     "execution_count": 6,
     "metadata": {},
     "output_type": "execute_result"
    }
   ],
   "source": [
    "%viz port_definition"
   ]
  },
  {
   "cell_type": "code",
   "execution_count": 7,
   "id": "681aeb7a-baea-4880-9280-c7c7e312721a",
   "metadata": {
    "tags": []
   },
   "outputs": [
    {
     "data": {
      "text/plain": [
       "Package interface_definition (4abba886-707d-4824-9230-c36bb15118d2)\n"
      ]
     },
     "execution_count": 7,
     "metadata": {},
     "output_type": "execute_result"
    }
   ],
   "source": [
    "package interface_definition{\n",
    "    private import general_definition::*;\n",
    "    private import port_definition::*;  \n",
    "    \n",
    "    interface def interface_1{\n",
    "        end output:port_1;\n",
    "        end input:~port_1;\n",
    "    flow of item_1 from output.it1 to input.it1;\n",
    "    }\n",
    "    \n",
    "}"
   ]
  },
  {
   "cell_type": "code",
   "execution_count": 8,
   "id": "612ba1ed-d9c9-4905-8f26-84b8cd2083b3",
   "metadata": {
    "tags": []
   },
   "outputs": [
    {
     "data": {
      "image/svg+xml": [
       "<?xml version=\"1.0\" encoding=\"UTF-8\" standalone=\"no\"?><svg xmlns=\"http://www.w3.org/2000/svg\" xmlns:xlink=\"http://www.w3.org/1999/xlink\" contentStyleType=\"text/css\" height=\"285px\" preserveAspectRatio=\"none\" style=\"width:550px;height:285px;background:#FFFFFF;\" version=\"1.1\" viewBox=\"0 0 550 285\" width=\"550px\" zoomAndPan=\"magnify\"><defs/><g><!--MD5=[fbc87193dbaf4d95561dea2c320d4a47]\n",
       "cluster E1--><g id=\"cluster_E1\"><a href=\"psysml:4abba886-707d-4824-9230-c36bb15118d2\" target=\"_top\" title=\"psysml:4abba886-707d-4824-9230-c36bb15118d2\" xlink:actuate=\"onRequest\" xlink:href=\"psysml:4abba886-707d-4824-9230-c36bb15118d2\" xlink:show=\"new\" xlink:title=\"psysml:4abba886-707d-4824-9230-c36bb15118d2\" xlink:type=\"simple\"><polygon fill=\"none\" points=\"16,6,160,6,167,29.6094,533,29.6094,533,278,16,278,16,6\" style=\"stroke:#000000;stroke-width:1.5;\"/><line style=\"stroke:#000000;stroke-width:1.5;\" x1=\"16\" x2=\"167\" y1=\"29.6094\" y2=\"29.6094\"/><text fill=\"#000000\" font-family=\"sans-serif\" font-size=\"14\" font-weight=\"bold\" lengthAdjust=\"spacing\" textLength=\"138\" x=\"20\" y=\"22.5332\">interface_definition</text></a></g><!--MD5=[e4f7fae6ed58524ba242bb0b0d3be6b7]\n",
       "cluster E2--><g id=\"cluster_E2\"><a href=\"psysml:d3dcd0f5-acfb-4f2c-8fb8-0354a895c57c\" target=\"_top\" title=\"psysml:d3dcd0f5-acfb-4f2c-8fb8-0354a895c57c\" xlink:actuate=\"onRequest\" xlink:href=\"psysml:d3dcd0f5-acfb-4f2c-8fb8-0354a895c57c\" xlink:show=\"new\" xlink:title=\"psysml:d3dcd0f5-acfb-4f2c-8fb8-0354a895c57c\" xlink:type=\"simple\"><rect fill=\"#FFFFFF\" height=\"204\" id=\"E2\" style=\"stroke:#383838;stroke-width:1.5;\" width=\"469\" x=\"40\" y=\"50\"/><text fill=\"#000000\" font-family=\"sans-serif\" font-size=\"12\" font-style=\"italic\" lengthAdjust=\"spacing\" textLength=\"84\" x=\"232.5\" y=\"67.457\">«interface  def»</text><text fill=\"#000000\" font-family=\"sans-serif\" font-size=\"14\" lengthAdjust=\"spacing\" textLength=\"71\" x=\"239\" y=\"84.627\">interface_1</text><line style=\"stroke:#383838;stroke-width:1.0;\" x1=\"40\" x2=\"509\" y1=\"92.7031\" y2=\"92.7031\"/></a></g><!--MD5=[f6df4d0ebaf0b5dfb2ced0ae5af7c670]\n",
       "cluster E4--><g id=\"cluster_E4\"><a href=\"psysml:3657844b-89ef-4aa0-b195-7348becd021e\" target=\"_top\" title=\"psysml:3657844b-89ef-4aa0-b195-7348becd021e\" xlink:actuate=\"onRequest\" xlink:href=\"psysml:3657844b-89ef-4aa0-b195-7348becd021e\" xlink:show=\"new\" xlink:title=\"psysml:3657844b-89ef-4aa0-b195-7348becd021e\" xlink:type=\"simple\"><rect fill=\"#FFFFFF\" height=\"118\" id=\"E4\" rx=\"10\" ry=\"10\" style=\"stroke:#383838;stroke-width:1.5;\" width=\"123\" x=\"64\" y=\"112\"/><text fill=\"#000000\" font-family=\"sans-serif\" font-size=\"12\" font-style=\"italic\" lengthAdjust=\"spacing\" textLength=\"35\" x=\"108\" y=\"129.457\">«port»</text><text fill=\"#000000\" font-family=\"sans-serif\" font-size=\"14\" lengthAdjust=\"spacing\" textLength=\"89\" x=\"77\" y=\"146.627\">output: port_1</text><line style=\"stroke:#383838;stroke-width:1.0;\" x1=\"64\" x2=\"187\" y1=\"154.7031\" y2=\"154.7031\"/></a></g><!--MD5=[14e3b0961a2654348d326746436168a1]\n",
       "cluster E6--><g id=\"cluster_E6\"><a href=\"psysml:dd118fef-f3cf-4392-b2fb-1951fc61b288\" target=\"_top\" title=\"psysml:dd118fef-f3cf-4392-b2fb-1951fc61b288\" xlink:actuate=\"onRequest\" xlink:href=\"psysml:dd118fef-f3cf-4392-b2fb-1951fc61b288\" xlink:show=\"new\" xlink:title=\"psysml:dd118fef-f3cf-4392-b2fb-1951fc61b288\" xlink:type=\"simple\"><rect fill=\"#FFFFFF\" height=\"118\" id=\"E6\" rx=\"10\" ry=\"10\" style=\"stroke:#383838;stroke-width:1.5;\" width=\"121\" x=\"364\" y=\"112\"/><text fill=\"#000000\" font-family=\"sans-serif\" font-size=\"12\" font-style=\"italic\" lengthAdjust=\"spacing\" textLength=\"35\" x=\"407\" y=\"129.457\">«port»</text><text fill=\"#000000\" font-family=\"sans-serif\" font-size=\"14\" lengthAdjust=\"spacing\" textLength=\"88\" x=\"376.5\" y=\"146.627\">input: ~port_1</text><line style=\"stroke:#383838;stroke-width:1.0;\" x1=\"364\" x2=\"485\" y1=\"154.7031\" y2=\"154.7031\"/></a></g><g><a href=\"psysml:e0e37349-8efa-40ec-912e-ab777c5c38b0\" target=\"_top\" title=\"psysml:e0e37349-8efa-40ec-912e-ab777c5c38b0\" xlink:actuate=\"onRequest\" xlink:href=\"psysml:e0e37349-8efa-40ec-912e-ab777c5c38b0\" xlink:show=\"new\" xlink:title=\"psysml:e0e37349-8efa-40ec-912e-ab777c5c38b0\" xlink:type=\"simple\"><rect fill=\"#FFFFFF\" height=\"47.7031\" id=\"E3\" rx=\"10\" ry=\"10\" style=\"stroke:#383838;stroke-width:1.5;\" width=\"81\" x=\"85\" y=\"166\"/><text fill=\"#000000\" font-family=\"sans-serif\" font-size=\"12\" font-style=\"italic\" lengthAdjust=\"spacing\" textLength=\"38\" x=\"106.5\" y=\"183.457\">«item»</text><text fill=\"#000000\" font-family=\"sans-serif\" font-size=\"14\" lengthAdjust=\"spacing\" textLength=\"70\" x=\"90.5\" y=\"200.627\">^it1: item_1</text></a></g><g><a href=\"psysml:e0e37349-8efa-40ec-912e-ab777c5c38b0\" target=\"_top\" title=\"psysml:e0e37349-8efa-40ec-912e-ab777c5c38b0\" xlink:actuate=\"onRequest\" xlink:href=\"psysml:e0e37349-8efa-40ec-912e-ab777c5c38b0\" xlink:show=\"new\" xlink:title=\"psysml:e0e37349-8efa-40ec-912e-ab777c5c38b0\" xlink:type=\"simple\"><rect fill=\"#FFFFFF\" height=\"47.7031\" id=\"E5\" rx=\"10\" ry=\"10\" style=\"stroke:#383838;stroke-width:1.5;\" width=\"81\" x=\"384\" y=\"166\"/><text fill=\"#000000\" font-family=\"sans-serif\" font-size=\"12\" font-style=\"italic\" lengthAdjust=\"spacing\" textLength=\"38\" x=\"405.5\" y=\"183.457\">«item»</text><text fill=\"#000000\" font-family=\"sans-serif\" font-size=\"14\" lengthAdjust=\"spacing\" textLength=\"70\" x=\"389.5\" y=\"200.627\">^it1: item_1</text></a></g><!--MD5=[0188b64bb0ae78505a997a81836e11e9]\n",
       "link E3 to E5--><g id=\"link_E3_E5\"><a href=\"psysml:6534b960-35f8-4da1-a217-c03343d8c25b\" target=\"_top\" title=\"psysml:6534b960-35f8-4da1-a217-c03343d8c25b\" xlink:actuate=\"onRequest\" xlink:href=\"psysml:6534b960-35f8-4da1-a217-c03343d8c25b\" xlink:show=\"new\" xlink:title=\"psysml:6534b960-35f8-4da1-a217-c03343d8c25b\" xlink:type=\"simple\"><path d=\"M166.25,190 C221.48,190 321.16,190 378.88,190 \" fill=\"none\" id=\"E3-to-E5\" style=\"stroke:#181818;stroke-width:1.0;\"/><polygon fill=\"#181818\" points=\"383.99,190,374.99,186,378.99,190,374.99,194,383.99,190\" style=\"stroke:#181818;stroke-width:1.0;\"/><text fill=\"#000000\" font-family=\"sans-serif\" font-size=\"13\" lengthAdjust=\"spacing\" textLength=\"47\" x=\"252\" y=\"186.4951\">: item_1</text></a></g><!--MD5=[6259eff0e3fd2e8cece40dfea4199aea]\n",
       "@startuml\r\n",
       "skin sysmlbw\r\n",
       "skinparam monochrome true\r\n",
       "skinparam wrapWidth 300\r\n",
       "hide circle\r\n",
       "left to right direction\r\n",
       "skinparam ranksep 10\r\n",
       "skinparam rectangle {\r\n",
       " backgroundColor<<block>> LightGreen\r\n",
       "}\r\n",
       "\r\n",
       "package \"interface_definition\" as E1  [[psysml:4abba886-707d-4824-9230-c36bb15118d2 ]]  {\r\n",
       "rec def \"interface_1\" as E2  <<(T,blue) interface  def>> [[psysml:d3dcd0f5-acfb-4f2c-8fb8-0354a895c57c ]] {\r\n",
       "rec usage \"output: port_1  \" as E4  <<(T,blue) port>> [[psysml:3657844b-89ef-4aa0-b195-7348becd021e ]] {\r\n",
       "rec usage \"^it1: item_1\" as E3  <<(T,blue) item>> [[psysml:e0e37349-8efa-40ec-912e-ab777c5c38b0 ]] {\r\n",
       "}\r\n",
       "}\r\n",
       "rec usage \"input: ~port_1  \" as E6  <<(T,blue) port>> [[psysml:dd118fef-f3cf-4392-b2fb-1951fc61b288 ]] {\r\n",
       "rec usage \"^it1: item_1\" as E5  <<(T,blue) item>> [[psysml:e0e37349-8efa-40ec-912e-ab777c5c38b0 ]] {\r\n",
       "}\r\n",
       "}\r\n",
       "}\r\n",
       "}\r\n",
       "E3 - -> E5 [[psysml:6534b960-35f8-4da1-a217-c03343d8c25b ]] : : item_1\r\n",
       "@enduml\r\n",
       "\n",
       "PlantUML version 1.2022.7(Mon Aug 22 20:01:30 EEST 2022)\n",
       "(EPL source distribution)\n",
       "Java Runtime: OpenJDK Runtime Environment\n",
       "JVM: OpenJDK 64-Bit Server VM\n",
       "Default Encoding: UTF-8\n",
       "Language: en\n",
       "Country: US\n",
       "--></g></svg>"
      ]
     },
     "execution_count": 8,
     "metadata": {},
     "output_type": "execute_result"
    }
   ],
   "source": [
    "%viz --view=INTERCONNECTION --style=LR interface_definition"
   ]
  },
  {
   "cell_type": "code",
   "execution_count": 10,
   "id": "648fed13-65ce-4432-8407-df225d451ece",
   "metadata": {
    "tags": []
   },
   "outputs": [
    {
     "data": {
      "text/plain": [
       "Package system_definition (648e6019-9aaf-45a3-b39b-33430f836274)\n"
      ]
     },
     "execution_count": 10,
     "metadata": {},
     "output_type": "execute_result"
    }
   ],
   "source": [
    "package system_definition{\n",
    "    private import general_definition::*;\n",
    "    private import port_definition::*;\n",
    "    private import interface_definition::*;  \n",
    "    \n",
    "    part sub_system1 : part_1 {\n",
    "        port Out : port_1;\n",
    "    }\n",
    "    part sub_system2 : part_2 {\n",
    "        port In : port_1;\n",
    "    }\n",
    "    \n",
    "    interface sys_interface connect sub_system1.Out to sub_system2.In;\n",
    "}"
   ]
  },
  {
   "cell_type": "code",
   "execution_count": 12,
   "id": "62b32f14-60f5-449e-8821-46d37ce31f36",
   "metadata": {
    "tags": []
   },
   "outputs": [
    {
     "data": {
      "image/svg+xml": [
       "<?xml version=\"1.0\" encoding=\"UTF-8\" standalone=\"no\"?><svg xmlns=\"http://www.w3.org/2000/svg\" xmlns:xlink=\"http://www.w3.org/1999/xlink\" contentStyleType=\"text/css\" height=\"117px\" preserveAspectRatio=\"none\" style=\"width:505px;height:117px;background:#FFFFFF;\" version=\"1.1\" viewBox=\"0 0 505 117\" width=\"505px\" zoomAndPan=\"magnify\"><defs/><g><!--MD5=[fbc87193dbaf4d95561dea2c320d4a47]\n",
       "cluster E1--><g id=\"cluster_E1\"><a href=\"psysml:648e6019-9aaf-45a3-b39b-33430f836274\" target=\"_top\" title=\"psysml:648e6019-9aaf-45a3-b39b-33430f836274\" xlink:actuate=\"onRequest\" xlink:href=\"psysml:648e6019-9aaf-45a3-b39b-33430f836274\" xlink:show=\"new\" xlink:title=\"psysml:648e6019-9aaf-45a3-b39b-33430f836274\" xlink:type=\"simple\"><polygon fill=\"none\" points=\"16,6,146,6,153,29.6094,488.72,29.6094,488.72,110,16,110,16,6\" style=\"stroke:#000000;stroke-width:1.5;\"/><line style=\"stroke:#000000;stroke-width:1.5;\" x1=\"16\" x2=\"153\" y1=\"29.6094\" y2=\"29.6094\"/><text fill=\"#000000\" font-family=\"sans-serif\" font-size=\"14\" font-weight=\"bold\" lengthAdjust=\"spacing\" textLength=\"124\" x=\"20\" y=\"22.5332\">system_definition</text></a></g><!--MD5=[e4f7fae6ed58524ba242bb0b0d3be6b7]\n",
       "cluster E2--><g id=\"cluster_E2\"><a href=\"psysml:e033cd3d-a2d8-477a-9931-22e0279ff9d5\" target=\"_top\" title=\"psysml:e033cd3d-a2d8-477a-9931-22e0279ff9d5\" xlink:actuate=\"onRequest\" xlink:href=\"psysml:e033cd3d-a2d8-477a-9931-22e0279ff9d5\" xlink:show=\"new\" xlink:title=\"psysml:e033cd3d-a2d8-477a-9931-22e0279ff9d5\" xlink:type=\"simple\"><rect fill=\"#FFFFFF\" height=\"52\" id=\"E2\" rx=\"10\" ry=\"10\" style=\"stroke:#383838;stroke-width:1.5;\" width=\"207.72\" x=\"32\" y=\"42\"/><text fill=\"#000000\" font-family=\"sans-serif\" font-size=\"14\" lengthAdjust=\"spacing\" textLength=\"132\" x=\"69.86\" y=\"61.5332\">sub_system1: part_1</text><line style=\"stroke:#383838;stroke-width:1.0;\" x1=\"32\" x2=\"239.72\" y1=\"69.6094\" y2=\"69.6094\"/></a></g><!--MD5=[f6df4d0ebaf0b5dfb2ced0ae5af7c670]\n",
       "cluster E4--><g id=\"cluster_E4\"><a href=\"psysml:f8e2fa07-451e-43d0-a1ca-064bc7827541\" target=\"_top\" title=\"psysml:f8e2fa07-451e-43d0-a1ca-064bc7827541\" xlink:actuate=\"onRequest\" xlink:href=\"psysml:f8e2fa07-451e-43d0-a1ca-064bc7827541\" xlink:show=\"new\" xlink:title=\"psysml:f8e2fa07-451e-43d0-a1ca-064bc7827541\" xlink:type=\"simple\"><rect fill=\"#FFFFFF\" height=\"52\" id=\"E4\" rx=\"10\" ry=\"10\" style=\"stroke:#383838;stroke-width:1.5;\" width=\"197\" x=\"275.72\" y=\"42\"/><text fill=\"#000000\" font-family=\"sans-serif\" font-size=\"14\" lengthAdjust=\"spacing\" textLength=\"132\" x=\"308.22\" y=\"61.5332\">sub_system2: part_2</text><line style=\"stroke:#383838;stroke-width:1.0;\" x1=\"275.72\" x2=\"472.72\" y1=\"69.6094\" y2=\"69.6094\"/></a></g><text fill=\"#000000\" font-family=\"sans-serif\" font-size=\"14\" lengthAdjust=\"spacing\" textLength=\"72\" x=\"199.72\" y=\"46.9238\">Out: port_1</text><rect fill=\"#FFFFFF\" height=\"12\" style=\"stroke:#181818;stroke-width:1.5;\" width=\"12\" x=\"233.72\" y=\"62\"/><text fill=\"#000000\" font-family=\"sans-serif\" font-size=\"14\" lengthAdjust=\"spacing\" textLength=\"60\" x=\"241.72\" y=\"46.9238\">In: port_1</text><rect fill=\"#FFFFFF\" height=\"12\" style=\"stroke:#181818;stroke-width:1.5;\" width=\"12\" x=\"269.72\" y=\"62\"/><!--MD5=[0188b64bb0ae78505a997a81836e11e9]\n",
       "link E3 to E5--><g id=\"link_E3_E5\"><a href=\"psysml:445a6ff0-2a4f-4035-b21d-7dc45c1daed2\" target=\"_top\" title=\"psysml:445a6ff0-2a4f-4035-b21d-7dc45c1daed2\" xlink:actuate=\"onRequest\" xlink:href=\"psysml:445a6ff0-2a4f-4035-b21d-7dc45c1daed2\" xlink:show=\"new\" xlink:title=\"psysml:445a6ff0-2a4f-4035-b21d-7dc45c1daed2\" xlink:type=\"simple\"><path d=\"M245.99,68 C252.6,68 262.94,68 269.52,68 \" fill=\"none\" id=\"E3-E5\" style=\"stroke:#181818;stroke-width:3.0;\"/></a></g><!--MD5=[d6d1e458e028ea9bb9d763a070590732]\n",
       "@startuml\r\n",
       "skin sysmlbw\r\n",
       "skinparam monochrome true\r\n",
       "skinparam wrapWidth 300\r\n",
       "hide circle\r\n",
       "skinparam linetype ortho\r\n",
       "left to right direction\r\n",
       "skinparam ranksep 10\r\n",
       "skinparam rectangle {\r\n",
       " backgroundColor<<block>> LightGreen\r\n",
       "}\r\n",
       "\r\n",
       "package \"system_definition\" as E1  [[psysml:648e6019-9aaf-45a3-b39b-33430f836274 ]]  {\r\n",
       "rec usage \"sub_system1: part_1\" as E2 [[psysml:e033cd3d-a2d8-477a-9931-22e0279ff9d5 ]] {\r\n",
       "portout \"Out: port_1  \" as E3  <<(T,blue) port>> [[psysml:45cf9aba-240a-4058-85c3-81e943d6d87e ]] \r\n",
       "}\r\n",
       "rec usage \"sub_system2: part_2\" as E4 [[psysml:f8e2fa07-451e-43d0-a1ca-064bc7827541 ]] {\r\n",
       "portin \"In: port_1  \" as E5  <<(T,blue) port>> [[psysml:92f5fc2d-f850-4659-8fdc-276acfe7abcb ]] \r\n",
       "}\r\n",
       "}\r\n",
       "E3 -[thickness=3]- E5 [[psysml:445a6ff0-2a4f-4035-b21d-7dc45c1daed2 ]] \r\n",
       "@enduml\r\n",
       "\n",
       "PlantUML version 1.2022.7(Mon Aug 22 20:01:30 EEST 2022)\n",
       "(EPL source distribution)\n",
       "Java Runtime: OpenJDK Runtime Environment\n",
       "JVM: OpenJDK 64-Bit Server VM\n",
       "Default Encoding: UTF-8\n",
       "Language: en\n",
       "Country: US\n",
       "--></g></svg>"
      ]
     },
     "execution_count": 12,
     "metadata": {},
     "output_type": "execute_result"
    }
   ],
   "source": [
    "%viz --view=INTERCONNECTION --style=ORTHOLINE --style=LR   system_definition"
   ]
  },
  {
   "cell_type": "code",
   "execution_count": null,
   "id": "ae18d528-4ccd-467d-aa0d-fc3c009a8342",
   "metadata": {},
   "outputs": [],
   "source": []
  },
  {
   "cell_type": "code",
   "execution_count": null,
   "id": "f29a8eb6-c64e-4617-8e58-92e131f4d409",
   "metadata": {},
   "outputs": [],
   "source": []
  }
 ],
 "metadata": {
  "kernelspec": {
   "display_name": "SysML",
   "language": "sysml",
   "name": "sysml"
  },
  "language_info": {
   "codemirror_mode": "sysml",
   "file_extension": ".sysml",
   "mimetype": "text/x-sysml",
   "name": "SysML",
   "pygments_lexer": "java",
   "version": "1.0.0"
  }
 },
 "nbformat": 4,
 "nbformat_minor": 5
}
